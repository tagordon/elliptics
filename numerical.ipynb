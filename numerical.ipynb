{
 "cells": [
  {
   "cell_type": "code",
   "execution_count": 58,
   "metadata": {},
   "outputs": [],
   "source": [
    "import numpy as np\n",
    "import matplotlib.pyplot as plt\n",
    "import ctypes\n",
    "from array import array\n",
    "photlib = ctypes.CDLL(\"./c_src/cwrapper.so\")\n",
    "fortran = ctypes.CDLL(\"./c_src/fwrapper.so\")"
   ]
  },
  {
   "cell_type": "code",
   "execution_count": 59,
   "metadata": {},
   "outputs": [],
   "source": [
    "def flux(c1, c2, rp, rm, bp, bpm, cth, sth):\n",
    "    \n",
    "    bp = (ctypes.c_double * len(bp)).from_buffer(bp)\n",
    "    bpm = (ctypes.c_double * len(bpm)).from_buffer(bpm)\n",
    "    cth = (ctypes.c_double * len(cth)).from_buffer(cth)\n",
    "    sth = (ctypes.c_double * len(sth)).from_buffer(sth)\n",
    "    lc = ((ctypes.c_double * 8) * len(bp)).from_buffer(np.zeros((8, len(bp))))\n",
    "    rp = ctypes.c_double(rp)\n",
    "    rm = ctypes.c_double(rm)\n",
    "    c1 = ctypes.c_double(c1)\n",
    "    c2 = ctypes.c_double(c2)\n",
    "    j = ctypes.c_int(len(bp))\n",
    "    photlib.LC.restype = None\n",
    "    photlib.LC(c1, c2, rp, rm, bp, bpm, cth, sth, lc, j)\n",
    "    return np.array(lc)\n",
    "\n",
    "def coords(t, ms, t0p, ep, Pp, Op, wp, ip, mp, t0m, em, Pm, Om, wm, im, mm):\n",
    "    \n",
    "    photlib.system_coords.restype = None\n",
    "    j = len(t)\n",
    "    \n",
    "    xs = (ctypes.c_double * len(t)).from_buffer(np.zeros(j))\n",
    "    ys = (ctypes.c_double * len(t)).from_buffer(np.zeros(j))\n",
    "    zs = (ctypes.c_double * len(t)).from_buffer(np.zeros(j))\n",
    "    xp = (ctypes.c_double * len(t)).from_buffer(np.zeros(j))\n",
    "    yp = (ctypes.c_double * len(t)).from_buffer(np.zeros(j))\n",
    "    zp = (ctypes.c_double * len(t)).from_buffer(np.zeros(j))\n",
    "    xm = (ctypes.c_double * len(t)).from_buffer(np.zeros(j))\n",
    "    ym = (ctypes.c_double * len(t)).from_buffer(np.zeros(j))\n",
    "    zm = (ctypes.c_double * len(t)).from_buffer(np.zeros(j))\n",
    "    t = (ctypes.c_double * len(t)).from_buffer(t)\n",
    "    j = ctypes.c_int(j)\n",
    "    \n",
    "    ms = ctypes.c_double(ms)\n",
    "    t0p = ctypes.c_double(t0p)\n",
    "    ep = ctypes.c_double(ep)\n",
    "    Pp = ctypes.c_double(Pp)\n",
    "    Op = ctypes.c_double(Op)\n",
    "    wp = ctypes.c_double(wp)\n",
    "    ip = ctypes.c_double(ip)\n",
    "    mp = ctypes.c_double(mp)\n",
    "    t0m = ctypes.c_double(t0m)\n",
    "    em = ctypes.c_double(em)\n",
    "    Pm = ctypes.c_double(Pm)\n",
    "    Om = ctypes.c_double(Om)\n",
    "    wm = ctypes.c_double(wm)\n",
    "    im = ctypes.c_double(im)\n",
    "    mm = ctypes.c_double(mm)\n",
    "    \n",
    "    photlib.system_coords(t, ms, t0p, ep, Pp, Op, wp, ip, mp, t0m, em, Pm, Om, wm, im, mm, j, xs, ys, zs, xp, yp, zp, xm, ym, zm)\n",
    "    return np.array(xs), np.array(ys), np.array(zs), np.array(xp), np.array(yp), np.array(zp), np.array(xm), np.array(ym), np.array(zm)\n",
    "\n",
    "def impacts(t, ms, t0p, ep, Pp, Op, wp, ip, mp, t0m, em, Pm, Om, wm, im, mm):\n",
    "    \n",
    "    photlib.system_impacts.restype = None\n",
    "    j = len(t)\n",
    "    \n",
    "    bp2 = (ctypes.c_double * j).from_buffer(np.zeros(j))\n",
    "    bm2 = (ctypes.c_double * j).from_buffer(np.zeros(j))\n",
    "    bpm2 = (ctypes.c_double * j).from_buffer(np.zeros(j))\n",
    "    x = (ctypes.c_double * j).from_buffer(np.zeros(j))\n",
    "    y = (ctypes.c_double * j).from_buffer(np.zeros(j))\n",
    "    xbc = (ctypes.c_double * j).from_buffer(np.zeros(j))\n",
    "    ybc = (ctypes.c_double * j).from_buffer(np.zeros(j))\n",
    "    t = (ctypes.c_double * j).from_buffer(t)\n",
    "    j = ctypes.c_int(j)\n",
    "    \n",
    "    ms = ctypes.c_double(ms)\n",
    "    t0p = ctypes.c_double(t0p)\n",
    "    ep = ctypes.c_double(ep)\n",
    "    Pp = ctypes.c_double(Pp)\n",
    "    Op = ctypes.c_double(Op)\n",
    "    wp = ctypes.c_double(wp)\n",
    "    ip = ctypes.c_double(ip)\n",
    "    mp = ctypes.c_double(mp)\n",
    "    t0m = ctypes.c_double(t0m)\n",
    "    em = ctypes.c_double(em)\n",
    "    Pm = ctypes.c_double(Pm)\n",
    "    Om = ctypes.c_double(Om)\n",
    "    wm = ctypes.c_double(wm)\n",
    "    im = ctypes.c_double(im)\n",
    "    mm = ctypes.c_double(mm)\n",
    "    \n",
    "    photlib.system_impacts(t, ms, t0p, ep, Pp, Op, wp, ip, mp, t0m, em, Pm, Om, wm, im, mm, j, x, y, xbc, ybc, bp2, bm2, bpm2)\n",
    "    return np.array(bp2), np.array(bm2), np.array(bpm2)\n",
    "\n",
    "def bp_bpm_theta(t, ms, t0p, ep, Pp, wp, ip, mp, t0m, em, Pm, Om, wm, im, mm):\n",
    "    \n",
    "    photlib.system_bp_bpm_theta.restype = None\n",
    "    j = len(t)\n",
    "    \n",
    "    bp = (ctypes.c_double * j).from_buffer(np.zeros(j))\n",
    "    bpm = (ctypes.c_double * j).from_buffer(np.zeros(j))\n",
    "    theta = (ctypes.c_double * j).from_buffer(np.zeros(j))\n",
    "    t = (ctypes.c_double * j).from_buffer(t)\n",
    "    j = ctypes.c_int(j)\n",
    "    \n",
    "    ms = ctypes.c_double(ms)\n",
    "    t0p = ctypes.c_double(t0p)\n",
    "    ep = ctypes.c_double(ep)\n",
    "    Pp = ctypes.c_double(Pp)\n",
    "    wp = ctypes.c_double(wp)\n",
    "    ip = ctypes.c_double(ip)\n",
    "    mp = ctypes.c_double(mp)\n",
    "    t0m = ctypes.c_double(t0m)\n",
    "    em = ctypes.c_double(em)\n",
    "    Pm = ctypes.c_double(Pm)\n",
    "    Om = ctypes.c_double(Om)\n",
    "    wm = ctypes.c_double(wm)\n",
    "    im = ctypes.c_double(im)\n",
    "    mm = ctypes.c_double(mm)\n",
    "    \n",
    "    photlib.system_bp_bpm_theta(t, ms, t0p, ep, Pp, wp, ip, mp, t0m, em, Pm, Om, wm, im, mm, j, bp, bpm, theta)\n",
    "    return np.array(bp), np.array(bpm), np.array(theta)"
   ]
  },
  {
   "cell_type": "code",
   "execution_count": 250,
   "metadata": {},
   "outputs": [
    {
     "name": "stdout",
     "output_type": "stream",
     "text": [
      "CPU times: user 289 µs, sys: 481 µs, total: 770 µs\n",
      "Wall time: 838 µs\n"
     ]
    }
   ],
   "source": [
    "t = np.array([79.6])\n",
    "ms = ac.M_sun.value / ac.M_earth.value\n",
    "\n",
    "t0p = 0\n",
    "ep = 0.1\n",
    "Pp = 365\n",
    "Op = 30 * np.pi / 180\n",
    "wp = 0.0 * np.pi / 180\n",
    "ip = 1 * np.pi / 2\n",
    "mp = 10.0\n",
    "\n",
    "t0m = -1.4\n",
    "em = 0.3\n",
    "Pm = 1\n",
    "Om = 80 * np.pi / 180\n",
    "wm = 10.0 * np.pi / 180\n",
    "im = 90 * np.pi / 180\n",
    "mm = 5.0\n",
    "\n",
    "%time bp2, bm2, bpm2 = impacts(t, ms, t0p, ep, Pp, Op, wp, ip, mp, t0m, em, Pm, Om, wm, im, mm)\n",
    "xs, ys, zx, xp, yp, zp, xm, ym, zm = coords(t, ms, t0p, ep, Pp, Op, wp, ip, mp, t0m, em, Pm, Om, wm, im, mm)\n",
    "\n",
    "xp *= (ac.au.value / ac.R_sun.value)\n",
    "yp *= (ac.au.value / ac.R_sun.value)\n",
    "zp *= (ac.au.value / ac.R_sun.value)\n",
    "xm *= (ac.au.value / ac.R_sun.value)\n",
    "ym *= (ac.au.value / ac.R_sun.value)\n",
    "zm *= (ac.au.value / ac.R_sun.value)\n",
    "\n",
    "bp2 *= (ac.au.value / ac.R_sun.value)**2\n",
    "bm2 *= (ac.au.value / ac.R_sun.value)**2\n",
    "bpm2 *= (ac.au.value / ac.R_sun.value)**2\n",
    "\n",
    "bp = np.sqrt(bp2)\n",
    "bm = np.sqrt(bm2)\n",
    "bpm = np.sqrt(bpm2)\n",
    "theta = np.zeros_like(bp)\n",
    "\n",
    "for i, (bpi, bpmi, bmi) in enumerate(zip(bp, bpm, bm)):\n",
    "    a, b, c = bpi, bpmi, bmi\n",
    "    if b >= a : \n",
    "        tmp = b\n",
    "        b = a\n",
    "        a = tmp\n",
    "    if c >= b :\n",
    "        tmp = c\n",
    "        c = b\n",
    "        b = tmp\n",
    "    if b >= a :\n",
    "        tmp = b\n",
    "        b = a\n",
    "        a = tmp\n",
    "    delta = np.sqrt((a + (b + c)) * (c - (a - b)) * (c + (a - b)) * (a + (b - c)))\n",
    "    \n",
    "    a, b, c = bpi, bpmi, bmi\n",
    "    if a > b:\n",
    "        tmp = b\n",
    "        b = a\n",
    "        a = tmp\n",
    "    if b > c:\n",
    "        mu = c - (a - b)\n",
    "    else:\n",
    "        mu = b - (a - c)\n",
    "    theta[i] = 2 * np.arctan(np.sqrt(((a - b) + c) * mu / ((a + (b + c)) * ((a - c) + b))))\n",
    "    #theta[i] = np.arctan2(delta, (bpmi - bmi) * (bpmi + bmi) + bpi * bpi)\n",
    "    \n",
    "cth = np.cos(theta)\n",
    "sth = np.sin(theta)"
   ]
  },
  {
   "cell_type": "code",
   "execution_count": 251,
   "metadata": {},
   "outputs": [
    {
     "data": {
      "image/png": "[encoded data removed]",
      "text/plain": [
       "<Figure size 720x720 with 1 Axes>"
      ]
     },
     "metadata": {
      "needs_background": "light"
     },
     "output_type": "display_data"
    }
   ],
   "source": [
    "# set up geometry\n",
    "rp = 0.05\n",
    "rm = 0.02\n",
    "\n",
    "plt.figure(figsize=(10, 10))\n",
    "plt.xlim(-1, 1)\n",
    "plt.ylim(-1, 1)\n",
    "star = plt.Circle((0, 0), 1, color='#ffae36', alpha=0.75, ec='k')\n",
    "planet = plt.Circle((xp[0], yp[0]), rp, color='k', ec='w')\n",
    "moon = plt.Circle((xm[0], ym[0]), rm, color='k', ec='w')\n",
    "star_patch = plt.gca().add_patch(star)\n",
    "planet_patch = plt.gca().add_patch(planet)\n",
    "moon_patch = plt.gca().add_patch(moon)"
   ]
  },
  {
   "cell_type": "code",
   "execution_count": 252,
   "metadata": {},
   "outputs": [],
   "source": [
    "# set up grid\n",
    "nn = 1000\n",
    "res = nn ** 2\n",
    "dd = (1 / nn) ** 2\n",
    "\n",
    "if bpm[0] < (rp + rm):\n",
    "    lx = (xp + xm) / 2 - 2 * rp\n",
    "    ux = (xp + xm) / 2 + 2 * rp\n",
    "    ly = (yp + ym) / 2 - 2 * rp\n",
    "    uy = (yp + ym) / 2 + 2 * rp\n",
    "    \n",
    "    n = int(np.sqrt(res * (4 * rp) ** 2))\n",
    "    grid = np.meshgrid(np.linspace(lx, ux, n), np.linspace(ly, uy, n))\n",
    "    points = np.concatenate((grid[0].flatten()[:, None], grid[1].flatten()[:, None]), axis=1)\n",
    "else:\n",
    "    lxp = xp - rp\n",
    "    uxp = xp + rp\n",
    "    lxm = xm - rm\n",
    "    uxm = xm + rm\n",
    "    \n",
    "    lyp = yp - rp\n",
    "    uyp = yp + rp\n",
    "    lym = ym - rm\n",
    "    uym = ym + rm\n",
    "    \n",
    "    nump = int(np.sqrt(res * (2 * rp) ** 2))\n",
    "    print(nump)\n",
    "    gridp = np.meshgrid(np.linspace(lxp, uxp, nump), np.linspace(lyp, uyp, nump))\n",
    "    pointsp = np.concatenate((gridp[0].flatten()[:, None], gridp[1].flatten()[:, None]), axis=1)\n",
    "    numm = int(np.sqrt(res * (2 * rm) ** 2))\n",
    "    print(numm)\n",
    "    gridm = np.meshgrid(np.linspace(lxm, uxm, numm), np.linspace(lym, uym, numm))\n",
    "    pointsm = np.concatenate((gridm[0].flatten()[:, None], gridm[1].flatten()[:, None]), axis=1)\n",
    "    \n",
    "    points = np.concatenate((pointsp, pointsm))"
   ]
  },
  {
   "cell_type": "code",
   "execution_count": 253,
   "metadata": {},
   "outputs": [
    {
     "data": {
      "text/plain": [
       "[<matplotlib.lines.Line2D at 0x22dbfa970>]"
      ]
     },
     "execution_count": 253,
     "metadata": {},
     "output_type": "execute_result"
    },
    {
     "data": {
      "image/png": "[encoded data removed]",
      "text/plain": [
       "<Figure size 720x720 with 1 Axes>"
      ]
     },
     "metadata": {
      "needs_background": "light"
     },
     "output_type": "display_data"
    }
   ],
   "source": [
    "plt.figure(figsize=(10, 10))\n",
    "plt.xlim(-1, 1)\n",
    "plt.ylim(-1, 1)\n",
    "star = plt.Circle((0, 0), 1, color='#ffae36', alpha=0.75, ec='k')\n",
    "planet = plt.Circle((xp[0], yp[0]), rp, color='k', ec='w')\n",
    "moon = plt.Circle((xm[0], ym[0]), rm, color='k', ec='w')\n",
    "star_patch = plt.gca().add_patch(star)\n",
    "planet_patch = plt.gca().add_patch(planet)\n",
    "moon_patch = plt.gca().add_patch(moon)\n",
    "plt.plot(points.T[0], points.T[1], '.', markersize=0.5, color='r')"
   ]
  },
  {
   "cell_type": "code",
   "execution_count": 254,
   "metadata": {},
   "outputs": [],
   "source": [
    "c1 = 0.6\n",
    "c2 = 0.3\n",
    "ld = lambda p: 1 - c1 * (1 - np.sqrt(1 - p[0]**2 - p[1]**2)) - c2 * (1 - np.sqrt(1 - p[0]**2 - p[1]**2))**2\n",
    "\n",
    "ld1 = 1 - c1 - 2 * c2\n",
    "ld2 = c1 + 2 * c2\n",
    "ld3 = c2\n",
    "norm = ld1 * np.pi + ld2 * 2 * np.pi / 3 + ld3 * np.pi / 2\n",
    "\n",
    "rp2 = rp * rp\n",
    "rm2 = rm * rm\n",
    "\n",
    "sum = 0\n",
    "for p in points:\n",
    "    dp2 = (p[0] - xp)**2 + (p[1] - yp)**2\n",
    "    dm2 = (p[0] - xm)**2 + (p[1] - ym)**2\n",
    "    if (dp2 < rp2) | (dm2 < rm2):\n",
    "        sum += ld(p)\n",
    "sum *= dd"
   ]
  },
  {
   "cell_type": "code",
   "execution_count": 255,
   "metadata": {},
   "outputs": [
    {
     "data": {
      "text/plain": [
       "0.996737023947767"
      ]
     },
     "execution_count": 255,
     "metadata": {},
     "output_type": "execute_result"
    }
   ],
   "source": [
    "1 - sum / norm"
   ]
  },
  {
   "cell_type": "code",
   "execution_count": 256,
   "metadata": {},
   "outputs": [
    {
     "data": {
      "text/plain": [
       "0.003262976052233072"
      ]
     },
     "execution_count": 256,
     "metadata": {},
     "output_type": "execute_result"
    }
   ],
   "source": [
    "sum / norm"
   ]
  },
  {
   "cell_type": "code",
   "execution_count": 257,
   "metadata": {},
   "outputs": [
    {
     "data": {
      "text/plain": [
       "1e-06"
      ]
     },
     "execution_count": 257,
     "metadata": {},
     "output_type": "execute_result"
    }
   ],
   "source": [
    "dd"
   ]
  },
  {
   "cell_type": "code",
   "execution_count": 259,
   "metadata": {},
   "outputs": [
    {
     "data": {
      "text/plain": [
       "0.0025000000000000005"
      ]
     },
     "execution_count": 259,
     "metadata": {},
     "output_type": "execute_result"
    }
   ],
   "source": [
    "0.05**2"
   ]
  },
  {
   "cell_type": "code",
   "execution_count": 233,
   "metadata": {},
   "outputs": [
    {
     "data": {
      "text/plain": [
       "2.356194490192345"
      ]
     },
     "execution_count": 233,
     "metadata": {},
     "output_type": "execute_result"
    }
   ],
   "source": [
    "norm"
   ]
  }
 ],
 "metadata": {
  "kernelspec": {
   "display_name": "Python 3",
   "language": "python",
   "name": "python3"
  },
  "language_info": {
   "codemirror_mode": {
    "name": "ipython",
    "version": 3
   },
   "file_extension": ".py",
   "mimetype": "text/x-python",
   "name": "python",
   "nbconvert_exporter": "python",
   "pygments_lexer": "ipython3",
   "version": "3.8.6"
  }
 },
 "nbformat": 4,
 "nbformat_minor": 4
}
