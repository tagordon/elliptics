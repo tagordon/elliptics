{
 "cells": [
  {
   "cell_type": "code",
   "execution_count": 1,
   "metadata": {},
   "outputs": [],
   "source": [
    "import numpy as np\n",
    "import matplotlib.pyplot as pl\n",
    "from scipy.integrate import dblquad"
   ]
  },
  {
   "cell_type": "code",
   "execution_count": 130,
   "metadata": {},
   "outputs": [],
   "source": [
    "def integrate(c1, c2, rp, rm, bp, bpm, theta):\n",
    "    \n",
    "    if theta > np.pi:\n",
    "        theta -= np.pi\n",
    "    \n",
    "    intensity = lambda y, x: 1 - c1 * (1 - np.sqrt(1 - x*x - y*y)) - c2 * (1 - np.sqrt(1 - x*x - y*y))**2\n",
    "    \n",
    "    # first find (x, y) coords for centers\n",
    "    xp = bp\n",
    "    yp = 0.0\n",
    "    xm = xp + bpm * np.cos(theta)\n",
    "    ym = yp + bpm * np.sin(theta)\n",
    "    \n",
    "    # now find upper and lower boundaries for the circles \n",
    "    # assuming they're completely inside the star's boundary\n",
    "    xpl = lambda x: yp - np.sqrt(rp * rp - (x - xp) * (x - xp))\n",
    "    xpu = lambda x: yp + np.sqrt(rp * rp - (x - xp) * (x - xp))\n",
    "    xml = lambda x: ym - np.sqrt(rm * rm - (x - xm) * (x - xm))\n",
    "    xmu = lambda x: ym + np.sqrt(rm * rm - (x - xm) * (x - xm))\n",
    "    \n",
    "    # and the limits in x:\n",
    "    xpa = xp - rp\n",
    "    xpb = xp + rp\n",
    "    xma = xm - rm\n",
    "    xmb = xm + rm\n",
    "    \n",
    "    # non-overlapping case\n",
    "    if rp + rm < bpm:\n",
    "        integral = dblquad(intensity, xpa, xpb, xpl, xpu)[0] + dblquad(intensity, xma, xmb, xml, xmu)[0]\n",
    "        \n",
    "    elif (bpm + rm < rp):\n",
    "        integral = dblquad(intensity, xpa, xpb, xpl, xpu)[0]\n",
    "        \n",
    "    else:\n",
    "        # full integral over both circles \n",
    "        integral = dblquad(intensity, xpa, xpb, xpl, xpu)[0] + dblquad(intensity, xma, xmb, xml, xmu)[0]\n",
    "        \n",
    "        # find intersections:\n",
    "        a = rp\n",
    "        b = rm\n",
    "        c = bpm\n",
    "        if c >= b:\n",
    "            tmp = c\n",
    "            c = b\n",
    "            b = tmp\n",
    "        if b >= a:\n",
    "            tmp = b\n",
    "            b = a\n",
    "            a = tmp\n",
    "            \n",
    "        delta = np.sqrt((a + (b + c)) * (c - (a - b)) * (c + (a - b)) * (a + (b - c)))\n",
    "        pp = np.arctan2(delta, (rp - rm) * (rp + rm) + bpm * bpm) \n",
    "        iy1 = yp + rp * np.sin(theta + pp)    \n",
    "        iy2 = yp + rp * np.sin(theta - pp)\n",
    "        ix1 = xp + rp * np.cos(theta + pp)\n",
    "        ix2 = xp + rp * np.cos(theta - pp)\n",
    "        if ix1 > ix2:\n",
    "            tmp = ix1\n",
    "            ix1 = ix2\n",
    "            ix2 = tmp\n",
    "            \n",
    "            tmp = iy1\n",
    "            iy1 = iy2\n",
    "            iy2 = tmp\n",
    "                    \n",
    "        if ((iy1 < yp) & (iy2 > yp)) | ((iy2 < yp) & (iy1 > yp)):\n",
    "            # then we have to integrate lower planet boundary to upper planet boundary \n",
    "            # over the part of the overlap from ix2 to xpb\n",
    "            integral -= dblquad(intensity, xpa, ix2, xpl, xpu)[0]\n",
    "            if ((iy1 < ym) & (iy2 > ym)) | ((iy2 < ym) & (iy1 > ym)):\n",
    "                # then we have to do the same for the moon from \n",
    "                # xma to ix1\n",
    "                integral -= dblquad(intensity, ix1, xmb, xml, xmu)[0]\n",
    "        \n",
    "        if theta > np.pi / 2:\n",
    "            # integrate from lower moon boundary to upper planet boundary \n",
    "            # from ix1 to ix2\n",
    "            integral -= dblquad(intensity, ix1, ix2, xml, xpu)[0]\n",
    "        else:\n",
    "            # integrate from lower planet boundary to upper moon boundary from \n",
    "            # ix1 to ix2\n",
    "            integral -= dblquad(intensity, ix1, ix2, xpl, xmu)[0]\n",
    "                        \n",
    "    return integral"
   ]
  },
  {
   "cell_type": "code",
   "execution_count": 133,
   "metadata": {},
   "outputs": [],
   "source": [
    "t = np.linspace(0, 1, 1000)\n",
    "bp = np.abs(np.linspace(-0.6, -0.2, 1000))\n",
    "bm = np.abs(np.linspace(-0.95, 0.0, 1000))\n",
    "bpm = np.abs(bp - bm)\n",
    "theta = np.zeros_like(bp)\n",
    "\n",
    "for i, (bpi, bpmi, bmi) in enumerate(zip(bp, bpm, bm)):\n",
    "    a, b, c = bpi, bpmi, bmi\n",
    "    if b > a : \n",
    "        tmp = b\n",
    "        b = a\n",
    "        a = tmp\n",
    "    if c > b :\n",
    "        tmp = c\n",
    "        c = b\n",
    "        b = tmp\n",
    "    if b > a :\n",
    "        tmp = b\n",
    "        b = a\n",
    "        a = tmp\n",
    "    delta = np.sqrt((a + (b + c)) * (c - (a - b)) * (c + (a - b)) * (a + (b - c)))\n",
    "    theta[i] = np.arctan2(delta, (bpi - bmi) * (bpi + bmi) + bpmi * bpmi)\n",
    "\n",
    "lc = 1 - np.array([integrate(0.5, 0.5, 0.05, 0.02, bpi, bpmi, thetai) for bpi, bpmi, thetai in zip(bp, bpm, theta)])"
   ]
  },
  {
   "cell_type": "code",
   "execution_count": 141,
   "metadata": {},
   "outputs": [
    {
     "data": {
      "text/plain": [
       "(0.99122, 0.99126)"
      ]
     },
     "execution_count": 141,
     "metadata": {},
     "output_type": "execute_result"
    },
    {
     "data": {
      "image/png": "[encoded data removed]",
      "text/plain": [
       "<Figure size 432x288 with 1 Axes>"
      ]
     },
     "metadata": {
      "needs_background": "light"
     },
     "output_type": "display_data"
    }
   ],
   "source": [
    "import matplotlib.pyplot as plt\n",
    "plt.plot(t, lc, '.')\n",
    "plt.xlim(0.5, 0.575)\n",
    "plt.ylim(0.99122, 0.99126)"
   ]
  },
  {
   "cell_type": "code",
   "execution_count": 142,
   "metadata": {},
   "outputs": [],
   "source": [
    "import ctypes\n",
    "from array import array\n",
    "photlib = ctypes.CDLL(\"./c_src/cwrapper.so\")\n",
    "fortran = ctypes.CDLL(\"./c_src/fwrapper.so\")\n",
    "def flux(c1, c2, rp, rm, bp, bpm, cth, sth):\n",
    "    \n",
    "    bp = (ctypes.c_double * len(bp)).from_buffer(bp)\n",
    "    bpm = (ctypes.c_double * len(bpm)).from_buffer(bpm)\n",
    "    cth = (ctypes.c_double * len(cth)).from_buffer(cth)\n",
    "    sth = (ctypes.c_double * len(sth)).from_buffer(sth)\n",
    "    lc = ((ctypes.c_double * 8) * len(bp)).from_buffer(np.zeros((8, len(bp))))\n",
    "    rp = ctypes.c_double(rp)\n",
    "    rm = ctypes.c_double(rm)\n",
    "    c1 = ctypes.c_double(c1)\n",
    "    c2 = ctypes.c_double(c2)\n",
    "    j = ctypes.c_int(len(bp))\n",
    "    photlib.LC.restype = None\n",
    "    photlib.LC(c1, c2, rp, rm, bp, bpm, cth, sth, lc, j)\n",
    "    return np.array(lc)"
   ]
  },
  {
   "cell_type": "code",
   "execution_count": 174,
   "metadata": {},
   "outputs": [
    {
     "data": {
      "text/plain": [
       "(0.99122, 0.99126)"
      ]
     },
     "execution_count": 174,
     "metadata": {},
     "output_type": "execute_result"
    },
    {
     "data": {
      "image/png": "[encoded data removed]",
      "text/plain": [
       "<Figure size 432x288 with 1 Axes>"
      ]
     },
     "metadata": {
      "needs_background": "light"
     },
     "output_type": "display_data"
    }
   ],
   "source": [
    "lc2 = flux(0.5, 0.5, 0.05, 0.02, bp, bpm, np.cos(theta), np.sin(theta))\n",
    "plt.plot(t, lc2[:, 0]*2.367 + 1)\n",
    "plt.plot(t, lc)\n",
    "plt.xlim(0.5, 0.575)\n",
    "plt.ylim(0.99122, 0.99126)"
   ]
  },
  {
   "cell_type": "code",
   "execution_count": 175,
   "metadata": {},
   "outputs": [
    {
     "data": {
      "text/plain": [
       "[<matplotlib.lines.Line2D at 0x23223ddc0>]"
      ]
     },
     "execution_count": 175,
     "metadata": {},
     "output_type": "execute_result"
    },
    {
     "data": {
      "image/png": "[encoded data removed]",
      "text/plain": [
       "<Figure size 432x288 with 1 Axes>"
      ]
     },
     "metadata": {
      "needs_background": "light"
     },
     "output_type": "display_data"
    }
   ],
   "source": [
    "plt.plot(t[1:], np.diff(lc2[:, 0]))"
   ]
  },
  {
   "cell_type": "code",
   "execution_count": null,
   "metadata": {},
   "outputs": [],
   "source": []
  }
 ],
 "metadata": {
  "kernelspec": {
   "display_name": "Python 3",
   "language": "python",
   "name": "python3"
  },
  "language_info": {
   "codemirror_mode": {
    "name": "ipython",
    "version": 3
   },
   "file_extension": ".py",
   "mimetype": "text/x-python",
   "name": "python",
   "nbconvert_exporter": "python",
   "pygments_lexer": "ipython3",
   "version": "3.8.6"
  }
 },
 "nbformat": 4,
 "nbformat_minor": 4
}
