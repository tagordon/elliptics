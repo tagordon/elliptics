{
 "cells": [
  {
   "cell_type": "code",
   "execution_count": 1,
   "metadata": {},
   "outputs": [],
   "source": [
    "import sympy as sm"
   ]
  },
  {
   "cell_type": "code",
   "execution_count": 9,
   "metadata": {},
   "outputs": [],
   "source": [
    "R, rho = sm.symbols('R, rho', positive=True, real=True)\n",
    "phi = sm.symbols('phi', angle=True)"
   ]
  },
  {
   "cell_type": "code",
   "execution_count": 82,
   "metadata": {},
   "outputs": [],
   "source": [
    "d2 = (r - rho)**2\n",
    "se = 2 * sm.cos(phi/2) * sm.sqrt(r * rho / (1 - d2))\n",
    "ke = sm.sqrt((1 - d2) / (r * rho)) / 2\n",
    "s2 = (r + rho)**2\n",
    "q2 = r**2 + rho**2 + 2 * r * rho * sm.cos(phi)\n",
    "Q = 1 / sm.sqrt(r * rho)\n",
    "ne = - (1 - d2) / d2"
   ]
  },
  {
   "cell_type": "code",
   "execution_count": 62,
   "metadata": {},
   "outputs": [],
   "source": [
    "def R(x):\n",
    "    return ( - (1 / 3) * sm.atan(sm.sqrt(d2/s2) * sm.tan(x/2)) * (rho**2 - r**2) / sm.sqrt(d2 * s2)\n",
    "           + (x / 6) + (2 / 9) * r * rho * sm.sqrt(1 - r**2 - rho**2 - 2 * r * rho * sm.cos(x)) * sm.sin(x))"
   ]
  },
  {
   "cell_type": "code",
   "execution_count": 63,
   "metadata": {},
   "outputs": [
    {
     "data": {
      "text/latex": [
       "$\\displaystyle \\frac{\\left(r + \\rho\\right) \\left(- \\phi_{1} + \\phi_{2} - 1.33333333333333 r \\rho \\sqrt{- r^{2} - 2 r \\rho \\cos{\\left(\\phi_{1} \\right)} - \\rho^{2} + 1} \\sin{\\left(\\phi_{1} \\right)} + 1.33333333333333 r \\rho \\sqrt{- r^{2} - 2 r \\rho \\cos{\\left(\\phi_{2} \\right)} - \\rho^{2} + 1} \\sin{\\left(\\phi_{2} \\right)}\\right) \\left|{r - \\rho}\\right| + 2.0 \\left(- r^{2} + \\rho^{2}\\right) \\operatorname{atan}{\\left(\\frac{\\tan{\\left(\\frac{\\phi_{1}}{2} \\right)} \\left|{r - \\rho}\\right|}{r + \\rho} \\right)} + 2.0 \\left(r^{2} - \\rho^{2}\\right) \\operatorname{atan}{\\left(\\frac{\\tan{\\left(\\frac{\\phi_{2}}{2} \\right)} \\left|{r - \\rho}\\right|}{r + \\rho} \\right)}}{6 \\left(r + \\rho\\right) \\left|{r - \\rho}\\right|}$"
      ],
      "text/plain": [
       "((r + rho)*(-phi_1 + phi_2 - 1.33333333333333*r*rho*sqrt(-r**2 - 2*r*rho*cos(phi_1) - rho**2 + 1)*sin(phi_1) + 1.33333333333333*r*rho*sqrt(-r**2 - 2*r*rho*cos(phi_2) - rho**2 + 1)*sin(phi_2))*Abs(r - rho) + 2.0*(-r**2 + rho**2)*atan(tan(phi_1/2)*Abs(r - rho)/(r + rho)) + 2.0*(r**2 - rho**2)*atan(tan(phi_2/2)*Abs(r - rho)/(r + rho)))/(6*(r + rho)*Abs(r - rho))"
      ]
     },
     "execution_count": 63,
     "metadata": {},
     "output_type": "execute_result"
    }
   ],
   "source": [
    "# I don't think this simplifies in a useful way really \n",
    "\n",
    "phi1, phi2 = sm.symbols('phi_1, phi_2', angle=True)\n",
    "sm.simplify(R(phi2) - R(phi1))"
   ]
  },
  {
   "cell_type": "code",
   "execution_count": 76,
   "metadata": {},
   "outputs": [],
   "source": [
    "alpha = Q * (1 / 6) * (1 - 4 * r**2 + 2 * r**4) + Q * (1 / 9) * r * rho * (7 * r**2 + 5 * r * rho + rho**2 - 4)\n",
    "beta = Q * (1 / 9) * r * rho * (8 - 14 * r**2 - 2 * rho**2)\n",
    "gamma = (1 / 6) * (r + rho) / (r - rho)\n",
    "mc = sm.symbols('mc', real=True, positive=True)"
   ]
  },
  {
   "cell_type": "code",
   "execution_count": 77,
   "metadata": {},
   "outputs": [
    {
     "data": {
      "text/latex": [
       "$\\displaystyle \\frac{0.166666666666667 \\sqrt{r} \\sqrt{\\rho} \\left(r + \\rho\\right) + r \\rho \\left(r - \\rho\\right) \\left(- 0.222222222222222 mc \\left(7 r^{2} + \\rho^{2} - 4\\right) + 0.777777777777778 r^{2} + 0.555555555555556 r \\rho + 0.111111111111111 \\rho^{2} - 0.444444444444444\\right) + \\left(r - \\rho\\right) \\left(0.333333333333333 r^{4} - 0.666666666666667 r^{2} + 0.166666666666667\\right)}{\\sqrt{r} \\sqrt{\\rho} \\left(r - \\rho\\right)}$"
      ],
      "text/plain": [
       "(0.166666666666667*sqrt(r)*sqrt(rho)*(r + rho) + r*rho*(r - rho)*(-0.222222222222222*mc*(7*r**2 + rho**2 - 4) + 0.777777777777778*r**2 + 0.555555555555556*r*rho + 0.111111111111111*rho**2 - 0.444444444444444) + (r - rho)*(0.333333333333333*r**4 - 0.666666666666667*r**2 + 0.166666666666667))/(sqrt(r)*sqrt(rho)*(r - rho))"
      ]
     },
     "execution_count": 77,
     "metadata": {},
     "output_type": "execute_result"
    }
   ],
   "source": [
    "sm.simplify(alpha + mc * beta + gamma)"
   ]
  },
  {
   "cell_type": "code",
   "execution_count": 78,
   "metadata": {},
   "outputs": [
    {
     "data": {
      "text/latex": [
       "$\\displaystyle 0.111111111111111 mc \\sqrt{r} \\sqrt{\\rho} \\left(- 14 r^{2} - 2 \\rho^{2} + 8\\right) + 0.111111111111111 \\sqrt{r} \\sqrt{\\rho} \\left(7 r^{2} + 5 r \\rho + \\rho^{2} - 4\\right) + \\frac{0.166666666666667 r + 0.166666666666667 \\rho}{r - \\rho} + \\frac{0.166666666666667 \\left(2 r^{4} - 4 r^{2} + 1\\right)}{\\sqrt{r} \\sqrt{\\rho}}$"
      ],
      "text/plain": [
       "0.111111111111111*mc*sqrt(r)*sqrt(rho)*(-14*r**2 - 2*rho**2 + 8) + 0.111111111111111*sqrt(r)*sqrt(rho)*(7*r**2 + 5*r*rho + rho**2 - 4) + (0.166666666666667*r + 0.166666666666667*rho)/(r - rho) + 0.166666666666667*(2*r**4 - 4*r**2 + 1)/(sqrt(r)*sqrt(rho))"
      ]
     },
     "execution_count": 78,
     "metadata": {},
     "output_type": "execute_result"
    }
   ],
   "source": [
    "alpha + mc * beta + gamma"
   ]
  },
  {
   "cell_type": "code",
   "execution_count": 80,
   "metadata": {},
   "outputs": [
    {
     "data": {
      "text/latex": [
       "$\\displaystyle \\frac{0.166666666666667 \\left(r + \\rho\\right) \\left(\\left(r - \\rho\\right)^{2} - 1\\right)}{\\left(r - \\rho\\right)^{3}}$"
      ],
      "text/plain": [
       "0.166666666666667*(r + rho)*((r - rho)**2 - 1)/(r - rho)**3"
      ]
     },
     "execution_count": 80,
     "metadata": {},
     "output_type": "execute_result"
    }
   ],
   "source": [
    "sm.simplify(gamma * ne)"
   ]
  },
  {
   "cell_type": "code",
   "execution_count": null,
   "metadata": {},
   "outputs": [],
   "source": []
  }
 ],
 "metadata": {
  "kernelspec": {
   "display_name": "Python 3",
   "language": "python",
   "name": "python3"
  },
  "language_info": {
   "codemirror_mode": {
    "name": "ipython",
    "version": 3
   },
   "file_extension": ".py",
   "mimetype": "text/x-python",
   "name": "python",
   "nbconvert_exporter": "python",
   "pygments_lexer": "ipython3",
   "version": "3.8.6"
  }
 },
 "nbformat": 4,
 "nbformat_minor": 4
}
