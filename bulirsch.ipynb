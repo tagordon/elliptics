{
 "cells": [
  {
   "cell_type": "code",
   "execution_count": 1,
   "metadata": {},
   "outputs": [],
   "source": [
    "import numpy as np\n",
    "import matplotlib.pyplot as plt\n",
    "from scipy.special import ellipkinc, ellipeinc\n",
    "import ctypes\n",
    "photlib = ctypes.CDLL(\"./c_src/cwrapper.so\")"
   ]
  },
  {
   "cell_type": "code",
   "execution_count": 2,
   "metadata": {},
   "outputs": [],
   "source": [
    "def f(phi, m):\n",
    "    if not hasattr(phi, \"__len__\"):\n",
    "        phi = np.array([phi])\n",
    "    if not hasattr(m, \"__len__\"):\n",
    "        m = np.ones_like(phi)*m\n",
    "    phi = (ctypes.c_double * len(phi)).from_buffer(phi)\n",
    "    m = (ctypes.c_double * len(m)).from_buffer(m)\n",
    "    e = (ctypes.c_double * len(phi)).from_buffer(np.zeros(len(phi)))\n",
    "    j = ctypes.c_int(len(phi))\n",
    "    photlib.F.restype = None\n",
    "    photlib.F(phi, m, e, j)\n",
    "    return np.array(e)\n",
    "\n",
    "def e(phi, m):\n",
    "    if not hasattr(phi, \"__len__\"):\n",
    "        phi = np.array([phi])\n",
    "    if not hasattr(m, \"__len__\"):\n",
    "        m = np.ones_like(phi)*m\n",
    "    phi = (ctypes.c_double * len(phi)).from_buffer(phi)\n",
    "    m = (ctypes.c_double * len(m)).from_buffer(m)\n",
    "    e = (ctypes.c_double * len(phi)).from_buffer(np.zeros(len(phi)))\n",
    "    j = ctypes.c_int(len(phi))\n",
    "    photlib.E.restype = None\n",
    "    photlib.E(phi, m, e, j)\n",
    "    return np.array(e)\n",
    "\n",
    "def p(phi, n, m):\n",
    "    if not hasattr(phi, \"__len__\"):\n",
    "        phi = np.array([phi])\n",
    "    if not hasattr(m, \"__len__\"):\n",
    "        m = np.ones_like(phi)*m\n",
    "    if not hasattr(n, \"__len__\"):\n",
    "        n = np.ones_like(phi)*n\n",
    "    phi = (ctypes.c_double * len(phi)).from_buffer(phi)\n",
    "    m = (ctypes.c_double * len(m)).from_buffer(m)\n",
    "    n = (ctypes.c_double * len(n)).from_buffer(n)\n",
    "    e = (ctypes.c_double * len(phi)).from_buffer(np.zeros(len(phi)))\n",
    "    j = ctypes.c_int(len(phi))\n",
    "    photlib.P.restype = None\n",
    "    photlib.P(phi, n, m, e, j)\n",
    "    return np.array(e)"
   ]
  },
  {
   "cell_type": "code",
   "execution_count": 3,
   "metadata": {},
   "outputs": [],
   "source": [
    "phi = np.linspace(0, np.pi/2, 10000)\n",
    "m = np.ones_like(phi) * 0.9\n",
    "n = np.ones_like(phi) * 0.5"
   ]
  },
  {
   "cell_type": "code",
   "execution_count": 5,
   "metadata": {},
   "outputs": [
    {
     "name": "stdout",
     "output_type": "stream",
     "text": [
      "CPU times: user 469 µs, sys: 16 µs, total: 485 µs\n",
      "Wall time: 649 µs\n",
      "CPU times: user 1.48 ms, sys: 308 µs, total: 1.78 ms\n",
      "Wall time: 2.3 ms\n"
     ]
    },
    {
     "data": {
      "text/plain": [
       "[<matplotlib.lines.Line2D at 0x22f78e700>]"
      ]
     },
     "execution_count": 5,
     "metadata": {},
     "output_type": "execute_result"
    },
    {
     "data": {
      "image/png": "[encoded data removed]",
      "text/plain": [
       "<Figure size 432x288 with 1 Axes>"
      ]
     },
     "metadata": {
      "needs_background": "light"
     },
     "output_type": "display_data"
    }
   ],
   "source": [
    "%time kinc = ellipeinc(phi, 1.0)\n",
    "plt.plot(phi, kinc, linewidth=4, alpha=0.5)\n",
    "%time fburl = e(phi, 1.0)\n",
    "plt.plot(phi, fburl, 'k--')"
   ]
  },
  {
   "cell_type": "raw",
   "metadata": {},
   "source": [
    "%timeit kinc = ellipkinc(phi, m)\n",
    "%timeit fburl = f(phi, m)"
   ]
  },
  {
   "cell_type": "code",
   "execution_count": null,
   "metadata": {},
   "outputs": [],
   "source": [
    "%time einc = ellipeinc(phi, m)\n",
    "plt.plot(phi, einc, linewidth=4, alpha=0.5)\n",
    "%time eburl = e(phi, m)\n",
    "plt.plot(phi, eburl, 'k--')"
   ]
  },
  {
   "cell_type": "code",
   "execution_count": null,
   "metadata": {},
   "outputs": [],
   "source": [
    "%timeit einc = ellipeinc(phi, m)\n",
    "%timeit eburl = e(phi, m)"
   ]
  },
  {
   "cell_type": "code",
   "execution_count": null,
   "metadata": {},
   "outputs": [],
   "source": [
    "%time pburl = p(0.25, -1.7777777777777777, 1.0000000000000004)\n",
    "plt.plot(phi, pburl, 'k--')"
   ]
  },
  {
   "cell_type": "code",
   "execution_count": null,
   "metadata": {},
   "outputs": [],
   "source": [
    "%timeit pburl = p(phi, -n, m)"
   ]
  },
  {
   "cell_type": "code",
   "execution_count": null,
   "metadata": {},
   "outputs": [],
   "source": [
    "p(0.25, -1.7777777777777777, 1.000000000)"
   ]
  },
  {
   "cell_type": "code",
   "execution_count": null,
   "metadata": {},
   "outputs": [],
   "source": [
    "-1.7777777777777777 - 1.0000000000000004"
   ]
  },
  {
   "cell_type": "code",
   "execution_count": 1,
   "metadata": {},
   "outputs": [
    {
     "data": {
      "text/plain": [
       "0.1111111111111111"
      ]
     },
     "execution_count": 1,
     "metadata": {},
     "output_type": "execute_result"
    }
   ],
   "source": [
    "1 / 9"
   ]
  },
  {
   "cell_type": "code",
   "execution_count": 5,
   "metadata": {},
   "outputs": [],
   "source": [
    "s = np.random.rand(1)\n",
    "cs = np.cos(s)\n",
    "ss = np.sin(s)"
   ]
  },
  {
   "cell_type": "code",
   "execution_count": 7,
   "metadata": {},
   "outputs": [
    {
     "name": "stdout",
     "output_type": "stream",
     "text": [
      "598 ns ± 15.9 ns per loop (mean ± std. dev. of 7 runs, 1000000 loops each)\n"
     ]
    }
   ],
   "source": [
    "%timeit np.tan(s)"
   ]
  },
  {
   "cell_type": "code",
   "execution_count": 8,
   "metadata": {},
   "outputs": [
    {
     "name": "stdout",
     "output_type": "stream",
     "text": [
      "622 ns ± 11.9 ns per loop (mean ± std. dev. of 7 runs, 1000000 loops each)\n"
     ]
    }
   ],
   "source": [
    "%timeit cs / ss"
   ]
  },
  {
   "cell_type": "code",
   "execution_count": null,
   "metadata": {},
   "outputs": [],
   "source": []
  }
 ],
 "metadata": {
  "kernelspec": {
   "display_name": "Python 3",
   "language": "python",
   "name": "python3"
  },
  "language_info": {
   "codemirror_mode": {
    "name": "ipython",
    "version": 3
   },
   "file_extension": ".py",
   "mimetype": "text/x-python",
   "name": "python",
   "nbconvert_exporter": "python",
   "pygments_lexer": "ipython3",
   "version": "3.8.6"
  }
 },
 "nbformat": 4,
 "nbformat_minor": 4
}
