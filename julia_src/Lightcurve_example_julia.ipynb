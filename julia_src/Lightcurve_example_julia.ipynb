{
 "cells": [
  {
   "cell_type": "code",
   "execution_count": 53,
   "metadata": {
    "scrolled": true
   },
   "outputs": [],
   "source": [
    "# Testing Julia code for computing transit light curves\n",
    "\n",
    "include(\"phot.jl\")\n",
    "using PyPlot"
   ]
  },
  {
   "cell_type": "code",
   "execution_count": 16,
   "metadata": {},
   "outputs": [
    {
     "data": {
      "text/plain": [
       "compute_theta (generic function with 1 method)"
      ]
     },
     "execution_count": 16,
     "metadata": {},
     "output_type": "execute_result"
    }
   ],
   "source": [
    "function compute_theta(bp, bpm, bm)   \n",
    "  a = bp; b = bpm; c = bm\n",
    "  if a > b\n",
    "    tmp = b\n",
    "    b = a\n",
    "    a = tmp\n",
    "  end\n",
    "  if b > c\n",
    "    mu = c - (a - b)\n",
    "  else\n",
    "    mu = b - (a - c)\n",
    "  end\n",
    "  theta = 2 * atan(sqrt(((a - b) + c) * mu / ((a + (b + c)) * ((a - c) + b))))\n",
    "  return theta\n",
    "end    "
   ]
  },
  {
   "cell_type": "code",
   "execution_count": 99,
   "metadata": {},
   "outputs": [],
   "source": [
    "c1 = 1.0; c2 = -0.5; rp = 0.2; rm = 0.05\n",
    "\n",
    "# We'll assume straight-lined paths with minimum\n",
    "# impact parameters of:\n",
    "byp = 0.5; bym = 0.6\n",
    "# And constant velocities for the planet and moon:\n",
    "vp = 0.1; vm = 0.2\n",
    "# Time array:\n",
    "t = collect(-20.0:0.0001:20.0)\n",
    "t0p = 0.0; t0m = 0.0\n",
    "# Compute the impact parameters:\n",
    "b(b0,v,t0,t) = sqrt(b0^2+(v*(t-t0))^2)\n",
    "# Next, compute impact parameter between planet and moon:\n",
    "bdiff(byp,bym,vp,vm,t0p,t0m,t) = sqrt((byp-bym)^2+(vp*(t-t0p)-vm*(t-t0m))^2)\n",
    "bp = b.(byp,vp,t0p,t)\n",
    "bm = b.(bym,vm,t0m,t)\n",
    "nt = length(t)\n",
    "lc = zeros(8,nt)\n",
    "bpm = bdiff.(byp,bym,vp,vm,t0p,t0m,t)\n",
    "theta = compute_theta.(bp,bpm,bm)\n",
    "cth = cos.(theta)\n",
    "sth = sin.(theta)\n",
    "flux!(c1, c2, rp, rm, bp, bpm, cth, sth, lc, nt)\n",
    "# Right now this is not working for the linear limb-darkening\n",
    "# case - probably a problem with the elliptic integrals."
   ]
  },
  {
   "cell_type": "code",
   "execution_count": 100,
   "metadata": {},
   "outputs": [],
   "source": [
    "pygui(true)\n",
    "clf()\n",
    "for j=1:8\n",
    "  plot(t,lc[j,:])\n",
    "end"
   ]
  },
  {
   "cell_type": "code",
   "execution_count": null,
   "metadata": {},
   "outputs": [],
   "source": []
  }
 ],
 "metadata": {
  "kernelspec": {
   "display_name": "Julia 1.6.0-rc1",
   "language": "julia",
   "name": "julia-1.6"
  },
  "language_info": {
   "file_extension": ".jl",
   "mimetype": "application/julia",
   "name": "julia",
   "version": "1.6.0"
  }
 },
 "nbformat": 4,
 "nbformat_minor": 2
}
