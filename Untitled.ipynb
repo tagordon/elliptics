{
 "cells": [
  {
   "cell_type": "code",
   "execution_count": 1,
   "metadata": {},
   "outputs": [],
   "source": [
    "import numpy as np\n",
    "import matplotlib.pyplot as pl\n",
    "import timeit"
   ]
  },
  {
   "cell_type": "code",
   "execution_count": 2,
   "metadata": {},
   "outputs": [],
   "source": [
    "from scipy.special import ellipkinc, ellipeinc\n",
    "import matplotlib.pyplot as plt\n",
    "\n",
    "import ctypes\n",
    "photlib = ctypes.CDLL(\"./c_src/cwrapper.so\")\n",
    "photlib.integrate_along_curve.restype = ctypes.c_double"
   ]
  },
  {
   "cell_type": "code",
   "execution_count": 30,
   "metadata": {},
   "outputs": [
    {
     "data": {
      "text/plain": [
       "6.663570151763648"
      ]
     },
     "execution_count": 30,
     "metadata": {},
     "output_type": "execute_result"
    }
   ],
   "source": [
    "r = 0.8\n",
    "b = 0.2\n",
    "phi1 = 0.0\n",
    "phi2 = np.pi / 2\n",
    "s1 = np.sin(phi1)\n",
    "s2 = np.sin(phi2)\n",
    "\n",
    "r = ctypes.c_double(r)\n",
    "b = ctypes.c_double(b)\n",
    "s1 = ctypes.c_double(s1)\n",
    "s2 = ctypes.c_double(s2)\n",
    "photlib.integrate_along_curve(s1, s2, r, b)"
   ]
  },
  {
   "cell_type": "code",
   "execution_count": null,
   "metadata": {},
   "outputs": [],
   "source": [
    "rr = np.linspace(0.001, 0.99, 100)\n",
    "bb = np.linspace(0.001, 1.99, 200)\n",
    "f = np.zeros((len(rr), len(bb)))\n",
    "\n",
    "for i, r in enumerate(rr):\n",
    "    for j, b in enumerate(bb):\n",
    "        if b > 1 + r:\n",
    "            f[i, j] = 0\n",
    "        elif r == b:\n",
    "            f[i, j] = (1 - (r**2 + b**2 + 2 * b * r)) / (1 - r**2 - b**2 + 2 * b * r)\n",
    "        else:\n",
    "            f[i, j] = (1 - (r**2 + b**2 + 2 * b * r)) / (1 - r**2 - b**2 + 2 * b * r)\n",
    "f[~np.isfinite(f)] = 0\n",
    "plt.imshow(f, vmin=0.0)\n",
    "np.max(f)"
   ]
  },
  {
   "cell_type": "code",
   "execution_count": null,
   "metadata": {},
   "outputs": [],
   "source": [
    "def bdj(phi, n, m):\n",
    "    \n",
    "    if hasattr(phi, \"__len__\"):\n",
    "        s = np.sin(phi)\n",
    "    else:\n",
    "        phi = np.array([phi])\n",
    "        s = np.ones_like(np.sin(phi))\n",
    "    if not hasattr(n, \"__len__\"):\n",
    "        n = np.ones_like(phi)\n",
    "    if not hasattr(m, \"__len__\"):\n",
    "        m = np.ones_like(phi)\n",
    "        \n",
    "    s = (ctypes.c_double * len(s)).from_buffer(s)\n",
    "    n = (ctypes.c_double * len(n)).from_buffer(n)\n",
    "    m = (ctypes.c_double * len(m)).from_buffer(m)\n",
    "    b = (ctypes.c_double * len(phi)).from_buffer(np.zeros(len(phi)))\n",
    "    d = (ctypes.c_double * len(phi)).from_buffer(np.zeros(len(phi)))\n",
    "    j = (ctypes.c_double * len(phi)).from_buffer(np.zeros(len(phi)))\n",
    "    k = ctypes.c_int(len(phi))\n",
    "    \n",
    "    photlib.BDJ_arrays.restype = None\n",
    "    photlib.BDJ_arrays(b, d, j, s, n, m, k)\n",
    "    return np.array(b), np.array(d), np.array(j)"
   ]
  },
  {
   "cell_type": "code",
   "execution_count": null,
   "metadata": {},
   "outputs": [],
   "source": [
    "phi1 = np.linspace(0, 1.2, 100)\n",
    "phi2 = np.linspace(1.2, 0, 100)\n",
    "m = 1\n",
    "%time omega = (2 * np.arctan(np.sin(phi1) * (1 - m * np.sin(phi2)**2) - np.sin(phi2) * np.sqrt(1 - m * np.sin(phi1)**2))) / (np.cos(phi1) - np.cos(phi2))\n",
    "%time omega = np.arccos(np.cos(phi1) * np.sin(phi2) - np.sin(phi1) * np.cos(phi2) * np.sqrt((1 - m * np.sin(phi1)**2 * (1 - m * np.sin(phi2)**2))) / (1 - m * np.sin(phi1)**2 * np.sin(phi2)**2))"
   ]
  },
  {
   "cell_type": "code",
   "execution_count": null,
   "metadata": {},
   "outputs": [],
   "source": [
    "marr = np.linspace(0, 2, 1000)\n",
    "phi = 1 * np.ones_like(marr)\n",
    "%time b, d, j = bdj(phi, 0.5, marr)\n",
    "plt.plot(marr, b)\n",
    "plt.plot(marr, d)\n",
    "plt.plot(marr, j)"
   ]
  },
  {
   "cell_type": "code",
   "execution_count": null,
   "metadata": {},
   "outputs": [],
   "source": [
    "1 / np.sin(1)"
   ]
  },
  {
   "cell_type": "code",
   "execution_count": null,
   "metadata": {},
   "outputs": [],
   "source": [
    "import timeit\n",
    "Ns = np.arange(1e2, 1e5, 1000)\n",
    "times_fukushima = np.zeros(len(Ns))\n",
    "for i, N in enumerate(Ns):\n",
    "    \n",
    "    phi = np.linspace(0, 1.5, int(N))\n",
    "    m = np.random.rand(len(phi))\n",
    "    n = np.random.rand(len(phi))\n",
    "    total_time = 0\n",
    "    for j in range(10):\n",
    "        start_time = timeit.default_timer()\n",
    "        b, d, j = bdj(phi, n, m)\n",
    "        total_time += timeit.default_timer() - start_time\n",
    "    times_fukushima[i] = total_time / 100"
   ]
  },
  {
   "cell_type": "code",
   "execution_count": null,
   "metadata": {},
   "outputs": [],
   "source": [
    "times = np.zeros(len(Ns))\n",
    "for i, N in enumerate(Ns):\n",
    "    \n",
    "    phi = np.linspace(0, 1.5, int(N))\n",
    "    m = np.random.rand(len(phi))\n",
    "    n = np.random.rand(len(phi))\n",
    "    total_time = 0\n",
    "    for j in range(10):\n",
    "        start_time = timeit.default_timer()\n",
    "        res = ellipkinc(phi, m) - ellipeinc(phi, m) + ellipkinc(phi, m)\n",
    "        total_time += timeit.default_timer() - start_time\n",
    "    times[i] = total_time / 100"
   ]
  },
  {
   "cell_type": "code",
   "execution_count": null,
   "metadata": {},
   "outputs": [],
   "source": [
    "plt.plot(Ns, times / times_fukushima, '.')\n",
    "#plt.semilogx(Ns, times_fukushima)"
   ]
  },
  {
   "cell_type": "code",
   "execution_count": null,
   "metadata": {},
   "outputs": [],
   "source": [
    "phi = np.linspace(0, 1.5, 10000)\n",
    "m = 0.2 * np.ones_like(phi)\n",
    "n = 0.5 * np.ones_like(phi)\n",
    "res = np.zeros((len(phi), 3))\n",
    "new_res = res.ctypes.data_as(ctypes.POINTER(ctypes.c_double))\n",
    "\n",
    "ellip_lib.BDJ.argtypes = [ctypes.POINTER(ctypes.c_double)] + [ctypes.c_double * len(phi)] * 3 + [ctypes.c_int]\n",
    "ellip_lib.BDJ.restype = None\n",
    "\n",
    "%time ellip_lib.BDJ(new_res, (ctypes.c_double * len(phi))(*phi), (ctypes.c_double * len(n))(*n), (ctypes.c_double * len(m))(*m), ctypes.c_int(len(phi)))"
   ]
  },
  {
   "cell_type": "code",
   "execution_count": null,
   "metadata": {},
   "outputs": [],
   "source": [
    "plt.plot(phi, res);"
   ]
  },
  {
   "cell_type": "code",
   "execution_count": null,
   "metadata": {},
   "outputs": [],
   "source": [
    "#m = np.linspace(0, 1, len(phi))\n",
    "%time res = ellipkinc(phi, m) - ellipeinc(phi, m) + ellipkinc(phi, m)\n",
    "plt.plot(phi, res);"
   ]
  },
  {
   "cell_type": "code",
   "execution_count": null,
   "metadata": {},
   "outputs": [],
   "source": [
    "m = 0.5\n",
    "phi = np.linspace(0, 1, 100)\n",
    "\n",
    "y1 = np.array([FJ(phi, 0, m)[1] for phi in phi])\n",
    "plt.plot(phi, y1)\n",
    "\n",
    "y2 = np.array([(ellipkinc(phi, m) - ellipeinc(phi, m)) / m for phi in phi])\n",
    "plt.plot(phi, y2)\n",
    "\n",
    "#plt.ylim(-0.01, 0.01)\n",
    "#plt.xlim(0, 0.1)"
   ]
  },
  {
   "cell_type": "code",
   "execution_count": null,
   "metadata": {},
   "outputs": [],
   "source": [
    "plt.plot(phi[1:], np.diff(y1))"
   ]
  },
  {
   "cell_type": "code",
   "execution_count": null,
   "metadata": {},
   "outputs": [],
   "source": [
    "y = np.array([(ellipkinc(phi, m) - ellipeinc(phi, m)) / m for phi in phi])\n",
    "plt.plot(phi, y)"
   ]
  },
  {
   "cell_type": "code",
   "execution_count": null,
   "metadata": {},
   "outputs": [],
   "source": []
  },
  {
   "cell_type": "code",
   "execution_count": null,
   "metadata": {},
   "outputs": [],
   "source": [
    "#for i in range(10):\n",
    "#    %time ellipkinc(0.2, 0.9)"
   ]
  },
  {
   "cell_type": "code",
   "execution_count": null,
   "metadata": {},
   "outputs": [],
   "source": [
    "phi = ctypes.c_double(0.5)\n",
    "m = ctypes.c_double(1)\n",
    "n = ctypes.c_double(1)\n",
    "res = (ctypes.c_double * 2)(*np.zeros(2))\n",
    "for i in range(10):\n",
    "    %time ellip_lib.FJ(res, phi, n, m)"
   ]
  },
  {
   "cell_type": "code",
   "execution_count": null,
   "metadata": {},
   "outputs": [],
   "source": [
    "m = ctypes.c_double(1)\n",
    "n = ctypes.c_double(0)\n",
    "res = (ctypes.c_double * 2)(*np.zeros(2))\n",
    "ellip_lib.FJ(res, ctypes.c_double(0.9), n, m)\n",
    "np.array(res)"
   ]
  },
  {
   "cell_type": "code",
   "execution_count": null,
   "metadata": {},
   "outputs": [],
   "source": [
    "res[1]"
   ]
  },
  {
   "cell_type": "code",
   "execution_count": null,
   "metadata": {},
   "outputs": [],
   "source": [
    "(ellipkinc(0.03, 0.9) - ellipeinc(0.03, 0.9)) / 0.9"
   ]
  },
  {
   "cell_type": "code",
   "execution_count": null,
   "metadata": {},
   "outputs": [],
   "source": [
    "import matplotlib.pyplot as plt\n",
    "phi = np.linspace(-np.pi/2, np.pi/2, 200)\n",
    "m = ctypes.c_double(1)\n",
    "y1 = np.array([ellip_lib.F(ctypes.c_double(p), m) for p in phi])\n",
    "plt.plot(phi, y1)\n",
    "\n",
    "y2 = [ellipkinc(phi, m) for phi in phi]\n",
    "plt.plot(phi, y2, color='k', linestyle='--')\n",
    "\n",
    "plt.ylim(-5, 5)"
   ]
  },
  {
   "cell_type": "code",
   "execution_count": null,
   "metadata": {},
   "outputs": [],
   "source": [
    "plt.plot(phi, (y2-y1)/y1, '.')\n",
    "#plt.ylim(-0.01e-5, 0.1e-5)"
   ]
  },
  {
   "cell_type": "code",
   "execution_count": null,
   "metadata": {},
   "outputs": [],
   "source": [
    "ellipkinc(np.pi/2, 1)"
   ]
  },
  {
   "cell_type": "code",
   "execution_count": null,
   "metadata": {},
   "outputs": [],
   "source": [
    "import mpmath"
   ]
  },
  {
   "cell_type": "code",
   "execution_count": null,
   "metadata": {},
   "outputs": [],
   "source": [
    "mpmath.ellippi(1, 1.2, 1)"
   ]
  },
  {
   "cell_type": "code",
   "execution_count": null,
   "metadata": {},
   "outputs": [],
   "source": [
    "import matplotlib.pyplot as plt\n",
    "phi = np.linspace(-np.pi/2, np.pi/2, 200)\n",
    "y2 = [ellipkinc(phi, 1) for phi in phi]\n",
    "plt.plot(phi, y2, color='k', linestyle='--')"
   ]
  },
  {
   "cell_type": "code",
   "execution_count": null,
   "metadata": {},
   "outputs": [],
   "source": [
    "for i in range(9, -1, -1):\n",
    "    print(i)"
   ]
  },
  {
   "cell_type": "code",
   "execution_count": null,
   "metadata": {},
   "outputs": [],
   "source": [
    "import sys\n",
    "sys.path.append('f90_src')"
   ]
  },
  {
   "cell_type": "code",
   "execution_count": null,
   "metadata": {},
   "outputs": [],
   "source": [
    "import xelbdj2\n",
    "import numpy as np"
   ]
  },
  {
   "cell_type": "code",
   "execution_count": null,
   "metadata": {},
   "outputs": [],
   "source": [
    "print(xelbdj2.elsbdj.__doc__)"
   ]
  },
  {
   "cell_type": "code",
   "execution_count": null,
   "metadata": {},
   "outputs": [],
   "source": [
    "n = np.array(0.0, 'd')\n",
    "m = np.array(0.5, 'd')\n",
    "b = np.array(0, 'd')\n",
    "d = np.array(0, 'd')\n",
    "j = np.array(0, 'd')\n",
    "res = np.zeros(100)\n",
    "phi = np.linspace(0, 1, 100)\n",
    "\n",
    "for i, p in enumerate(phi):\n",
    "    s = np.sin(p)\n",
    "    xelbdj2.elsbdj(s, n, m, b, d, j)\n",
    "    res[i] = j"
   ]
  },
  {
   "cell_type": "code",
   "execution_count": null,
   "metadata": {},
   "outputs": [],
   "source": [
    "import matplotlib.pyplot as plt\n",
    "from scipy.special import ellipkinc, ellipeinc\n",
    "plt.plot(phi, res)\n",
    "\n",
    "y = np.array([(ellipkinc(phi, 0.5) - ellipeinc(phi, 0.5)) / 0.5 for phi in phi])\n",
    "plt.plot(phi, y)"
   ]
  },
  {
   "cell_type": "code",
   "execution_count": null,
   "metadata": {},
   "outputs": [],
   "source": [
    "n"
   ]
  },
  {
   "cell_type": "code",
   "execution_count": 32,
   "metadata": {},
   "outputs": [
    {
     "data": {
      "text/plain": [
       "3.0"
      ]
     },
     "execution_count": 32,
     "metadata": {},
     "output_type": "execute_result"
    }
   ],
   "source": [
    "np.floor(3*(np.pi/2) / (np.pi/2))"
   ]
  },
  {
   "cell_type": "code",
   "execution_count": null,
   "metadata": {},
   "outputs": [],
   "source": []
  }
 ],
 "metadata": {
  "kernelspec": {
   "display_name": "Python 3",
   "language": "python",
   "name": "python3"
  },
  "language_info": {
   "codemirror_mode": {
    "name": "ipython",
    "version": 3
   },
   "file_extension": ".py",
   "mimetype": "text/x-python",
   "name": "python",
   "nbconvert_exporter": "python",
   "pygments_lexer": "ipython3",
   "version": "3.8.6"
  }
 },
 "nbformat": 4,
 "nbformat_minor": 4
}
