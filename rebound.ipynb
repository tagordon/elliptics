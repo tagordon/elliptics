{
 "cells": [
  {
   "cell_type": "code",
   "execution_count": 1,
   "metadata": {},
   "outputs": [],
   "source": [
    "import rebound\n",
    "import matplotlib.pyplot as plt\n",
    "import ctypes\n",
    "photlib = ctypes.CDLL(\"./c_src/cwrapper.so\")\n",
    "\n",
    "import astropy.constants as ac\n",
    "strad = ac.au.value / ac.R_sun.value"
   ]
  },
  {
   "cell_type": "code",
   "execution_count": 2,
   "metadata": {},
   "outputs": [],
   "source": [
    "def get_impact_parameters(sim, t):\n",
    "    xp = np.zeros(len(t))\n",
    "    zp = np.zeros(len(t))\n",
    "    xm = np.zeros(len(t))\n",
    "    zm = np.zeros(len(t))\n",
    "\n",
    "    for i in range(len(t)):\n",
    "        sim.integrate(t[i])\n",
    "        xp[i] = sim.particles[1].x * strad\n",
    "        zp[i] = sim.particles[1].z * strad\n",
    "        xm[i] = sim.particles[2].x * strad\n",
    "        zm[i] = sim.particles[2].z * strad\n",
    "    \n",
    "    bp2 = xp*xp + zp*zp\n",
    "    bm2 = xm*xm + zm*zm\n",
    "    bpm2 = (xp-xm)**2 + (zp-zm)**2\n",
    "    return bp2, bm2, bpm2"
   ]
  },
  {
   "cell_type": "code",
   "execution_count": 3,
   "metadata": {},
   "outputs": [
    {
     "name": "stdout",
     "output_type": "stream",
     "text": [
      "CPU times: user 1.04 s, sys: 24.9 ms, total: 1.06 s\n",
      "Wall time: 1.16 s\n"
     ]
    },
    {
     "data": {
      "text/plain": [
       "<matplotlib.lines.Line2D at 0x10f00beb0>"
      ]
     },
     "execution_count": 3,
     "metadata": {},
     "output_type": "execute_result"
    },
    {
     "data": {
      "image/png": "[encoded data removed]",
      "text/plain": [
       "<Figure size 432x288 with 1 Axes>"
      ]
     },
     "metadata": {
      "needs_background": "light"
     },
     "output_type": "display_data"
    }
   ],
   "source": [
    "t = np.linspace(0, 0.5, 50000)\n",
    "\n",
    "sim = rebound.Simulation()\n",
    "\n",
    "sim.add(m=1.)                # Central object\n",
    "sim.add(m=1e-2, a=0.3, e=0.0) # Jupiter mass planet \n",
    "sim.add(primary=sim.particles[1], m = 1e-3, a=0.01, e=0.0, inc=0.1)        # Massless test particle\n",
    "\n",
    "sim.integrator = \"whfast\"\n",
    "sim.dt = 0.1\n",
    "\n",
    "%time bp2, bm2, bpm2 = get_impact_parameters(sim, t)\n",
    "plt.plot(t, bp2)\n",
    "plt.plot(t, bm2)\n",
    "#plt.plot(t, bpm2)\n",
    "plt.axhline(1.0)\n",
    "#plt.ylim(-1, 1)\n",
    "#plt.xlim(0.2, 0.3)\n",
    "#plt.xlim(5.5, 6.5)"
   ]
  },
  {
   "cell_type": "code",
   "execution_count": 4,
   "metadata": {},
   "outputs": [],
   "source": [
    "def flux(c1, c2, rp, rm, bp2, bm2, bpm2):\n",
    "    \n",
    "    if not hasattr(bp2, \"__len__\"):\n",
    "        bp2 = np.array([bp2])\n",
    "    if not hasattr(bm2, \"__len__\"):\n",
    "        bm2 = np.array([bm2])\n",
    "    if not hasattr(bpm2, \"__len__\"):\n",
    "        bpm2 = np.array([bpm2])\n",
    "    \n",
    "    bp2 = (ctypes.c_double * len(bp2)).from_buffer(bp2)\n",
    "    bm2 = (ctypes.c_double * len(bm2)).from_buffer(bp2)\n",
    "    bpm2 = (ctypes.c_double * len(bp2)).from_buffer(bp2)\n",
    "    lc = (ctypes.c_double * len(bp2)).from_buffer(np.zeros(len(bp2)))\n",
    "    rp = ctypes.c_double(rp)\n",
    "    rm = ctypes.c_double(rm)\n",
    "    c1 = ctypes.c_double(c1)\n",
    "    c2 = ctypes.c_double(c2)\n",
    "    j = ctypes.c_int(len(bp2))\n",
    "    photlib.LC.restype = None\n",
    "    photlib.LC(c1, c2, rp, rm, bp2, bm2, bpm2, lc, j)\n",
    "    return np.array(lc)\n",
    "\n",
    "def area(c1, c2, r, b, e):\n",
    "    \n",
    "    c1 = ctypes.c_double(c1)\n",
    "    c2 = ctypes.c_double(c2)\n",
    "    r = ctypes.c_double(r)\n",
    "    b = ctypes.c_double(b)\n",
    "    e = ctypes.c_double(e)\n",
    "    \n",
    "    photlib.Area.restype = ctypes.c_double\n",
    "    res = photlib.Area(c1, c2, r, b, e)\n",
    "    return res"
   ]
  },
  {
   "cell_type": "code",
   "execution_count": null,
   "metadata": {},
   "outputs": [],
   "source": [
    "b = np.linspace(0, 0.89, 100)\n",
    "A = [area(0.5, 0.5, 0.1, b, 1.0) for b in b]\n",
    "plt.plot(b, A)"
   ]
  },
  {
   "cell_type": "code",
   "execution_count": null,
   "metadata": {},
   "outputs": [],
   "source": [
    "from scipy.integrate import dblquad\n",
    "\n",
    "def numerical_area(c1, c2, r, b):\n",
    "    \n",
    "    I = lambda x, y: 1 - c1 * (1 - np.sqrt(1 - x**2 - y**2)) - c2 * (1 - np.sqrt(1 - x**2 - y**2))**2\n",
    "    lim1 = b - r\n",
    "    lim2 = b + r\n",
    "    gfun = lambda x: -np.sqrt(r**2 - (x - b)**2)\n",
    "    hfun = lambda x: np.sqrt(r**2 - (x - b)**2)\n",
    "    return dblquad(I, lim1, lim2, gfun, hfun)"
   ]
  },
  {
   "cell_type": "code",
   "execution_count": null,
   "metadata": {},
   "outputs": [],
   "source": [
    "numerical_area(0.1, 0.2, 1.0, 0.0)"
   ]
  },
  {
   "cell_type": "code",
   "execution_count": null,
   "metadata": {},
   "outputs": [],
   "source": [
    "area(0.1, 0.2, 0.01, 0.9, 1.0)"
   ]
  },
  {
   "cell_type": "code",
   "execution_count": null,
   "metadata": {},
   "outputs": [],
   "source": [
    "b = np.linspace(0, 0.69, 100)\n",
    "A = [numerical_area(0.3, 0.6, 0.3, b)[0] for b in b]\n",
    "plt.plot(b, A)\n",
    "\n",
    "b = np.linspace(0, 0.69, 100)\n",
    "A = [area(0.3, 0.6, 0.3, b, 1.0) for b in b]\n",
    "plt.plot(b, A)\n",
    "#plt.ylim(0, 0.1)"
   ]
  },
  {
   "cell_type": "code",
   "execution_count": 5,
   "metadata": {},
   "outputs": [
    {
     "name": "stdout",
     "output_type": "stream",
     "text": [
      "CPU times: user 2.51 ms, sys: 880 µs, total: 3.39 ms\n",
      "Wall time: 2.37 ms\n"
     ]
    },
    {
     "data": {
      "text/plain": [
       "(0.26, 0.27)"
      ]
     },
     "execution_count": 5,
     "metadata": {},
     "output_type": "execute_result"
    },
    {
     "data": {
      "image/png": "[encoded data removed]",
      "text/plain": [
       "<Figure size 432x288 with 1 Axes>"
      ]
     },
     "metadata": {
      "needs_background": "light"
     },
     "output_type": "display_data"
    }
   ],
   "source": [
    "rp = 0.2\n",
    "rm = 0.0\n",
    "%time lc = flux(0.5, 0.5, rp, rm, bp2, bm2, bpm2)\n",
    "plt.plot(t, lc, '-')\n",
    "#plt.ylim(-1.01, -0.9)\n",
    "plt.xlim(0.26, 0.27)"
   ]
  },
  {
   "cell_type": "code",
   "execution_count": 7,
   "metadata": {},
   "outputs": [
    {
     "data": {
      "text/plain": [
       "0.96"
      ]
     },
     "execution_count": 7,
     "metadata": {},
     "output_type": "execute_result"
    }
   ],
   "source": [
    "1 - 0.2 ** 2"
   ]
  },
  {
   "cell_type": "code",
   "execution_count": null,
   "metadata": {},
   "outputs": [],
   "source": [
    "(1 - c1 - 2 * c2) * (np.pi) + (c1 + 2 * c2) * (2 * np.pi / 3) + c2 * (np.pi / 2)"
   ]
  },
  {
   "cell_type": "code",
   "execution_count": null,
   "metadata": {},
   "outputs": [],
   "source": [
    "c1 = 0.1\n",
    "c2 = 0.2\n",
    "(1 - c1 - 2 * c2) * (np.pi) + (c1 + 2 * c2) * (2 * np.pi / 3) + c2 * (np.pi / 2)"
   ]
  },
  {
   "cell_type": "code",
   "execution_count": null,
   "metadata": {},
   "outputs": [],
   "source": [
    "(1 - 0.2 ** 2)"
   ]
  },
  {
   "cell_type": "code",
   "execution_count": null,
   "metadata": {},
   "outputs": [],
   "source": [
    "np.pi * 0.9999"
   ]
  },
  {
   "cell_type": "code",
   "execution_count": null,
   "metadata": {},
   "outputs": [],
   "source": []
  }
 ],
 "metadata": {
  "kernelspec": {
   "display_name": "Python 3",
   "language": "python",
   "name": "python3"
  },
  "language_info": {
   "codemirror_mode": {
    "name": "ipython",
    "version": 3
   },
   "file_extension": ".py",
   "mimetype": "text/x-python",
   "name": "python",
   "nbconvert_exporter": "python",
   "pygments_lexer": "ipython3",
   "version": "3.8.6"
  }
 },
 "nbformat": 4,
 "nbformat_minor": 4
}
