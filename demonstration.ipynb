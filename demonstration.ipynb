{
 "cells": [
  {
   "cell_type": "code",
   "execution_count": 1,
   "metadata": {},
   "outputs": [],
   "source": [
    "import numpy as np\n",
    "import matplotlib.pyplot as plt\n",
    "import ctypes\n",
    "from array import array\n",
    "photlib = ctypes.CDLL(\"./c_src/cwrapper.so\")\n",
    "fortran = ctypes.CDLL(\"./c_src/fwrapper.so\")"
   ]
  },
  {
   "cell_type": "code",
   "execution_count": 2,
   "metadata": {},
   "outputs": [],
   "source": [
    "def flux(c1, c2, rp, rm, bp, bpm, cth, sth):\n",
    "    \n",
    "    bp = (ctypes.c_double * len(bp)).from_buffer(bp)\n",
    "    bpm = (ctypes.c_double * len(bpm)).from_buffer(bpm)\n",
    "    cth = (ctypes.c_double * len(cth)).from_buffer(cth)\n",
    "    sth = (ctypes.c_double * len(sth)).from_buffer(sth)\n",
    "    lc = ((ctypes.c_double * 8) * len(bp)).from_buffer(np.zeros((8, len(bp))))\n",
    "    rp = ctypes.c_double(rp)\n",
    "    rm = ctypes.c_double(rm)\n",
    "    c1 = ctypes.c_double(c1)\n",
    "    c2 = ctypes.c_double(c2)\n",
    "    j = ctypes.c_int(len(bp))\n",
    "    photlib.LC.restype = None\n",
    "    photlib.LC(c1, c2, rp, rm, bp, bpm, cth, sth, lc, j)\n",
    "    return np.array(lc)\n",
    "\n",
    "def coords(t, ms, t0p, ep, Pp, Op, wp, ip, mp, t0m, em, Pm, Om, wm, im, mm):\n",
    "    \n",
    "    photlib.system_coords.restype = None\n",
    "    j = len(t)\n",
    "    \n",
    "    xs = (ctypes.c_double * len(t)).from_buffer(np.zeros(j))\n",
    "    ys = (ctypes.c_double * len(t)).from_buffer(np.zeros(j))\n",
    "    zs = (ctypes.c_double * len(t)).from_buffer(np.zeros(j))\n",
    "    xp = (ctypes.c_double * len(t)).from_buffer(np.zeros(j))\n",
    "    yp = (ctypes.c_double * len(t)).from_buffer(np.zeros(j))\n",
    "    zp = (ctypes.c_double * len(t)).from_buffer(np.zeros(j))\n",
    "    xm = (ctypes.c_double * len(t)).from_buffer(np.zeros(j))\n",
    "    ym = (ctypes.c_double * len(t)).from_buffer(np.zeros(j))\n",
    "    zm = (ctypes.c_double * len(t)).from_buffer(np.zeros(j))\n",
    "    t = (ctypes.c_double * len(t)).from_buffer(t)\n",
    "    j = ctypes.c_int(j)\n",
    "    \n",
    "    ms = ctypes.c_double(ms)\n",
    "    t0p = ctypes.c_double(t0p)\n",
    "    ep = ctypes.c_double(ep)\n",
    "    Pp = ctypes.c_double(Pp)\n",
    "    Op = ctypes.c_double(Op)\n",
    "    wp = ctypes.c_double(wp)\n",
    "    ip = ctypes.c_double(ip)\n",
    "    mp = ctypes.c_double(mp)\n",
    "    t0m = ctypes.c_double(t0m)\n",
    "    em = ctypes.c_double(em)\n",
    "    Pm = ctypes.c_double(Pm)\n",
    "    Om = ctypes.c_double(Om)\n",
    "    wm = ctypes.c_double(wm)\n",
    "    im = ctypes.c_double(im)\n",
    "    mm = ctypes.c_double(mm)\n",
    "    \n",
    "    photlib.system_coords(t, ms, t0p, ep, Pp, Op, wp, ip, mp, t0m, em, Pm, Om, wm, im, mm, j, xs, ys, zs, xp, yp, zp, xm, ym, zm)\n",
    "    return np.array(xs), np.array(ys), np.array(zs), np.array(xp), np.array(yp), np.array(zp), np.array(xm), np.array(ym), np.array(zm)\n",
    "\n",
    "def impacts(t, ms, t0p, ep, Pp, Op, wp, ip, mp, t0m, em, Pm, Om, wm, im, mm):\n",
    "    \n",
    "    photlib.system_impacts.restype = None\n",
    "    j = len(t)\n",
    "    \n",
    "    bp2 = (ctypes.c_double * j).from_buffer(np.zeros(j))\n",
    "    bm2 = (ctypes.c_double * j).from_buffer(np.zeros(j))\n",
    "    bpm2 = (ctypes.c_double * j).from_buffer(np.zeros(j))\n",
    "    x = (ctypes.c_double * j).from_buffer(np.zeros(j))\n",
    "    y = (ctypes.c_double * j).from_buffer(np.zeros(j))\n",
    "    xbc = (ctypes.c_double * j).from_buffer(np.zeros(j))\n",
    "    ybc = (ctypes.c_double * j).from_buffer(np.zeros(j))\n",
    "    t = (ctypes.c_double * j).from_buffer(t)\n",
    "    j = ctypes.c_int(j)\n",
    "    \n",
    "    ms = ctypes.c_double(ms)\n",
    "    t0p = ctypes.c_double(t0p)\n",
    "    ep = ctypes.c_double(ep)\n",
    "    Pp = ctypes.c_double(Pp)\n",
    "    Op = ctypes.c_double(Op)\n",
    "    wp = ctypes.c_double(wp)\n",
    "    ip = ctypes.c_double(ip)\n",
    "    mp = ctypes.c_double(mp)\n",
    "    t0m = ctypes.c_double(t0m)\n",
    "    em = ctypes.c_double(em)\n",
    "    Pm = ctypes.c_double(Pm)\n",
    "    Om = ctypes.c_double(Om)\n",
    "    wm = ctypes.c_double(wm)\n",
    "    im = ctypes.c_double(im)\n",
    "    mm = ctypes.c_double(mm)\n",
    "    \n",
    "    photlib.system_impacts(t, ms, t0p, ep, Pp, Op, wp, ip, mp, t0m, em, Pm, Om, wm, im, mm, j, x, y, xbc, ybc, bp2, bm2, bpm2)\n",
    "    return np.array(bp2), np.array(bm2), np.array(bpm2)\n",
    "\n",
    "def bp_bpm_theta(t, ms, t0p, ep, Pp, wp, ip, mp, t0m, em, Pm, Om, wm, im, mm):\n",
    "    \n",
    "    photlib.system_bp_bpm_theta.restype = None\n",
    "    j = len(t)\n",
    "    \n",
    "    bp = (ctypes.c_double * j).from_buffer(np.zeros(j))\n",
    "    bpm = (ctypes.c_double * j).from_buffer(np.zeros(j))\n",
    "    theta = (ctypes.c_double * j).from_buffer(np.zeros(j))\n",
    "    t = (ctypes.c_double * j).from_buffer(t)\n",
    "    j = ctypes.c_int(j)\n",
    "    \n",
    "    ms = ctypes.c_double(ms)\n",
    "    t0p = ctypes.c_double(t0p)\n",
    "    ep = ctypes.c_double(ep)\n",
    "    Pp = ctypes.c_double(Pp)\n",
    "    wp = ctypes.c_double(wp)\n",
    "    ip = ctypes.c_double(ip)\n",
    "    mp = ctypes.c_double(mp)\n",
    "    t0m = ctypes.c_double(t0m)\n",
    "    em = ctypes.c_double(em)\n",
    "    Pm = ctypes.c_double(Pm)\n",
    "    Om = ctypes.c_double(Om)\n",
    "    wm = ctypes.c_double(wm)\n",
    "    im = ctypes.c_double(im)\n",
    "    mm = ctypes.c_double(mm)\n",
    "    \n",
    "    photlib.system_bp_bpm_theta(t, ms, t0p, ep, Pp, wp, ip, mp, t0m, em, Pm, Om, wm, im, mm, j, bp, bpm, theta)\n",
    "    return np.array(bp), np.array(bpm), np.array(theta)"
   ]
  },
  {
   "cell_type": "code",
   "execution_count": 3,
   "metadata": {},
   "outputs": [
    {
     "name": "stdout",
     "output_type": "stream",
     "text": [
      "CPU times: user 22.3 ms, sys: 8.16 ms, total: 30.4 ms\n",
      "Wall time: 33.6 ms\n"
     ]
    }
   ],
   "source": [
    "t = np.linspace(79.3, 80.0, 120000)\n",
    "#t = np.linspace(79.37037, 79.37038, 120000)\n",
    "#t = np.linspace(79.35, 79.38, 120000)\n",
    "#t = np.linspace(79.690241, 79.690242, 120000)\n",
    "#t = np.linspace(79.5902392, 79.59023925, 120000)\n",
    "#t = np.linspace(79.3665, 79.366525, 120000)\n",
    "ms = ac.M_sun.value / ac.M_earth.value\n",
    "\n",
    "t0p = 0\n",
    "ep = 0.1\n",
    "Pp = 365\n",
    "Op = 30 * np.pi / 180\n",
    "wp = 0.0 * np.pi / 180\n",
    "ip = 1 * np.pi / 2\n",
    "mp = 10.0\n",
    "\n",
    "t0m = -1.1\n",
    "em = 0.3\n",
    "Pm = 1\n",
    "Om = 80 * np.pi / 180\n",
    "wm = 10.0 * np.pi / 180\n",
    "im = 90 * np.pi / 180\n",
    "mm = 5.0\n",
    "\n",
    "# no moon transit using these parameters \n",
    "#t0m = 20\n",
    "#em = 0.2\n",
    "#Pm = 40\n",
    "#Om = 80 * np.pi / 180\n",
    "#wm = 10.0 * np.pi / 180\n",
    "#im = 0 * np.pi / 180\n",
    "#mm = 1.0\n",
    "\n",
    "# no overlap using these parameters\n",
    "#t0m = 2\n",
    "#em = 0.2\n",
    "#Pm = 5\n",
    "#Om = 80 * np.pi / 180\n",
    "#wm = 10.0 * np.pi / 180\n",
    "#im = 0 * np.pi / 180\n",
    "#mm = 5.0\n",
    "\n",
    "#%time bp, bpm, theta = bp_bpm_theta(t, ms, t0p, ep, Pp, wp, ip, mp, t0m, em, Pm, Om, wm, im, mm)\n",
    "%time bp2, bm2, bpm2 = impacts(t, ms, t0p, ep, Pp, Op, wp, ip, mp, t0m, em, Pm, Om, wm, im, mm)\n",
    "xs, ys, zx, xp, yp, zp, xm, ym, zm = coords(t, ms, t0p, ep, Pp, Op, wp, ip, mp, t0m, em, Pm, Om, wm, im, mm)\n",
    "\n",
    "xp *= (ac.au.value / ac.R_sun.value)\n",
    "yp *= (ac.au.value / ac.R_sun.value)\n",
    "zp *= (ac.au.value / ac.R_sun.value)\n",
    "xm *= (ac.au.value / ac.R_sun.value)\n",
    "ym *= (ac.au.value / ac.R_sun.value)\n",
    "zm *= (ac.au.value / ac.R_sun.value)\n",
    "\n",
    "bp2 *= (ac.au.value / ac.R_sun.value)**2\n",
    "bm2 *= (ac.au.value / ac.R_sun.value)**2\n",
    "bpm2 *= (ac.au.value / ac.R_sun.value)**2\n",
    "\n",
    "bp = np.sqrt(bp2)\n",
    "bm = np.sqrt(bm2)\n",
    "bpm = np.sqrt(bpm2)\n",
    "theta = np.zeros_like(bp)\n",
    "\n",
    "for i, (bpi, bpmi, bmi) in enumerate(zip(bp, bpm, bm)):\n",
    "    a, b, c = bpi, bpmi, bmi\n",
    "    if b >= a : \n",
    "        tmp = b\n",
    "        b = a\n",
    "        a = tmp\n",
    "    if c >= b :\n",
    "        tmp = c\n",
    "        c = b\n",
    "        b = tmp\n",
    "    if b >= a :\n",
    "        tmp = b\n",
    "        b = a\n",
    "        a = tmp\n",
    "    delta = np.sqrt((a + (b + c)) * (c - (a - b)) * (c + (a - b)) * (a + (b - c)))\n",
    "    \n",
    "    a, b, c = bpi, bpmi, bmi\n",
    "    if a > b:\n",
    "        tmp = b\n",
    "        b = a\n",
    "        a = tmp\n",
    "    if b > c:\n",
    "        mu = c - (a - b)\n",
    "    else:\n",
    "        mu = b - (a - c)\n",
    "    theta[i] = 2 * np.arctan(np.sqrt(((a - b) + c) * mu / ((a + (b + c)) * ((a - c) + b))))\n",
    "    #theta[i] = np.arctan2(delta, (bpmi - bmi) * (bpmi + bmi) + bpi * bpi)\n",
    "    \n",
    "cth = np.cos(theta)\n",
    "sth = np.sin(theta)"
   ]
  },
  {
   "cell_type": "code",
   "execution_count": 4,
   "metadata": {},
   "outputs": [
    {
     "data": {
      "text/plain": [
       "[<matplotlib.lines.Line2D at 0x223adfaf0>]"
      ]
     },
     "execution_count": 4,
     "metadata": {},
     "output_type": "execute_result"
    },
    {
     "data": {
      "image/png": "[encoded data removed]",
      "text/plain": [
       "<Figure size 432x288 with 1 Axes>"
      ]
     },
     "metadata": {
      "needs_background": "light"
     },
     "output_type": "display_data"
    }
   ],
   "source": [
    "plt.plot(np.sin(np.linspace(0, 2 * np.pi)), np.cos(np.linspace(0, 2 * np.pi)))\n",
    "plt.plot(xp, yp)\n",
    "plt.plot(xm, ym)"
   ]
  },
  {
   "cell_type": "code",
   "execution_count": 7,
   "metadata": {},
   "outputs": [
    {
     "name": "stdout",
     "output_type": "stream",
     "text": [
      "CPU times: user 54.6 ms, sys: 2.56 ms, total: 57.1 ms\n",
      "Wall time: 59.6 ms\n"
     ]
    },
    {
     "data": {
      "text/plain": [
       "Text(0.05, 0.1, '$\\\\frac{dF}{c_{2}}$')"
      ]
     },
     "execution_count": 7,
     "metadata": {},
     "output_type": "execute_result"
    },
    {
     "data": {
      "text/plain": [
       "<Figure size 864x720 with 0 Axes>"
      ]
     },
     "metadata": {},
     "output_type": "display_data"
    },
    {
     "data": {
      "image/png": "[encoded data removed]",
      "text/plain": [
       "<Figure size 1440x1440 with 8 Axes>"
      ]
     },
     "metadata": {
      "needs_background": "light"
     },
     "output_type": "display_data"
    }
   ],
   "source": [
    "plt.figure(figsize=(12, 10))\n",
    "rp = 0.02\n",
    "rm = 0.01\n",
    "%time lc_combined_ld = flux(0.6, 0.3, rp, rm, bp, bpm, cth, sth)\n",
    "#%timeit lc_combined_ld = flux(0.6, 0.3, rp, rm, bp, bpm, cth, sth)\n",
    "\n",
    "mark = '-'\n",
    "fig, axs = plt.subplots(4, 2, figsize=(20, 20), sharex=True)\n",
    "axs[0, 0].plot(t, lc_combined_ld[:, 0], mark, color='r', linewidth=2)\n",
    "axs[0, 0].annotate('F', (0.05, 0.1), xycoords='axes fraction', fontsize=20)\n",
    "\n",
    "axs[1, 0].plot(t, lc_combined_ld[:, 1], mark, color='r', linewidth=2) # bp\n",
    "axs[1, 0].annotate(r'$\\frac{dF}{d_{rp}}$', (0.05, 0.1), xycoords='axes fraction', fontsize=20)\n",
    "\n",
    "axs[2, 0].plot(t, lc_combined_ld[:, 2], mark, color='r', linewidth=2) # rp\n",
    "axs[2, 0].annotate(r'$\\frac{dF}{d_{rm}}$', (0.05, 0.1), xycoords='axes fraction', fontsize=20)\n",
    "\n",
    "axs[1, 1].plot(t, lc_combined_ld[:, 3], mark, color='r', linewidth=2) # bm\n",
    "axs[1, 1].annotate(r'$\\frac{dF}{d_{bp}}$', (0.05, 0.1), xycoords='axes fraction', fontsize=20)\n",
    "\n",
    "axs[2, 1].plot(t, lc_combined_ld[:, 4], mark, color='r', linewidth=2) # rm\n",
    "axs[2, 1].annotate(r'$\\frac{dF}{d_{bpm}}$', (0.05, 0.1), xycoords='axes fraction', fontsize=20)\n",
    "\n",
    "axs[0, 1].plot(t, lc_combined_ld[:, 5], mark, color='r', linewidth=2) # bpm\n",
    "axs[0, 1].annotate(r'$\\frac{dF}{d_{\\theta}}$', (0.05, 0.1), xycoords='axes fraction', fontsize=20)\n",
    "\n",
    "axs[3, 0].plot(t, lc_combined_ld[:, 6], mark, color='r', linewidth=2) # c1\n",
    "axs[3, 0].annotate(r'$\\frac{dF}{c_{1}}$', (0.05, 0.1), xycoords='axes fraction', fontsize=20)\n",
    "\n",
    "axs[3, 1].plot(t, lc_combined_ld[:, 7], mark, color='r', linewidth=2) # c2\n",
    "axs[3, 1].annotate(r'$\\frac{dF}{c_{2}}$', (0.05, 0.1), xycoords='axes fraction', fontsize=20)\n",
    "\n",
    "#[ax.set_ylim(-0.001, 0.001) for ax in axs.flatten()]\n",
    "#[ax.axhline(0.0) for ax in axs.flatten()]\n",
    "#axs[1, 0].set_ylim(-0.055, -0.05)"
   ]
  },
  {
   "cell_type": "code",
   "execution_count": null,
   "metadata": {},
   "outputs": [],
   "source": []
  },
  {
   "cell_type": "code",
   "execution_count": null,
   "metadata": {},
   "outputs": [],
   "source": [
    "lc_combined_ld[:, 0][-1]"
   ]
  },
  {
   "cell_type": "code",
   "execution_count": null,
   "metadata": {},
   "outputs": [],
   "source": [
    "plt.plot(t, bpm - rp - rm)\n",
    "print(np.where(np.isclose(bpm - rp - rm, 0.0, atol=np.min(np.diff(t)), rtol=0.0)))"
   ]
  },
  {
   "cell_type": "code",
   "execution_count": null,
   "metadata": {},
   "outputs": [],
   "source": [
    "i = 57483\n",
    "lc_combined_ld[i, 0]"
   ]
  },
  {
   "cell_type": "code",
   "execution_count": null,
   "metadata": {},
   "outputs": [],
   "source": [
    "#### from mpmath import *\n",
    "mp.dps = 40\n",
    "print((bp2[i] + bpm2[i] - bm2[i]) / (2 * bp[i] * bpm[i]))\n",
    "print(np.cos(theta[i]))\n",
    "print(mp.cos(theta[i]))"
   ]
  },
  {
   "cell_type": "code",
   "execution_count": null,
   "metadata": {},
   "outputs": [],
   "source": [
    "# finite difference for theta\n",
    "\n",
    "dtheta = 1e-6\n",
    "dcth = -sth * dtheta\n",
    "dsth = cth * dtheta\n",
    "\n",
    "lcp = flux(0.6, 0.3, rp, rm, bp, bpm, cth + dcth, sth + dsth)[:, 0]\n",
    "lcm = flux(0.6, 0.3, rp, rm, bp, bpm, cth - dcth, sth - dsth)[:, 0]\n",
    "\n",
    "fig, axs = plt.subplots(2, 1, figsize=(10, 10), sharex=True, gridspec_kw={'height_ratios': [3, 1]})\n",
    "fig.subplots_adjust(hspace=0)\n",
    "axs[0].plot(t, lc_combined_ld[:, 5], color='r', linewidth=2)\n",
    "axs[0].plot(t, (lcp - lcm) / (2 * dtheta), 'k--')\n",
    "axs[1].plot(t, (lcp - lcm) / (2 * dtheta) - lc_combined_ld[:, 5], 'k')\n",
    "axs[0].set_ylim(-0.0001, 0.0001)"
   ]
  },
  {
   "cell_type": "code",
   "execution_count": null,
   "metadata": {},
   "outputs": [],
   "source": [
    "# finite difference for rp\n",
    "\n",
    "drp = 1e-10\n",
    "lcp = flux(0.6, 0.3, rp + drp, rm, bp, bpm, cth, sth)[:, 0]\n",
    "lcm = flux(0.6, 0.3, rp - drp, rm, bp, bpm, cth, sth)[:, 0]\n",
    "\n",
    "fig, axs = plt.subplots(2, 1, figsize=(10, 10), sharex=True, gridspec_kw={'height_ratios': [3, 1]})\n",
    "fig.subplots_adjust(hspace=0)\n",
    "axs[0].plot(t, lc_combined_ld[:, 1], color='r', linewidth=2)\n",
    "axs[0].plot(t, (lcp - lcm) / (2 * drp), 'k--')\n",
    "\n",
    "axs[1].plot(t,  (lcp - lcm) / (2 * drp) - lc_combined_ld[:, 1], 'k-')"
   ]
  },
  {
   "cell_type": "code",
   "execution_count": null,
   "metadata": {},
   "outputs": [],
   "source": [
    "# finite difference for rm\n",
    "\n",
    "drm = 1e-10\n",
    "lcp = flux(0.6, 0.3, rp, rm + drm, bp, bpm, cth, sth)[:, 0]\n",
    "lcm = flux(0.6, 0.3, rp, rm - drm, bp, bpm, cth, sth)[:, 0]\n",
    "\n",
    "fig, axs = plt.subplots(2, 1, figsize=(10, 10), sharex=True, gridspec_kw={'height_ratios': [3, 1]})\n",
    "fig.subplots_adjust(hspace=0)\n",
    "axs[0].plot(t, lc_combined_ld[:, 2], color='r', linewidth=2)\n",
    "axs[0].plot(t, (lcp - lcm) / (2 * drm), 'k--')\n",
    "axs[1].plot(t, (lcp - lcm) / (2 * drm) - lc_combined_ld[:, 2], 'k')"
   ]
  },
  {
   "cell_type": "code",
   "execution_count": null,
   "metadata": {},
   "outputs": [],
   "source": [
    "# finite difference for bp\n",
    "\n",
    "dbp = 1e-8\n",
    "lcp = flux(0.6, 0.3, rp, rm, bp + dbp, bpm, cth, sth)[:, 0]\n",
    "lcm = flux(0.6, 0.3, rp, rm, bp - dbp, bpm, cth, sth)[:, 0]\n",
    "\n",
    "fig, axs = plt.subplots(2, 1, figsize=(10, 10), sharex=True, gridspec_kw={'height_ratios': [3, 1]})\n",
    "fig.subplots_adjust(hspace=0)\n",
    "axs[0].plot(t, lc_combined_ld[:, 3], color='r', linewidth=3)\n",
    "axs[0].plot(t, (lcp - lcm) / (2 * dbp), 'k--')\n",
    "axs[1].plot(t, (lcp - lcm) / (2 * dbp) - lc_combined_ld[:, 3], 'k')"
   ]
  },
  {
   "cell_type": "code",
   "execution_count": null,
   "metadata": {},
   "outputs": [],
   "source": [
    "# finite difference for bpm\n",
    "\n",
    "dbpm = 1e-10\n",
    "lcp = flux(0.6, 0.3, rp, rm, bp, bpm + dbpm, cth, sth)[:, 0]\n",
    "lcm = flux(0.6, 0.3, rp, rm, bp, bpm - dbpm, cth, sth)[:, 0]\n",
    "\n",
    "fig, axs = plt.subplots(2, 1, figsize=(10, 10), sharex=True, gridspec_kw={'height_ratios': [3, 1]})\n",
    "fig.subplots_adjust(hspace=0)\n",
    "axs[0].plot(t, lc_combined_ld[:, 4], color='r', linewidth=2)\n",
    "axs[0].plot(t, (lcp - lcm) / (2 * dbpm), 'k--')\n",
    "axs[1].plot(t, (lcp - lcm) / (2 * dbpm) - lc_combined_ld[:, 4], 'k')"
   ]
  },
  {
   "cell_type": "code",
   "execution_count": null,
   "metadata": {},
   "outputs": [],
   "source": [
    "t0 = 79.378\n",
    "lc = lc_combined_ld\n",
    "i = np.where(np.isclose(t, t0, atol=np.min(np.diff(t)), rtol=0.0))[0][0]\n",
    "print(i)\n",
    "\n",
    "xp0, yp0 = bp[i], 0.0\n",
    "th = np.arccos((bp[i]**2 + bm[i]**2 - bpm[i]**2) / (2 * bp[i] * bm[i]))\n",
    "xm0, ym0 = xp0 + bpm[i] * np.cos(th), yp0 - bpm[i] * np.sin(th)\n",
    "\n",
    "plt.figure(figsize=(10, 10))\n",
    "phi = np.linspace(0, 2 * np.pi, 1000)\n",
    "\n",
    "plt.plot(np.cos(phi), np.sin(phi), color='k')\n",
    "plt.plot(xp0 + rp * np.cos(phi), yp0 + rp * np.sin(phi), color='r')\n",
    "plt.plot(xm0 + rm * np.cos(phi), ym0 + rm * np.sin(phi), color='b')\n",
    "\n",
    "plt.plot(xp0 + rp * np.cos(np.pi - lc[i][1] - th), yp0 + rp * np.sin(np.pi - lc[i][1] - th), 'mo')\n",
    "plt.plot(xp0 + rp * np.cos(np.pi - lc[i][2] - th), yp0 + rp * np.sin(np.pi - lc[i][2] - th), 'm.')\n",
    "plt.plot(xm0 + rm * np.cos(np.pi + lc[i][3]), ym0 + rm * np.sin(np.pi + lc[i][3]), 'go')\n",
    "plt.plot(xm0 + rm * np.cos(np.pi + lc[i][4]), ym0 + rm * np.sin(np.pi + lc[i][4]), 'g.')\n",
    "\n",
    "#dphi = 0.0055\n",
    "#plt.plot(np.cos(lc[i][1] + dphi), np.sin(lc[i][1] + dphi), 'go')\n",
    "#plt.plot(np.cos(-lc[i][1] + dphi), np.sin(-lc[i][1] + dphi), 'go')\n",
    "plt.plot(0, 0, 'k.')\n",
    "\n",
    "plt.ylim(-1.5, 1.5)\n",
    "plt.xlim(-1.5, 1.5)\n",
    "\n",
    "boxsize = 0.2\n",
    "boxcenter = (1.0, 0.0)\n",
    "plt.xlim(boxcenter[0]-boxsize, boxcenter[0]+boxsize)\n",
    "plt.ylim(boxcenter[1]-boxsize, boxcenter[1]+boxsize)"
   ]
  },
  {
   "cell_type": "code",
   "execution_count": null,
   "metadata": {},
   "outputs": [],
   "source": [
    "bm[i]"
   ]
  },
  {
   "cell_type": "code",
   "execution_count": null,
   "metadata": {},
   "outputs": [],
   "source": [
    "print(np.sum(np.isnan(lc_combined_ld)))"
   ]
  },
  {
   "cell_type": "code",
   "execution_count": null,
   "metadata": {},
   "outputs": [],
   "source": [
    "plt.plot(t, bp)\n",
    "i = np.where(np.isclose(bp, rp, atol=2*np.min(np.diff(t)), rtol=0.0))[0][0]\n",
    "plt.axvline(t[i])\n",
    "plt.axhline(rp)"
   ]
  },
  {
   "cell_type": "code",
   "execution_count": null,
   "metadata": {},
   "outputs": [],
   "source": [
    "lc_combined_ld_point = flux(0.6, 0.0, rp, rm, np.array([rp]), np.array([bm[i]]), np.array([bpm[i]]))\n",
    "lc_combined_ld = flux(0.6, 0.0, rp, rm, bp, bm, bpm)\n",
    "\n",
    "mark = '-'\n",
    "fig, axs = plt.subplots(4, 2, figsize=(20, 20), sharex=True)\n",
    "axs[0, 0].plot(t, lc_combined_ld[:, 0], mark, color='r', linewidth=2)\n",
    "axs[0, 0].plot(t[i], lc_combined_ld_point[:, 0], 'o', color='b', linewidth=2)\n",
    "axs[0, 0].annotate('F', (0.05, 0.1), xycoords='axes fraction', fontsize=20)\n",
    "\n",
    "axs[1, 0].plot(t, lc_combined_ld[:, 1], mark, color='r', linewidth=2) # bp\n",
    "axs[1, 0].plot(t[i], lc_combined_ld_point[:, 1], 'o', color='b', linewidth=2)\n",
    "axs[1, 0].annotate(r'$\\frac{dF}{d_{bp}}$', (0.05, 0.1), xycoords='axes fraction', fontsize=20)\n",
    "\n",
    "axs[2, 0].plot(t, lc_combined_ld[:, 2], mark, color='r', linewidth=2) # rp\n",
    "axs[2, 0].plot(t[i], lc_combined_ld_point[:, 2], 'o', color='b', linewidth=2)\n",
    "axs[2, 0].annotate(r'$\\frac{dF}{d_{rp}}$', (0.05, 0.1), xycoords='axes fraction', fontsize=20)\n",
    "\n",
    "axs[1, 1].plot(t, lc_combined_ld[:, 3], mark, color='r', linewidth=2) # bm\n",
    "axs[1, 1].plot(t[i], lc_combined_ld_point[:, 3], 'o', color='b', linewidth=2)\n",
    "axs[1, 1].annotate(r'$\\frac{dF}{d_{bm}}$', (0.05, 0.1), xycoords='axes fraction', fontsize=20)\n",
    "\n",
    "axs[2, 1].plot(t, lc_combined_ld[:, 4], mark, color='r', linewidth=2) # rm\n",
    "axs[2, 1].plot(t[i], lc_combined_ld_point[:, 4], 'o', color='b', linewidth=2)\n",
    "axs[2, 1].annotate(r'$\\frac{dF}{d_{rm}}$', (0.05, 0.1), xycoords='axes fraction', fontsize=20)\n",
    "\n",
    "axs[0, 1].plot(t, lc_combined_ld[:, 5], mark, color='r', linewidth=2) # bpm\n",
    "axs[0, 1].plot(t[i], lc_combined_ld_point[:, 5], 'o', color='b', linewidth=2)\n",
    "axs[0, 1].annotate(r'$\\frac{dF}{d_{bpm}}$', (0.05, 0.1), xycoords='axes fraction', fontsize=20)\n",
    "\n",
    "axs[3, 0].plot(t, lc_combined_ld[:, 6], mark, color='r', linewidth=2) # c1\n",
    "axs[3, 0].plot(t[i], lc_combined_ld_point[:, 6], 'o', color='b', linewidth=2)\n",
    "axs[3, 0].annotate(r'$\\frac{dF}{c_{1}}$', (0.05, 0.1), xycoords='axes fraction', fontsize=20)\n",
    "\n",
    "axs[3, 1].plot(t, lc_combined_ld[:, 7], mark, color='r', linewidth=2) # c2\n",
    "axs[3, 1].plot(t[i], lc_combined_ld_point[:, 7], 'o', color='b', linewidth=2)\n",
    "axs[3, 1].annotate(r'$\\frac{dF}{c_{2}}$', (0.05, 0.1), xycoords='axes fraction', fontsize=20)"
   ]
  },
  {
   "cell_type": "code",
   "execution_count": null,
   "metadata": {},
   "outputs": [],
   "source": [
    "#rp = 0.1\n",
    "drp = 0.00000001\n",
    "flux_rp = flux(0.6, 0.3, rp, rm, bp, bm, bpm)\n",
    "flux_rp_plus_drp = flux(0.6, 0.3, rp + drp, rm, bp, bm, bpm)\n",
    "flux_rp_minus_drp = flux(0.6, 0.3, rp - drp, rm, bp, bm, bpm)\n",
    "\n",
    "plt.figure(figsize=(8, 8))\n",
    "plt.plot(t, flux_rp[:, 2], '-', color='r', linewidth=2)\n",
    "plt.plot(t, (flux_rp_plus_drp[:, 0] - flux_rp_minus_drp[:, 0])/(2*drp))\n",
    "#plt.ylim(-0.3, 0.001)\n",
    "#plt.xlim(79.86, 79.88)"
   ]
  },
  {
   "cell_type": "code",
   "execution_count": null,
   "metadata": {},
   "outputs": [],
   "source": [
    "#rm = 0.05\n",
    "drm = 0.0001\n",
    "flux_rm = flux(0.6, 0.0, rp, rm, bp, bm, bpm)\n",
    "flux_rm_plus_drm = flux(0.6, 0.0, rp, rm+drm, bp, bm, bpm)\n",
    "flux_rm_minus_drm = flux(0.6, 0.0, rp, rm-drm, bp, bm, bpm)\n",
    "\n",
    "plt.figure(figsize=(8, 8))\n",
    "plt.plot(t, flux_rm[:, 4], '-', color='r', linewidth=2)\n",
    "plt.plot(t, (flux_rm_plus_drm[:, 0] - flux_rm_minus_drm[:, 0])/(2*drm))"
   ]
  },
  {
   "cell_type": "code",
   "execution_count": null,
   "metadata": {},
   "outputs": [],
   "source": [
    "dbp = 0.00000001\n",
    "bpp = bp + dbp\n",
    "bpm = bp - dbp\n",
    "flux_rp = flux(0.6, 0.3, rp, rm, bp, bm, bpm)\n",
    "flux_rp_plus_drp = flux(0.6, 0.3, rp, rm, bpp, bm, bpm)\n",
    "flux_rp_minus_drp = flux(0.6, 0.3, rp, rm, bpm, bm, bpm)\n",
    "\n",
    "plt.figure(figsize=(8, 8))\n",
    "plt.plot(t, flux_rp[:, 1], '-', color='r', linewidth=2)\n",
    "plt.plot(t, (flux_rp_plus_drp[:, 0] - flux_rp_minus_drp[:, 0])/(2*dbp))\n",
    "plt.ylim(-0.001, 0.02)\n",
    "#plt.xlim(79.9, 79.92)"
   ]
  },
  {
   "cell_type": "code",
   "execution_count": null,
   "metadata": {},
   "outputs": [],
   "source": [
    "dbm = 0.00000001\n",
    "bmp = bm + dbm\n",
    "bmm = bm - dbm\n",
    "flux_rp = flux(0.6, 0.3, rp, rm, bp, bm, bpm)\n",
    "flux_rp_plus_drm = flux(0.6, 0.3, rp, rm, bp, bmp, bpm)\n",
    "flux_rp_minus_drm = flux(0.6, 0.3, rp, rm, bp, bmm, bpm)\n",
    "\n",
    "plt.figure(figsize=(8, 8))\n",
    "plt.plot(t, flux_rp[:, 3], '-', color='r', linewidth=2)\n",
    "plt.plot(t, (flux_rp_plus_drm[:, 0] - flux_rp_minus_drm[:, 0])/(2*dbm))\n",
    "\n",
    "plt.ylim(-0.01, 0.01)"
   ]
  },
  {
   "cell_type": "code",
   "execution_count": null,
   "metadata": {},
   "outputs": [],
   "source": [
    "# everything co-planar -- doesn't work yet. \n",
    "\n",
    "bp = np.linspace(-1.5, 1.5, 1000)\n",
    "bm = np.linspace(-1.8, 1.8, 1000)\n",
    "#bpm = np.sqrt((bp - bm)**2 + np.linspace(0, 0.01, 1000)**2)\n",
    "bpm = bp - bm\n",
    "t = np.linspace(0, 1, 1000)\n",
    "\n",
    "bp2 = bp * bp\n",
    "bm2 = bm * bm\n",
    "bpm2 = bpm * bpm\n",
    "\n",
    "plt.figure(figsize=(12, 10))\n",
    "rp = 0.05\n",
    "rm = 0.02\n",
    "%time lc_combined_nold = flux(0.0, 0.0, rp, rm, bp2, bm2, bpm2)\n",
    "%time lc_combined_ld = flux(0.6, 0.3, rp, rm, bp2, bm2, bpm2)\n",
    "\n",
    "mark = '-'\n",
    "fig, axs = plt.subplots(4, 2, figsize=(20, 20), sharex=True)\n",
    "axs[0, 0].plot(t, lc_combined_ld[:, 0], mark, color='r', linewidth=2)\n",
    "axs[0, 0].annotate('F', (0.05, 0.1), xycoords='axes fraction', fontsize=20)\n",
    "\n",
    "axs[1, 0].plot(t, lc_combined_ld[:, 1], mark, color='r', linewidth=2) # bp\n",
    "axs[1, 0].annotate(r'$\\frac{dF}{d_{bp}}$', (0.05, 0.1), xycoords='axes fraction', fontsize=20)\n",
    "\n",
    "axs[2, 0].plot(t, lc_combined_ld[:, 2], mark, color='r', linewidth=2) # rp\n",
    "axs[2, 0].annotate(r'$\\frac{dF}{d_{rp}}$', (0.05, 0.1), xycoords='axes fraction', fontsize=20)\n",
    "\n",
    "axs[1, 1].plot(t, lc_combined_ld[:, 3], mark, color='r', linewidth=2) # bm\n",
    "axs[1, 1].annotate(r'$\\frac{dF}{d_{bm}}$', (0.05, 0.1), xycoords='axes fraction', fontsize=20)\n",
    "\n",
    "axs[2, 1].plot(t, lc_combined_ld[:, 4], mark, color='r', linewidth=2) # rm\n",
    "axs[2, 1].annotate(r'$\\frac{dF}{d_{rm}}$', (0.05, 0.1), xycoords='axes fraction', fontsize=20)\n",
    "\n",
    "axs[0, 1].plot(t, lc_combined_ld[:, 5], mark, color='r', linewidth=2) # bpm\n",
    "axs[0, 1].annotate(r'$\\frac{dF}{d_{bpm}}$', (0.05, 0.1), xycoords='axes fraction', fontsize=20)\n",
    "\n",
    "axs[3, 0].plot(t, lc_combined_ld[:, 6], mark, color='r', linewidth=2) # c1\n",
    "axs[3, 0].annotate(r'$\\frac{dF}{c_{1}}$', (0.05, 0.1), xycoords='axes fraction', fontsize=20)\n",
    "\n",
    "axs[3, 1].plot(t, lc_combined_ld[:, 7], mark, color='r', linewidth=2) # c2\n",
    "axs[3, 1].annotate(r'$\\frac{dF}{c_{2}}$', (0.05, 0.1), xycoords='axes fraction', fontsize=20)"
   ]
  },
  {
   "cell_type": "code",
   "execution_count": null,
   "metadata": {},
   "outputs": [],
   "source": [
    "#rp = 0.1\n",
    "drp = 0.00000001\n",
    "flux_rp = flux(0.6, 0.3, rp, rm, bp2, bm2, bpm2)\n",
    "flux_rp_plus_drp = flux(0.6, 0.3, rp + drp, rm, bp2, bm2, bpm2)\n",
    "flux_rp_minus_drp = flux(0.6, 0.3, rp - drp, rm, bp2, bm2, bpm2)\n",
    "\n",
    "plt.figure(figsize=(8, 8))\n",
    "plt.plot(t, flux_rp[:, 2], '-', color='r', linewidth=2)\n",
    "plt.plot(t, (flux_rp_plus_drp[:, 0] - flux_rp_minus_drp[:, 0])/(2*drp))"
   ]
  },
  {
   "cell_type": "code",
   "execution_count": null,
   "metadata": {},
   "outputs": [],
   "source": [
    "dbp = 0.00000001\n",
    "bp2p = (np.sqrt(bp2) + dbp)**2\n",
    "bp2m = (np.sqrt(bp2) - dbp)**2\n",
    "flux_rp = flux(0.6, 0.3, rp, rm, bp2, bm2, bpm2)\n",
    "flux_rp_plus_drp = flux(0.6, 0.3, rp, rm, bp2p, bm2, bpm2)\n",
    "flux_rp_minus_drp = flux(0.6, 0.3, rp, rm, bp2m, bm2, bpm2)\n",
    "\n",
    "plt.figure(figsize=(8, 8))\n",
    "plt.plot(t, flux_rp[:, 1], '-', color='r', linewidth=2)\n",
    "plt.plot(t, (flux_rp_plus_drp[:, 0] - flux_rp_minus_drp[:, 0])/(2*dbp))"
   ]
  },
  {
   "cell_type": "code",
   "execution_count": null,
   "metadata": {},
   "outputs": [],
   "source": [
    "t0 = 79.6\n",
    "lc = lc_combined_ld\n",
    "i = np.where(np.isclose(t, t0, atol=np.min(np.diff(t)), rtol=0.0))[0][0]\n",
    "print(i)\n",
    "\n",
    "xm0, ym0 = np.sqrt(bm2[i]), 0.0\n",
    "theta = np.arccos((bp2m[i] + bm2[i] - bpm2[i]) / (2 * np.sqrt(bp2m[i] * bm2[i])))\n",
    "xp0, yp0 = np.sqrt(bp2m[i]) * np.cos(theta), np.sqrt(bp2m[i]) * np.sin(theta)\n",
    "\n",
    "plt.figure(figsize=(10, 10))\n",
    "theta = np.linspace(0, 2 * np.pi, 1000)\n",
    "\n",
    "plt.plot(np.cos(theta), np.sin(theta), color='k')\n",
    "plt.plot(xp0 + rp * np.cos(theta), yp0 + rp * np.sin(theta), color='r')\n",
    "plt.plot(xm0 + rm * np.cos(theta), ym0 + rm * np.sin(theta), color='b')\n",
    "\n",
    "#plt.plot(xm0 + rm * np.cos(np.pi + lc[i][1]), ym0 + rm * np.sin(np.pi + lc[i][1]), 'go')\n",
    "#plt.plot(xm0 + rm * np.cos(np.pi - lc[i]), ym0 + rm * np.sin(np.pi - lc[i]), 'go')\n",
    "#plt.plot(xp0 + rp * np.cos(np.pi + lc[i][1]), yp0 + rp * np.sin(np.pi + lc[i][1]), 'go')\n",
    "#plt.plot(xp0 + rp * np.cos(np.pi - lc[i]), yp0 + rp * np.sin(np.pi - lc[i]), 'go')\n",
    "dphi = 0.0055\n",
    "plt.plot(np.cos(lc[i][1] + dphi), np.sin(lc[i][1] + dphi), 'go')\n",
    "plt.plot(np.cos(-lc[i][1] + dphi), np.sin(-lc[i][1] + dphi), 'go')\n",
    "plt.plot(0, 0, 'k.')\n",
    "\n",
    "plt.ylim(-1.5, 1.5)\n",
    "plt.xlim(-1.5, 1.5)\n",
    "\n",
    "boxsize = 1.5\n",
    "boxcenter = (0.0, 0)\n",
    "plt.xlim(boxcenter[0]-boxsize, boxcenter[0]+boxsize)\n",
    "plt.ylim(boxcenter[1]-boxsize, boxcenter[1]+boxsize)"
   ]
  },
  {
   "cell_type": "code",
   "execution_count": null,
   "metadata": {},
   "outputs": [],
   "source": [
    "print(np.sqrt(bpm2[i]) - rp)\n",
    "print(np.sqrt(bpm2[i]) - rm)\n",
    "print(np.sqrt(bpm2[i]) - rm - rp)\n",
    "print((rm - rp) * (rm + rp) + bpm2[i])\n",
    "print((np.sqrt(bpm2[i]) - rp) * (np.sqrt(bpm2[i]) + rp) + rm*rm)\n",
    "print((rm - rp) * (rm + rp))\n",
    "print(np.sqrt(bp2[i]) - rp)"
   ]
  },
  {
   "cell_type": "code",
   "execution_count": null,
   "metadata": {},
   "outputs": [],
   "source": [
    "def intersection(r, b):\n",
    "    \n",
    "    if (b - r < 1) & (b + r > 1):\n",
    "        theta = np.arccos((r**2 + b**2 - 1)/(2*r*b))\n",
    "        phi = np.arccos((1 + b**2 - r**2)/(2*b))\n",
    "    else:\n",
    "        theta = 0.0\n",
    "        phi = 0.0\n",
    "    return theta, phi"
   ]
  },
  {
   "cell_type": "code",
   "execution_count": null,
   "metadata": {},
   "outputs": [],
   "source": [
    "rp = 0.05\n",
    "drp = 0.00001\n",
    "\n",
    "intersections = np.array([intersection(rp, b) for b in np.sqrt(bp2)])\n",
    "theta = intersections[:, 0]\n",
    "phi = intersections[:, 1]\n",
    "\n",
    "intersections_plus = np.array([intersection(rp + drp, b) for b in np.sqrt(bp2)])\n",
    "theta_plus = intersections_plus[:, 0]\n",
    "phi_plus = intersections_plus[:, 1]\n",
    "\n",
    "intersections_minus = np.array([intersection(rp - drp, b) for b in np.sqrt(bp2)])\n",
    "theta_minus = intersections_minus[:, 0]\n",
    "phi_minus = intersections_minus[:, 1]\n",
    "\n",
    "plt.plot(t, (theta_plus - theta_minus) / (2 * drp))\n",
    "plt.plot(t, (phi_plus - phi_minus) / (2 * drp))\n",
    "plt.ylim(-100, 100)"
   ]
  },
  {
   "cell_type": "code",
   "execution_count": null,
   "metadata": {},
   "outputs": [],
   "source": [
    "plt.plot(t, lc_combined_ld[:, 2], '-', color='r', linewidth=2)\n",
    "plt.plot(t, (theta_plus - theta_minus) / (2 * drp))\n",
    "plt.ylim(-100, 100)\n",
    "plt.xlim(79.38, 79.44)"
   ]
  },
  {
   "cell_type": "code",
   "execution_count": null,
   "metadata": {},
   "outputs": [],
   "source": [
    "r = 0.04\n",
    "b = 0.2\n",
    "phi = np.linspace(0, 0.001, 1000)\n",
    "plt.plot(phi, r * phi / (b * np.sin(phi) / 6))"
   ]
  },
  {
   "cell_type": "code",
   "execution_count": null,
   "metadata": {},
   "outputs": [],
   "source": [
    "phi1 = np.float32(0.5)\n",
    "phi2 = np.float32(0.5 + 1e-9)\n",
    "(np.sin(3 * phi1) - phi1) - (np.sin(3 * phi2) - phi2)# - 9 * np.sin(phi)"
   ]
  },
  {
   "cell_type": "code",
   "execution_count": null,
   "metadata": {},
   "outputs": [],
   "source": [
    "phi1 = np.float128(0.5)\n",
    "phi2 = np.float128(0.5 + 1e-9)\n",
    "(np.sin(3 * phi1) - phi1) - (np.sin(3 * phi2) - phi2)# - 9 * np.sin(phi)"
   ]
  },
  {
   "cell_type": "code",
   "execution_count": null,
   "metadata": {},
   "outputs": [],
   "source": [
    "def Fq_r(phi, b, r):\n",
    "    return (b * (b * (r * phi - (b * np.sin(phi)) / 6) \n",
    "        + r**2 * (np.sin(3 * phi) - 9 * np.sin(phi)) / 4) \n",
    "        + r**3 * (phi - np.sin(4 * phi) / 12))\n",
    "\n",
    "def Fq_phi(phi, b, r):\n",
    "    return -(r * (b * (2 * b**2 + 9 * r**2) * np.cos(phi)\n",
    "        - 3 * r * (2 * b**2 + r**2 + b * r * np.cos(3 * phi)) + r**3 * np.cos(4 * phi))) / 12"
   ]
  },
  {
   "cell_type": "code",
   "execution_count": null,
   "metadata": {},
   "outputs": [],
   "source": [
    "phi = np.float128(0.0)\n",
    "dphi = np.float128(0.0001)\n",
    "dr128 = Fq_r(phi, 0.1, 0.05) - Fq_r(phi + dphi, 0.1, 0.05)\n",
    "dphi128 = Fq_phi(phi, 0.1, 0.05) - Fq_phi(phi + dphi, 0.1, 0.05)"
   ]
  },
  {
   "cell_type": "code",
   "execution_count": null,
   "metadata": {},
   "outputs": [],
   "source": [
    "phi = np.float64(0.0)\n",
    "dphi = np.float64(0.0001)\n",
    "dr64 = Fq_r(phi, 0.1, 0.05) - Fq_r(phi + dphi, 0.1, 0.05)\n",
    "dphi64 = Fq_phi(phi, 0.1, 0.05) - Fq_phi(phi + dphi, 0.1, 0.05)"
   ]
  },
  {
   "cell_type": "code",
   "execution_count": null,
   "metadata": {},
   "outputs": [],
   "source": [
    "dr128 - dr64"
   ]
  },
  {
   "cell_type": "code",
   "execution_count": null,
   "metadata": {},
   "outputs": [],
   "source": [
    "t = np.linspace(0, 1, 100000)\n",
    "bp = np.abs(np.linspace(-1.1, 1.1, 100000))\n",
    "bm = np.abs(np.linspace(-1.2, 1.2, 100000))\n",
    "bpm = np.abs(bp - bm)\n",
    "theta = np.zeros_like(bp)\n",
    "\n",
    "for i, (bpi, bpmi, bmi) in enumerate(zip(bp, bpm, bm)):\n",
    "    a, b, c = bpi, bpmi, bmi\n",
    "    if b > a : \n",
    "        tmp = b\n",
    "        b = a\n",
    "        a = tmp\n",
    "    if c > b :\n",
    "        tmp = c\n",
    "        c = b\n",
    "        b = tmp\n",
    "    if b > a :\n",
    "        tmp = b\n",
    "        b = a\n",
    "        a = tmp\n",
    "    delta = np.sqrt((a + (b + c)) * (c - (a - b)) * (c + (a - b)) * (a + (b - c)))\n",
    "    theta[i] = np.arctan2(delta, (bpi - bmi) * (bpi + bmi) + bpmi * bpmi)\n",
    "    \n",
    "cth = np.cos(theta)\n",
    "sth = np.sin(theta)"
   ]
  },
  {
   "cell_type": "code",
   "execution_count": null,
   "metadata": {},
   "outputs": [],
   "source": []
  },
  {
   "cell_type": "code",
   "execution_count": null,
   "metadata": {},
   "outputs": [],
   "source": [
    "plt.figure(figsize=(12, 10))\n",
    "rp = 0.02\n",
    "rm = 0.01\n",
    "%time lc_combined_ld = flux(0.6, 0.0, rp, rm, bp, bpm, cth, sth)\n",
    "#%timeit lc_combined_ld = flux(0.6, 0.3, rp, rm, bp, bpm, cth, sth)\n",
    "\n",
    "mark = '-'\n",
    "fig, axs = plt.subplots(4, 2, figsize=(20, 20), sharex=True)\n",
    "axs[0, 0].plot(t, lc_combined_ld[:, 0], mark, color='r', linewidth=2)\n",
    "axs[0, 0].annotate('F', (0.05, 0.1), xycoords='axes fraction', fontsize=20)\n",
    "\n",
    "axs[1, 0].plot(t, lc_combined_ld[:, 1], mark, color='r', linewidth=2) # bp\n",
    "axs[1, 0].annotate(r'$\\frac{dF}{d_{rp}}$', (0.05, 0.1), xycoords='axes fraction', fontsize=20)\n",
    "\n",
    "axs[2, 0].plot(t, lc_combined_ld[:, 2], mark, color='r', linewidth=2) # rp\n",
    "axs[2, 0].annotate(r'$\\frac{dF}{d_{rm}}$', (0.05, 0.1), xycoords='axes fraction', fontsize=20)\n",
    "\n",
    "axs[1, 1].plot(t, lc_combined_ld[:, 3], mark, color='r', linewidth=2) # bm\n",
    "axs[1, 1].annotate(r'$\\frac{dF}{d_{bp}}$', (0.05, 0.1), xycoords='axes fraction', fontsize=20)\n",
    "\n",
    "axs[2, 1].plot(t, lc_combined_ld[:, 4], mark, color='r', linewidth=2) # rm\n",
    "axs[2, 1].annotate(r'$\\frac{dF}{d_{bpm}}$', (0.05, 0.1), xycoords='axes fraction', fontsize=20)\n",
    "\n",
    "axs[0, 1].plot(t, lc_combined_ld[:, 5], mark, color='r', linewidth=2) # bpm\n",
    "axs[0, 1].annotate(r'$\\frac{dF}{d_{\\theta}}$', (0.05, 0.1), xycoords='axes fraction', fontsize=20)\n",
    "\n",
    "axs[3, 0].plot(t, lc_combined_ld[:, 6], mark, color='r', linewidth=2) # c1\n",
    "axs[3, 0].annotate(r'$\\frac{dF}{c_{1}}$', (0.05, 0.1), xycoords='axes fraction', fontsize=20)\n",
    "\n",
    "axs[3, 1].plot(t, lc_combined_ld[:, 7], mark, color='r', linewidth=2) # c2\n",
    "axs[3, 1].annotate(r'$\\frac{dF}{c_{2}}$', (0.05, 0.1), xycoords='axes fraction', fontsize=20)"
   ]
  },
  {
   "cell_type": "code",
   "execution_count": null,
   "metadata": {},
   "outputs": [],
   "source": [
    "np.float128(3.14159265358979323846264338327950288 / 2)"
   ]
  },
  {
   "cell_type": "code",
   "execution_count": null,
   "metadata": {},
   "outputs": [],
   "source": [
    "from mpmath import *\n",
    "mp.dps = 16"
   ]
  },
  {
   "cell_type": "code",
   "execution_count": null,
   "metadata": {},
   "outputs": [],
   "source": [
    "mp.dps = 8\n",
    "phi = 0.00000001\n",
    "r = 0.02\n",
    "b = 0.5\n",
    "\n",
    "F1 = (r * (4 * b * (2 * b * b + 9 * r * r) * mp.sin(phi) - \n",
    "            4 * r * (3 * (2 * b * b + r * r) * phi + b * r * mp.sin(3 * phi)) \n",
    "            + r * r * r * mp.sin(4 * phi))) / 48\n",
    "\n",
    "phi = -0.00000001\n",
    "F2 = (r * (4 * b * (2 * b * b + 9 * r * r) * mp.sin(phi) - \n",
    "            4 * r * (3 * (2 * b * b + r * r) * phi + b * r * mp.sin(3 * phi)) \n",
    "            + r * r * r * mp.sin(4 * phi))) / 48\n",
    "\n",
    "F1 - F2"
   ]
  },
  {
   "cell_type": "code",
   "execution_count": null,
   "metadata": {},
   "outputs": [],
   "source": [
    "mp.dps = 50\n",
    "phi = 0.00000001\n",
    "r = 0.02\n",
    "b = 0.5\n",
    "\n",
    "F1 = (r * (4 * b * (2 * b * b + 9 * r * r) * mp.sin(phi) - \n",
    "            4 * r * (3 * (2 * b * b + r * r) * phi + b * r * mp.sin(3 * phi)) \n",
    "            + r * r * r * mp.sin(4 * phi))) / 48\n",
    "\n",
    "phi = -0.00000001\n",
    "F2 = (r * (4 * b * (2 * b * b + 9 * r * r) * mp.sin(phi) - \n",
    "            4 * r * (3 * (2 * b * b + r * r) * phi + b * r * mp.sin(3 * phi)) \n",
    "            + r * r * r * mp.sin(4 * phi))) / 48\n",
    "\n",
    "F1 - F2"
   ]
  },
  {
   "cell_type": "code",
   "execution_count": null,
   "metadata": {},
   "outputs": [],
   "source": [
    "th = 1e-20\n",
    "y, x = np.sin(th), np.cos(th)\n",
    "np.arctan2(y, x)"
   ]
  },
  {
   "cell_type": "code",
   "execution_count": null,
   "metadata": {},
   "outputs": [],
   "source": []
  }
 ],
 "metadata": {
  "kernelspec": {
   "display_name": "Python 3",
   "language": "python",
   "name": "python3"
  },
  "language_info": {
   "codemirror_mode": {
    "name": "ipython",
    "version": 3
   },
   "file_extension": ".py",
   "mimetype": "text/x-python",
   "name": "python",
   "nbconvert_exporter": "python",
   "pygments_lexer": "ipython3",
   "version": "3.8.6"
  }
 },
 "nbformat": 4,
 "nbformat_minor": 4
}
