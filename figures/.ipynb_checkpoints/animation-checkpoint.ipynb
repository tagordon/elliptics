{
 "cells": [
  {
   "cell_type": "code",
   "execution_count": 1,
   "metadata": {},
   "outputs": [],
   "source": [
    "import numpy as np\n",
    "import matplotlib.pyplot as plt\n",
    "import ctypes\n",
    "from array import array\n",
    "photlib = ctypes.CDLL(\"../c_src/cwrapper.so\")\n",
    "fortran = ctypes.CDLL(\"../c_src/fwrapper.so\")"
   ]
  },
  {
   "cell_type": "code",
   "execution_count": 2,
   "metadata": {},
   "outputs": [],
   "source": [
    "def flux(c1, c2, rp, rm, bp, bpm, cth, sth):\n",
    "    \n",
    "    bp = (ctypes.c_double * len(bp)).from_buffer(bp)\n",
    "    bpm = (ctypes.c_double * len(bpm)).from_buffer(bpm)\n",
    "    cth = (ctypes.c_double * len(cth)).from_buffer(cth)\n",
    "    sth = (ctypes.c_double * len(sth)).from_buffer(sth)\n",
    "    lc = ((ctypes.c_double * 8) * len(bp)).from_buffer(np.zeros((8, len(bp))))\n",
    "    rp = ctypes.c_double(rp)\n",
    "    rm = ctypes.c_double(rm)\n",
    "    c1 = ctypes.c_double(c1)\n",
    "    c2 = ctypes.c_double(c2)\n",
    "    j = ctypes.c_int(len(bp))\n",
    "    photlib.LC.restype = None\n",
    "    photlib.LC(c1, c2, rp, rm, bp, bpm, cth, sth, lc, j)\n",
    "    return np.array(lc)\n",
    "\n",
    "def impacts(t, ms, t0p, ep, Pp, Op, wp, ip, mp, t0m, em, Pm, Om, wm, im, mm):\n",
    "    \n",
    "    photlib.system_impacts.restype = None\n",
    "    j = len(t)\n",
    "    \n",
    "    bp2 = (ctypes.c_double * j).from_buffer(np.zeros(j))\n",
    "    bm2 = (ctypes.c_double * j).from_buffer(np.zeros(j))\n",
    "    bpm2 = (ctypes.c_double * j).from_buffer(np.zeros(j))\n",
    "    x = (ctypes.c_double * j).from_buffer(np.zeros(j))\n",
    "    y = (ctypes.c_double * j).from_buffer(np.zeros(j))\n",
    "    xbc = (ctypes.c_double * j).from_buffer(np.zeros(j))\n",
    "    ybc = (ctypes.c_double * j).from_buffer(np.zeros(j))\n",
    "    t = (ctypes.c_double * j).from_buffer(t)\n",
    "    j = ctypes.c_int(j)\n",
    "    \n",
    "    ms = ctypes.c_double(ms)\n",
    "    t0p = ctypes.c_double(t0p)\n",
    "    ep = ctypes.c_double(ep)\n",
    "    Pp = ctypes.c_double(Pp)\n",
    "    Op = ctypes.c_double(Op)\n",
    "    wp = ctypes.c_double(wp)\n",
    "    ip = ctypes.c_double(ip)\n",
    "    mp = ctypes.c_double(mp)\n",
    "    t0m = ctypes.c_double(t0m)\n",
    "    em = ctypes.c_double(em)\n",
    "    Pm = ctypes.c_double(Pm)\n",
    "    Om = ctypes.c_double(Om)\n",
    "    wm = ctypes.c_double(wm)\n",
    "    im = ctypes.c_double(im)\n",
    "    mm = ctypes.c_double(mm)\n",
    "    \n",
    "    photlib.system_impacts(t, ms, t0p, ep, Pp, Op, wp, ip, mp, t0m, em, Pm, Om, wm, im, mm, j, x, y, xbc, ybc, bp2, bm2, bpm2)\n",
    "    return np.array(bp2), np.array(bm2), np.array(bpm2)\n",
    "\n",
    "def coords(t, ms, t0p, ep, Pp, Op, wp, ip, mp, t0m, em, Pm, Om, wm, im, mm):\n",
    "    \n",
    "    photlib.system_coords.restype = None\n",
    "    j = len(t)\n",
    "    \n",
    "    xs = (ctypes.c_double * len(t)).from_buffer(np.zeros(j))\n",
    "    ys = (ctypes.c_double * len(t)).from_buffer(np.zeros(j))\n",
    "    zs = (ctypes.c_double * len(t)).from_buffer(np.zeros(j))\n",
    "    xp = (ctypes.c_double * len(t)).from_buffer(np.zeros(j))\n",
    "    yp = (ctypes.c_double * len(t)).from_buffer(np.zeros(j))\n",
    "    zp = (ctypes.c_double * len(t)).from_buffer(np.zeros(j))\n",
    "    xm = (ctypes.c_double * len(t)).from_buffer(np.zeros(j))\n",
    "    ym = (ctypes.c_double * len(t)).from_buffer(np.zeros(j))\n",
    "    zm = (ctypes.c_double * len(t)).from_buffer(np.zeros(j))\n",
    "    t = (ctypes.c_double * len(t)).from_buffer(t)\n",
    "    j = ctypes.c_int(j)\n",
    "    \n",
    "    ms = ctypes.c_double(ms)\n",
    "    t0p = ctypes.c_double(t0p)\n",
    "    ep = ctypes.c_double(ep)\n",
    "    Pp = ctypes.c_double(Pp)\n",
    "    Op = ctypes.c_double(Op)\n",
    "    wp = ctypes.c_double(wp)\n",
    "    ip = ctypes.c_double(ip)\n",
    "    mp = ctypes.c_double(mp)\n",
    "    t0m = ctypes.c_double(t0m)\n",
    "    em = ctypes.c_double(em)\n",
    "    Pm = ctypes.c_double(Pm)\n",
    "    Om = ctypes.c_double(Om)\n",
    "    wm = ctypes.c_double(wm)\n",
    "    im = ctypes.c_double(im)\n",
    "    mm = ctypes.c_double(mm)\n",
    "    \n",
    "    photlib.system_coords(t, ms, t0p, ep, Pp, Op, wp, ip, mp, t0m, em, Pm, Om, wm, im, mm, j, xs, ys, zs, xp, yp, zp, xm, ym, zm)\n",
    "    return np.array(xs), np.array(ys), np.array(zs), np.array(xp), np.array(yp), np.array(zp), np.array(xm), np.array(ym), np.array(zm)"
   ]
  },
  {
   "cell_type": "code",
   "execution_count": 14,
   "metadata": {},
   "outputs": [],
   "source": [
    "t = np.linspace(79.3, 80.0, 100)\n",
    "\n",
    "ms = ac.M_sun.value / ac.M_earth.value\n",
    "\n",
    "t0p = 0\n",
    "ep = 0.1\n",
    "Pp = 365\n",
    "Op = 30 * np.pi / 180\n",
    "wp = 0.0 * np.pi / 180\n",
    "ip = 1 * np.pi / 2\n",
    "mp = 50.0\n",
    "\n",
    "t0m = -1.2\n",
    "em = 0.3\n",
    "Pm = 1\n",
    "Om = 80 * np.pi / 180\n",
    "wm = 10.0 * np.pi / 180\n",
    "im = 90 * np.pi / 180\n",
    "mm = 5.0\n",
    "\n",
    "bp2, bm2, bpm2 = impacts(t, ms, t0p, ep, Pp, Op, wp, ip, mp, t0m, em, Pm, Om, wm, im, mm)\n",
    "xs, ys, zx, xp, yp, zp, xm, ym, zm = coords(t, ms, t0p, ep, Pp, Op, wp, ip, mp, t0m, em, Pm, Om, wm, im, mm)\n",
    "bp2 *= (ac.au.value / ac.R_sun.value)**2\n",
    "bm2 *= (ac.au.value / ac.R_sun.value)**2\n",
    "bpm2 *= (ac.au.value / ac.R_sun.value)**2\n",
    "\n",
    "bp = np.sqrt(bp2)\n",
    "bm = np.sqrt(bm2)\n",
    "bpm = np.sqrt(bpm2)\n",
    "theta = np.zeros_like(bp)\n",
    "\n",
    "xp *= (ac.au.value / ac.R_sun.value)\n",
    "yp *= (ac.au.value / ac.R_sun.value)\n",
    "zp *= (ac.au.value / ac.R_sun.value)\n",
    "xm *= (ac.au.value / ac.R_sun.value)\n",
    "ym *= (ac.au.value / ac.R_sun.value)\n",
    "zm *= (ac.au.value / ac.R_sun.value)\n",
    "\n",
    "for i, (bpi, bpmi, bmi) in enumerate(zip(bp, bpm, bm)):\n",
    "    a, b, c = bpi, bpmi, bmi\n",
    "    if a > b:\n",
    "        tmp = b\n",
    "        b = a\n",
    "        a = tmp\n",
    "    if b > c:\n",
    "        mu = c - (a - b)\n",
    "    else:\n",
    "        mu = b - (a - c)\n",
    "    theta[i] = 2 * np.arctan(np.sqrt(((a - b) + c) * mu / ((a + (b + c)) * ((a - c) + b))))\n",
    "    \n",
    "cth = np.cos(theta)\n",
    "sth = np.sin(theta)"
   ]
  },
  {
   "cell_type": "code",
   "execution_count": 15,
   "metadata": {},
   "outputs": [
    {
     "data": {
      "text/plain": [
       "Text(0.5, 0, 'Time')"
      ]
     },
     "execution_count": 15,
     "metadata": {},
     "output_type": "execute_result"
    },
    {
     "data": {
      "image/png": "[encoded data removed]",
      "text/plain": [
       "<Figure size 432x288 with 1 Axes>"
      ]
     },
     "metadata": {
      "needs_background": "light"
     },
     "output_type": "display_data"
    }
   ],
   "source": [
    "rp = 0.1\n",
    "rm = 0.05\n",
    "lc_combined_ld = flux(0.6, 0.3, rp, rm, bp, bpm, cth, sth)\n",
    "noise = np.random.randn(100) * 0.0001\n",
    "plt.plot(t, lc_combined_ld[:, 0] + noise + 1, '.', color='k', linewidth=2)\n",
    "plt.errorbar(t, lc_combined_ld[:, 0] + noise + 1, 0.0001, color='k', ls='none', linewidth=1)\n",
    "plt.ylabel('Flux')\n",
    "plt.xlabel('Time')"
   ]
  },
  {
   "cell_type": "code",
   "execution_count": 16,
   "metadata": {},
   "outputs": [
    {
     "data": {
      "text/plain": [
       "[<matplotlib.lines.Line2D at 0x222940670>]"
      ]
     },
     "execution_count": 16,
     "metadata": {},
     "output_type": "execute_result"
    },
    {
     "data": {
      "image/png": "[encoded data removed]",
      "text/plain": [
       "<Figure size 432x288 with 1 Axes>"
      ]
     },
     "metadata": {
      "needs_background": "light"
     },
     "output_type": "display_data"
    }
   ],
   "source": [
    "lc_combined_ld = flux(0.6, 0.3, rp, rm, bp, bpm, cth, sth)\n",
    "plt.plot(t, lc_combined_ld[:, 2], '-', color='r', linewidth=2)"
   ]
  },
  {
   "cell_type": "code",
   "execution_count": 19,
   "metadata": {},
   "outputs": [],
   "source": [
    "import matplotlib.animation as animation\n",
    "import itertools\n",
    "import matplotlib \n",
    "matplotlib.use('Agg')\n",
    "\n",
    "def init():\n",
    "    axs[1].set_ylim(-0.0175, 0.001)\n",
    "    axs[1].set_xlim(79.3, 80.0)\n",
    "    axs[0].set_ylim(-1.5, 1.5)\n",
    "    axs[0].set_xlim(-1.5, 1.5)\n",
    "    del xdata[:]\n",
    "    del ydata[:]\n",
    "    line.set_data(xdata, ydata)\n",
    "    return line,\n",
    "\n",
    "fig, axs = plt.subplots(2, 1, figsize=(10, 14), gridspec_kw={'height_ratios': [2, 1]})\n",
    "line, = axs[1].plot([], [], lw=3, color='k')\n",
    "star = plt.Circle((0, 0), 1, color='#ffae36', alpha=0.75, ec='k')\n",
    "planet = plt.Circle((xp[0], yp[0]), rp, color='k', ec='w')\n",
    "moon = plt.Circle((xm[0], ym[0]), rm, color='k', ec='w')\n",
    "star_patch = axs[0].add_patch(star)\n",
    "planet_patch = axs[0].add_patch(planet)\n",
    "moon_patch = axs[0].add_patch(moon)\n",
    "plt.subplots_adjust(hspace=0.0)\n",
    "plt.tight_layout()\n",
    "\n",
    "axs[0].axis('off')\n",
    "axs[1].axis('off')\n",
    "fig.patch.set_facecolor('w')\n",
    "axs[0].set_facecolor('w')\n",
    "axs[1].set_facecolor('w')\n",
    "\n",
    "xdata, ydata = [], []\n",
    "\n",
    "def run(cnt):\n",
    "    \n",
    "    if zp < zm:\n",
    "        planet_patch.set_center((xp[cnt], yp[cnt]))\n",
    "        moon_patch.set_center((xm[cnt], ym[cnt]))\n",
    "    else:\n",
    "        moon_patch.set_center((xm[cnt], ym[cnt]))\n",
    "        planet_patch.set_center((xp[cnt], yp[cnt]))\n",
    "    \n",
    "    y = flux(0.6, 0.3, rp, rm, \n",
    "             np.array([bp[cnt]]), \n",
    "             np.array([bpm[cnt]]), \n",
    "             np.array([cth[cnt]]), \n",
    "             np.array([sth[cnt]]))[:, 0]# + np.random.randn() * 0.02 * 0.1**2\n",
    "    \n",
    "    xdata.append(t[cnt])\n",
    "    ydata.append(y)\n",
    "    xmin, xmax = axs[1].get_xlim()\n",
    "    line.set_data(xdata, ydata)\n",
    "    return line, planet_patch, moon_patch\n",
    "\n",
    "ani = animation.FuncAnimation(fig, run, 100, interval=40, init_func=init)\n",
    "\n",
    "#video = ani.to_html5_video()\n",
    "#html = display.HTML(video)\n",
    "#display.display(html)\n",
    "ani.save('/Users/tgordon/Desktop/transit_smallmoon.gif', writer='imagemagick', fps=30)\n",
    "plt.close()"
   ]
  },
  {
   "cell_type": "code",
   "execution_count": null,
   "metadata": {},
   "outputs": [],
   "source": []
  }
 ],
 "metadata": {
  "kernelspec": {
   "display_name": "Python 3",
   "language": "python",
   "name": "python3"
  },
  "language_info": {
   "codemirror_mode": {
    "name": "ipython",
    "version": 3
   },
   "file_extension": ".py",
   "mimetype": "text/x-python",
   "name": "python",
   "nbconvert_exporter": "python",
   "pygments_lexer": "ipython3",
   "version": "3.8.6"
  }
 },
 "nbformat": 4,
 "nbformat_minor": 4
}
