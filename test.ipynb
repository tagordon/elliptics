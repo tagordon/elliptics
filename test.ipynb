{
 "cells": [
  {
   "cell_type": "code",
   "execution_count": 1,
   "metadata": {},
   "outputs": [],
   "source": [
    "import numpy as np\n",
    "import matplotlib.pyplot as plt\n",
    "import ctypes\n",
    "photlib = ctypes.CDLL(\"./c_src/cwrapper.so\")"
   ]
  },
  {
   "cell_type": "code",
   "execution_count": 2,
   "metadata": {},
   "outputs": [],
   "source": [
    "def fkp(phi, n, m):\n",
    "    if not hasattr(phi, \"__len__\"):\n",
    "        phi = np.array([phi])\n",
    "    if not hasattr(n, \"__len__\"):\n",
    "        n = np.ones_like(phi)*n\n",
    "    if not hasattr(m, \"__len__\"):\n",
    "        m = np.ones_like(phi)*m\n",
    "    phi = (ctypes.c_double * len(phi)).from_buffer(phi)\n",
    "    n = (ctypes.c_double * len(n)).from_buffer(n)\n",
    "    m = (ctypes.c_double * len(m)).from_buffer(m)\n",
    "    f = (ctypes.c_double * len(phi)).from_buffer(np.zeros(len(phi)))\n",
    "    e = (ctypes.c_double * len(phi)).from_buffer(np.zeros(len(phi)))\n",
    "    p = (ctypes.c_double * len(phi)).from_buffer(np.zeros(len(phi)))\n",
    "    k = ctypes.c_int(len(phi))\n",
    "    photlib.FKP_arrays.restype = None\n",
    "    photlib.FKP_arrays(f, e, p, phi, n, m, k)\n",
    "    return np.array(f), np.array(e), np.array(p)"
   ]
  },
  {
   "cell_type": "code",
   "execution_count": 3,
   "metadata": {},
   "outputs": [],
   "source": [
    "def bdj(phi, n, m):\n",
    "    if not hasattr(phi, \"__len__\"):\n",
    "        s = np.sin(np.array([phi]))\n",
    "    else:\n",
    "        s = np.sin(phi)\n",
    "    if not hasattr(n, \"__len__\"):\n",
    "        n = np.ones_like(s)*n\n",
    "    if not hasattr(m, \"__len__\"):\n",
    "        m = np.ones_like(s)*m\n",
    "    s = (ctypes.c_double * len(s)).from_buffer(s)\n",
    "    n = (ctypes.c_double * len(n)).from_buffer(n)\n",
    "    m = (ctypes.c_double * len(m)).from_buffer(m)\n",
    "    b = (ctypes.c_double * len(s)).from_buffer(np.zeros(len(s)))\n",
    "    d = (ctypes.c_double * len(s)).from_buffer(np.zeros(len(s)))\n",
    "    j = (ctypes.c_double * len(s)).from_buffer(np.zeros(len(s)))\n",
    "    k = ctypes.c_int(len(s))\n",
    "    photlib.BDJ_arrays.restype = None\n",
    "    photlib.BDJ_arrays(b, d, j, s, n, m, k)\n",
    "    return np.array(b), np.array(d), np.array(j)"
   ]
  },
  {
   "cell_type": "code",
   "execution_count": 4,
   "metadata": {},
   "outputs": [
    {
     "name": "stdout",
     "output_type": "stream",
     "text": [
      "CPU times: user 829 µs, sys: 84 µs, total: 913 µs\n",
      "Wall time: 459 µs\n"
     ]
    },
    {
     "data": {
      "text/plain": [
       "[<matplotlib.lines.Line2D at 0x10dbf4880>]"
      ]
     },
     "execution_count": 4,
     "metadata": {},
     "output_type": "execute_result"
    },
    {
     "data": {
      "image/png": "[encoded data removed]",
      "text/plain": [
       "<Figure size 432x288 with 1 Axes>"
      ]
     },
     "metadata": {
      "needs_background": "light"
     },
     "output_type": "display_data"
    }
   ],
   "source": [
    "from scipy.special import ellipkinc, ellipeinc\n",
    "\n",
    "phi = np.linspace(0, np.pi/4, 1000)\n",
    "n = 0.7\n",
    "m = 0.8\n",
    "%time f, e, p = fkp(phi, n, m)\n",
    "\n",
    "plt.plot(phi, f, 'k--')\n",
    "plt.plot(phi, e, 'k--')\n",
    "\n",
    "plt.plot(phi, ellipkinc(phi, m))\n",
    "plt.plot(phi, ellipeinc(phi, m))"
   ]
  },
  {
   "cell_type": "code",
   "execution_count": null,
   "metadata": {},
   "outputs": [],
   "source": [
    "# numerical integration of the primitive integral\n",
    "from scipy.integrate import quad\n",
    "\n",
    "prim = lambda phi, r, b: ((1 - (1 - r**2 - b**2 + 2*r*b*np.cos(phi))**(3/2))*r*(r-b*np.cos(phi))\n",
    "                          /(b**2+r**2-2*b*r*np.cos(phi)))/3\n",
    "G = lambda r, b, phi1, phi2: quad(prim, phi1, phi2, args=(r, b))[0]"
   ]
  },
  {
   "cell_type": "code",
   "execution_count": null,
   "metadata": {},
   "outputs": [],
   "source": [
    "def abc(r, b):\n",
    "    if b==0:\n",
    "        return 0, 0, 0\n",
    "    elif (b+r) == 1:\n",
    "        return 0, 0, 0\n",
    "    elif b==r:\n",
    "        if r == 0.5:\n",
    "            0, 0, 0\n",
    "        else:\n",
    "            beta = (1-4*r**2)/9\n",
    "            alpha = 4*(2*r**2-1)/9\n",
    "            gamma = 0\n",
    "            return alpha, beta, gamma\n",
    "    else:\n",
    "        x = np.sqrt(1 - (b-r)**2)\n",
    "        alpha = (7*r**2 + b**2 - 4) * x / 9\n",
    "        beta = (r**4 + b**4 + r**2 - b**2 * (5+2*r**2) + 1) / 9 / x\n",
    "        gamma = (b + r) / (b - r) / 3 / x\n",
    "        return alpha, beta, gamma\n",
    "    \n",
    "def abc_bdj(r, b):\n",
    "    if b==0:\n",
    "        return 0, 0, 0\n",
    "    elif (b+r) == 1:\n",
    "        return 0, 0, 0\n",
    "    elif b==r:\n",
    "        if r==0.5:\n",
    "            return 0, 0, 0\n",
    "        else:\n",
    "            alpha = (4*r**2 - 3)/9\n",
    "            beta = alpha - (4*b*r*(1-4*r**2)/(1-(b-r)**2))/9\n",
    "            gamma = 0\n",
    "            return alpha, beta, gamma\n",
    "    else:\n",
    "        x = np.sqrt(1 - (b-r)**2)\n",
    "        alpha = 2*x*r * (3*r**2+b**2-4*b*r-3) / (r-b) / 9\n",
    "        beta = 2*r * (3 - (b-r)*(b**3+5*b**2*r+3*r*(r**2-2) + b*(7*r**2-4))) / x / (b-r) / 9\n",
    "        gamma = -4*b*r*(b+r) / (b-r)**3 / x / 3\n",
    "        return alpha, beta, gamma\n",
    "    \n",
    "def R(r, b, phi):\n",
    "    if b==0:\n",
    "        if r==0:\n",
    "            return phi / 3\n",
    "        else:\n",
    "            return phi * (1 - (1-r**2)**(3/2)) / 3\n",
    "    elif b==r:\n",
    "        if r == 0.5:\n",
    "            return phi / 6 - (1/3) * np.sin(phi/2) * (1 - np.sin(phi/2)**2 / 3)\n",
    "        else:\n",
    "            return phi / 6 - 2 * r**2 * np.sin(phi) * np.sqrt(1 + 2 * r**2 * (np.cos(phi)-1)) / 9\n",
    "    elif (b+r)==1:\n",
    "        return (phi/6 - np.arctan((2*r-1)/np.tan(phi/2))/3 \n",
    "                + np.arctan(2*np.sqrt(r*b)*np.sin(phi/2)/(1-2*r)) / 3\n",
    "                + np.pi * np.sqrt(1-4*r*b) / (2*r-1) / 6\n",
    "                + (2/9) * np.sqrt(b*r) * (2*r*(5*r-2) - 2*b*r*np.cos(phi) - 3) * np.sin(phi/2))\n",
    "    else:\n",
    "        return (phi/6 - np.arctan((b+r)/(b-r) * np.tan(phi/2))/3 \n",
    "                - (2*b*r/9) * np.sin(phi) * np.sqrt(1-b**2-r**2+2*b*r*np.cos(phi)))\n",
    "    \n",
    "def snm(r, b, phi):\n",
    "    if b==0:\n",
    "        return 0, 0, 0\n",
    "    elif b==r:\n",
    "        return phi/2, 0, 4*r**2\n",
    "    else:\n",
    "        return phi/2, -4*r*b/(b-r)**2, 4*r*b / (1 - (r-b)**2)\n",
    "    \n",
    "def G_analytic(r, b, phi1, phi2):\n",
    "    alpha, beta, gamma = abc(r, b)\n",
    "    \n",
    "    if phi1 < 0:\n",
    "        f1, k1, p1 = fkp(*snm(r, b, -phi1))\n",
    "        R1 = R(r, b, -phi1)\n",
    "        if phi2 < 0:\n",
    "            f2, k2, p2 = fkp(*snm(r, b, -phi2))\n",
    "            R2 = R(r, b, -phi2)\n",
    "            return (alpha * (k1 - k2) + beta * (f1 - f2) + gamma * (p1 - p2) + (R1 - R2))[0]\n",
    "        else:\n",
    "            f2, k2, p2 = fkp(*snm(r, b, phi2))\n",
    "            R2 = R(r, b, phi2)\n",
    "            return (alpha * (k1 + k2) + beta * (f1 + f2) + gamma * (p1 + p2) + (R1 + R2))[0]\n",
    "    else:\n",
    "        f1, k1, p1 = fkp(*snm(r, b, phi1))\n",
    "        R1 = R(r, b, phi1)\n",
    "        f2, k2, p2 = fkp(*snm(r, b, phi2))\n",
    "        R2 = R(r, b, phi2)\n",
    "        return (alpha * (k2 - k1) + beta * (f2 - f1) + gamma * (p2 - p1) + (R2 - R1))[0]\n",
    "    \n",
    "def G_analytic_bdj(r, b, phi1, phi2):\n",
    "    alpha, beta, gamma = abc_bdj(r, b)\n",
    "    \n",
    "    if phi1 < 0:\n",
    "        b1, d1, j1 = bdj(*snm(r, b, -phi1))\n",
    "        R1 = R(r, b, -phi1)\n",
    "        if phi2 < 0:\n",
    "            b2, d2, j2 = bdj(*snm(r, b, -phi2))\n",
    "            R2 = R(r, b, -phi2)\n",
    "            return (alpha * (b1 - b2) + beta * (d1 - d2) + gamma * (j1 - j2) + (R1 - R2))[0]\n",
    "        else:\n",
    "            b2, d2, j2 = bdj(*snm(r, b, phi2))\n",
    "            R2 = R(r, b, phi2)\n",
    "            return (alpha * (b1 + b2) + beta * (d1 + d2) + gamma * (j1 + j2) + (R1 + R2))[0]\n",
    "    else:\n",
    "        b1, d1, j1 = bdj(*snm(r, b, phi1))\n",
    "        R1 = R(r, b, phi1)\n",
    "        b2, d2, j2 = fkp(*snm(r, b, phi2))\n",
    "        R2 = R(r, b, phi2)\n",
    "        return (alpha * (b2 - b1) + beta * (d2 - d1) + gamma * (j2 - j1) + (R2 - R1))[0]"
   ]
  },
  {
   "cell_type": "code",
   "execution_count": null,
   "metadata": {},
   "outputs": [],
   "source": [
    "print(G_analytic(0.2, 0.8, -np.pi/2, -np.pi/3))\n",
    "print(G_analytic_bdj(0.2, 0.8, -np.pi/2, -np.pi/3))\n",
    "print(G(0.2, 0.8, -np.pi/2, -np.pi/3))"
   ]
  },
  {
   "cell_type": "code",
   "execution_count": null,
   "metadata": {},
   "outputs": [],
   "source": [
    "b = np.concatenate((np.linspace(0.9, 0, 100), np.linspace(0, 0.9, 100)))\n",
    "bp = np.concatenate((np.linspace(-0.9, 0, 100), np.linspace(0, 0.9, 100)))\n",
    "%time f = np.array([G(0.5, b, -np.pi/4, np.pi/4) for b in b])\n",
    "%time f_analytic = np.array([G_analytic(0.5, b, -np.pi/4, np.pi/4) for b in b])\n",
    "%time f_analytic_bdj = np.array([G_analytic_bdj(0.5, b, -np.pi/4, np.pi/4) for b in b])\n",
    "plt.plot(bp, f)\n",
    "#plt.plot(bp, f_analytic, '-')\n",
    "plt.plot(bp, f_analytic_bdj, '.')\n",
    "\n",
    "plt.plot(0.0, G_analytic(0.5, 0.0, -np.pi/4, np.pi/4), 'ko')\n",
    "plt.plot(0.5, G_analytic(0.5, 0.5, -np.pi/4, np.pi/4), 'ko')\n",
    "plt.plot(0.5, G_analytic(0.5, 0.5, -np.pi/4, np.pi/4), 'ko')\n",
    "print(G_analytic(0.2, 0.8, 0, np.pi/2))\n",
    "\n",
    "plt.ylim(-0.3, 0.3)"
   ]
  },
  {
   "cell_type": "code",
   "execution_count": null,
   "metadata": {},
   "outputs": [],
   "source": [
    "#plt.plot(bp, snm(0.5, b, -np.pi/2)[2])\n",
    "plt.plot(bp, [snm(0.5, b, np.pi/2)[1] for b in b])\n",
    "#plt.ylim(-1000, 1)"
   ]
  },
  {
   "cell_type": "code",
   "execution_count": null,
   "metadata": {},
   "outputs": [],
   "source": [
    "alpha, beta, gamma = np.array([np.array(abc(0.5, b)) for b in b]).T\n",
    "f = np.array([fkp(*snm(0.5, b, np.pi/2)) for b in b]).T[0][2]\n",
    "plt.plot(bp, f)\n",
    "plt.ylim(-1, 1)"
   ]
  },
  {
   "cell_type": "code",
   "execution_count": null,
   "metadata": {},
   "outputs": [],
   "source": [
    "alpha, beta, gamma = np.array([np.array(abc_bdj(0.5, b)) for b in b]).T\n",
    "f = np.array([fkp(*snm(0.5, b, np.pi/2)) for b in b]).T[0][2]\n",
    "plt.plot(bp, f, '.')\n",
    "plt.ylim(0, 2)"
   ]
  },
  {
   "cell_type": "code",
   "execution_count": null,
   "metadata": {},
   "outputs": [],
   "source": [
    "b = np.concatenate((np.linspace(0.9, 0, 901), np.linspace(0, 0.9, 901)))\n",
    "bp = np.concatenate((np.linspace(-0.9, 0, 901), np.linspace(0, 0.9, 901)))\n",
    "f = [G(0.2, b, -np.pi, np.pi) for b in b]\n",
    "f_analytic = [G_analytic(0.2, b, -np.pi, np.pi) for b in b]\n",
    "\n",
    "plt.plot(bp, f, '.')\n",
    "plt.plot(bp, f_analytic, '.')\n",
    "#plt.ylim(-1, 1)\n",
    "plt.axvline(0.2)\n",
    "plt.axvline(-0.2)"
   ]
  },
  {
   "cell_type": "code",
   "execution_count": null,
   "metadata": {},
   "outputs": [],
   "source": [
    "r = np.linspace(0.01, 0.4, 100)\n",
    "#np.array([fkp(*snm(r, r, np.pi/4))[1] for r in r]).T\n",
    "plt.plot(r, [G(r, 1-r, -np.pi/2, np.pi/2) for r in r])\n",
    "plt.plot(r, [G_analytic(r, 1-r, -np.pi/2, np.pi/2) for r in r])\n",
    "#plt.plot(r, [fkp(*snm(r, r, np.pi/2))[0] for r in r])\n",
    "#plt.plot(r, [abc(r, r)[0]*fkp(*snm(r, r, np.pi/2))[0] for r in r])\n",
    "#plt.plot(r, [abc(r, r)[1] for r in r])\n",
    "#plt.plot(r, [fkp(*snm(r, r, np.pi/2))[1] for r in r])\n",
    "#plt.plot(r, [abc(r, r)[0]*fkp(*snm(r, r, np.pi/2))[0] + abc(r, r)[1]*fkp(*snm(r, r, np.pi/2))[1]+ R(r, r, np.pi/2) for r in r])"
   ]
  },
  {
   "cell_type": "code",
   "execution_count": null,
   "metadata": {},
   "outputs": [],
   "source": [
    "print([fkp(*snm(1-b, b, 0))[2] for b in b])\n",
    "print([snm(1-b, b, 0)[1] for b in b])"
   ]
  },
  {
   "cell_type": "code",
   "execution_count": null,
   "metadata": {},
   "outputs": [],
   "source": [
    "[G_analytic(1-b, b, 0, np.pi) for b in b]"
   ]
  },
  {
   "cell_type": "code",
   "execution_count": null,
   "metadata": {},
   "outputs": [],
   "source": [
    "n = np.linspace(0, -100, 100)\n",
    "phi = np.ones_like(n)*np.pi/2\n",
    "plt.plot(n, fkp(phi, n, 0.5)[2])"
   ]
  },
  {
   "cell_type": "code",
   "execution_count": null,
   "metadata": {},
   "outputs": [],
   "source": [
    "r = 0.1\n",
    "b = np.linspace(0.15, 1, 1000)\n",
    "phi = np.ones_like(b)*np.pi/2\n",
    "plt.plot(b, fkp(phi, -(1-(r-b)**2)/(r-b)**2, 0.5)[2])"
   ]
  },
  {
   "cell_type": "code",
   "execution_count": null,
   "metadata": {},
   "outputs": [],
   "source": [
    "-(1-(r-b)**2)/(r-b)**2"
   ]
  },
  {
   "cell_type": "code",
   "execution_count": null,
   "metadata": {},
   "outputs": [],
   "source": [
    "np.sign(-12.2)"
   ]
  },
  {
   "cell_type": "code",
   "execution_count": null,
   "metadata": {},
   "outputs": [],
   "source": [
    "2**2 + 1"
   ]
  },
  {
   "cell_type": "code",
   "execution_count": null,
   "metadata": {},
   "outputs": [],
   "source": [
    "import numpy as np"
   ]
  },
  {
   "cell_type": "code",
   "execution_count": null,
   "metadata": {},
   "outputs": [],
   "source": [
    "%timeit np.arctan(0.5)"
   ]
  },
  {
   "cell_type": "code",
   "execution_count": null,
   "metadata": {},
   "outputs": [],
   "source": [
    "from scipy.special import ellipeinc, ellipkinc"
   ]
  },
  {
   "cell_type": "code",
   "execution_count": null,
   "metadata": {},
   "outputs": [],
   "source": [
    "%timeit ellipeinc(0.5, 0.5)"
   ]
  },
  {
   "cell_type": "code",
   "execution_count": null,
   "metadata": {},
   "outputs": [],
   "source": [
    "%timeit ellipkinc(0.5, 0.5)"
   ]
  },
  {
   "cell_type": "code",
   "execution_count": null,
   "metadata": {},
   "outputs": [],
   "source": []
  }
 ],
 "metadata": {
  "kernelspec": {
   "display_name": "Python 3",
   "language": "python",
   "name": "python3"
  },
  "language_info": {
   "codemirror_mode": {
    "name": "ipython",
    "version": 3
   },
   "file_extension": ".py",
   "mimetype": "text/x-python",
   "name": "python",
   "nbconvert_exporter": "python",
   "pygments_lexer": "ipython3",
   "version": "3.8.6"
  }
 },
 "nbformat": 4,
 "nbformat_minor": 4
}
