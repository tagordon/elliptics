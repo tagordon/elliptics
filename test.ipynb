{
 "cells": [
  {
   "cell_type": "code",
   "execution_count": 1,
   "metadata": {},
   "outputs": [],
   "source": [
    "import numpy as np\n",
    "import matplotlib.pyplot as plt\n",
    "import ctypes\n",
    "photlib = ctypes.CDLL(\"./c_src/cwrapper.so\")"
   ]
  },
  {
   "cell_type": "code",
   "execution_count": 2,
   "metadata": {},
   "outputs": [],
   "source": [
    "def fb(phi, m):\n",
    "    if not hasattr(phi, \"__len__\"):\n",
    "        phi = np.array([phi])\n",
    "    if not hasattr(m, \"__len__\"):\n",
    "        m = np.ones_like(phi)*m\n",
    "    phi = (ctypes.c_double * len(phi)).from_buffer(phi)\n",
    "    m = (ctypes.c_double * len(m)).from_buffer(m)\n",
    "    e = (ctypes.c_double * len(phi)).from_buffer(np.zeros(len(phi)))\n",
    "    j = ctypes.c_int(len(phi))\n",
    "    photlib.F.restype = None\n",
    "    photlib.F(phi, m, e, j)\n",
    "    return np.array(e)\n",
    "\n",
    "def eb(phi, m):\n",
    "    if not hasattr(phi, \"__len__\"):\n",
    "        phi = np.array([phi])\n",
    "    if not hasattr(m, \"__len__\"):\n",
    "        m = np.ones_like(phi)*m\n",
    "    phi = (ctypes.c_double * len(phi)).from_buffer(phi)\n",
    "    m = (ctypes.c_double * len(m)).from_buffer(m)\n",
    "    e = (ctypes.c_double * len(phi)).from_buffer(np.zeros(len(phi)))\n",
    "    j = ctypes.c_int(len(phi))\n",
    "    photlib.E.restype = None\n",
    "    photlib.E(phi, m, e, j)\n",
    "    return np.array(e)\n",
    "\n",
    "def pb(phi, n, m):\n",
    "    if not hasattr(phi, \"__len__\"):\n",
    "        phi = np.array([phi])\n",
    "    if not hasattr(m, \"__len__\"):\n",
    "        m = np.ones_like(phi)*m\n",
    "    if not hasattr(n, \"__len__\"):\n",
    "        n = np.ones_like(phi)*n\n",
    "    phi = (ctypes.c_double * len(phi)).from_buffer(phi)\n",
    "    m = (ctypes.c_double * len(m)).from_buffer(m)\n",
    "    n = (ctypes.c_double * len(n)).from_buffer(n)\n",
    "    e = (ctypes.c_double * len(phi)).from_buffer(np.zeros(len(phi)))\n",
    "    j = ctypes.c_int(len(phi))\n",
    "    photlib.P.restype = None\n",
    "    photlib.P(phi, n, m, e, j)\n",
    "    return np.array(e)\n",
    "\n",
    "def fkp(phi, n, m):\n",
    "    return fb(phi, m), eb(phi, m), pb(phi, n, m)\n",
    "\n",
    "def int_fortran(phi1, phi2, r, b):\n",
    "    if not hasattr(b, \"__len__\"):\n",
    "        b = np.array([b])\n",
    "    if not hasattr(phi1, \"__len__\"):\n",
    "        phi1 = np.ones_like(b) * phi1\n",
    "    if not hasattr(phi2, \"__len__\"):\n",
    "        phi2 = np.ones_like(b) * phi2\n",
    "    if not hasattr(r, \"__len__\"):\n",
    "        r = np.ones_like(b) * r\n",
    "    phi1 = (ctypes.c_double * len(phi1)).from_buffer(phi1)\n",
    "    phi2 = (ctypes.c_double * len(phi2)).from_buffer(phi2)\n",
    "    b = (ctypes.c_double * len(b)).from_buffer(b)\n",
    "    r = (ctypes.c_double * len(r)).from_buffer(r)\n",
    "    res = (ctypes.c_double * len(b)).from_buffer(np.zeros(len(b)))\n",
    "    j = ctypes.c_int(len(b))\n",
    "    photlib.I.restype = None\n",
    "    photlib.I(phi1, phi2, b, r, res, j)\n",
    "    return np.array(res)"
   ]
  },
  {
   "cell_type": "code",
   "execution_count": 3,
   "metadata": {},
   "outputs": [
    {
     "ename": "AttributeError",
     "evalue": "dlsym(0x7fa2761842c0, I): symbol not found",
     "output_type": "error",
     "traceback": [
      "\u001b[0;31m---------------------------------------------------------------------------\u001b[0m",
      "\u001b[0;31mAttributeError\u001b[0m                            Traceback (most recent call last)",
      "\u001b[0;32m<ipython-input-3-cf2144c20a6b>\u001b[0m in \u001b[0;36m<module>\u001b[0;34m\u001b[0m\n\u001b[0;32m----> 1\u001b[0;31m \u001b[0mint_fortran\u001b[0m\u001b[0;34m(\u001b[0m\u001b[0mnp\u001b[0m\u001b[0;34m.\u001b[0m\u001b[0mpi\u001b[0m \u001b[0;34m/\u001b[0m \u001b[0;36m8\u001b[0m\u001b[0;34m,\u001b[0m \u001b[0mnp\u001b[0m\u001b[0;34m.\u001b[0m\u001b[0mpi\u001b[0m \u001b[0;34m/\u001b[0m \u001b[0;36m4\u001b[0m\u001b[0;34m,\u001b[0m \u001b[0;36m0.2\u001b[0m\u001b[0;34m,\u001b[0m \u001b[0;36m0.2\u001b[0m\u001b[0;34m)\u001b[0m\u001b[0;34m\u001b[0m\u001b[0;34m\u001b[0m\u001b[0m\n\u001b[0m",
      "\u001b[0;32m<ipython-input-2-1fb6f40ee551>\u001b[0m in \u001b[0;36mint_fortran\u001b[0;34m(phi1, phi2, r, b)\u001b[0m\n\u001b[1;32m     59\u001b[0m     \u001b[0mres\u001b[0m \u001b[0;34m=\u001b[0m \u001b[0;34m(\u001b[0m\u001b[0mctypes\u001b[0m\u001b[0;34m.\u001b[0m\u001b[0mc_double\u001b[0m \u001b[0;34m*\u001b[0m \u001b[0mlen\u001b[0m\u001b[0;34m(\u001b[0m\u001b[0mb\u001b[0m\u001b[0;34m)\u001b[0m\u001b[0;34m)\u001b[0m\u001b[0;34m.\u001b[0m\u001b[0mfrom_buffer\u001b[0m\u001b[0;34m(\u001b[0m\u001b[0mnp\u001b[0m\u001b[0;34m.\u001b[0m\u001b[0mzeros\u001b[0m\u001b[0;34m(\u001b[0m\u001b[0mlen\u001b[0m\u001b[0;34m(\u001b[0m\u001b[0mb\u001b[0m\u001b[0;34m)\u001b[0m\u001b[0;34m)\u001b[0m\u001b[0;34m)\u001b[0m\u001b[0;34m\u001b[0m\u001b[0;34m\u001b[0m\u001b[0m\n\u001b[1;32m     60\u001b[0m     \u001b[0mj\u001b[0m \u001b[0;34m=\u001b[0m \u001b[0mctypes\u001b[0m\u001b[0;34m.\u001b[0m\u001b[0mc_int\u001b[0m\u001b[0;34m(\u001b[0m\u001b[0mlen\u001b[0m\u001b[0;34m(\u001b[0m\u001b[0mb\u001b[0m\u001b[0;34m)\u001b[0m\u001b[0;34m)\u001b[0m\u001b[0;34m\u001b[0m\u001b[0;34m\u001b[0m\u001b[0m\n\u001b[0;32m---> 61\u001b[0;31m     \u001b[0mphotlib\u001b[0m\u001b[0;34m.\u001b[0m\u001b[0mI\u001b[0m\u001b[0;34m.\u001b[0m\u001b[0mrestype\u001b[0m \u001b[0;34m=\u001b[0m \u001b[0;32mNone\u001b[0m\u001b[0;34m\u001b[0m\u001b[0;34m\u001b[0m\u001b[0m\n\u001b[0m\u001b[1;32m     62\u001b[0m     \u001b[0mphotlib\u001b[0m\u001b[0;34m.\u001b[0m\u001b[0mI\u001b[0m\u001b[0;34m(\u001b[0m\u001b[0mphi1\u001b[0m\u001b[0;34m,\u001b[0m \u001b[0mphi2\u001b[0m\u001b[0;34m,\u001b[0m \u001b[0mb\u001b[0m\u001b[0;34m,\u001b[0m \u001b[0mr\u001b[0m\u001b[0;34m,\u001b[0m \u001b[0mres\u001b[0m\u001b[0;34m,\u001b[0m \u001b[0mj\u001b[0m\u001b[0;34m)\u001b[0m\u001b[0;34m\u001b[0m\u001b[0;34m\u001b[0m\u001b[0m\n\u001b[1;32m     63\u001b[0m     \u001b[0;32mreturn\u001b[0m \u001b[0mnp\u001b[0m\u001b[0;34m.\u001b[0m\u001b[0marray\u001b[0m\u001b[0;34m(\u001b[0m\u001b[0mres\u001b[0m\u001b[0;34m)\u001b[0m\u001b[0;34m\u001b[0m\u001b[0;34m\u001b[0m\u001b[0m\n",
      "\u001b[0;32m/usr/local/Cellar/python@3.8/3.8.6/Frameworks/Python.framework/Versions/3.8/lib/python3.8/ctypes/__init__.py\u001b[0m in \u001b[0;36m__getattr__\u001b[0;34m(self, name)\u001b[0m\n\u001b[1;32m    384\u001b[0m         \u001b[0;32mif\u001b[0m \u001b[0mname\u001b[0m\u001b[0;34m.\u001b[0m\u001b[0mstartswith\u001b[0m\u001b[0;34m(\u001b[0m\u001b[0;34m'__'\u001b[0m\u001b[0;34m)\u001b[0m \u001b[0;32mand\u001b[0m \u001b[0mname\u001b[0m\u001b[0;34m.\u001b[0m\u001b[0mendswith\u001b[0m\u001b[0;34m(\u001b[0m\u001b[0;34m'__'\u001b[0m\u001b[0;34m)\u001b[0m\u001b[0;34m:\u001b[0m\u001b[0;34m\u001b[0m\u001b[0;34m\u001b[0m\u001b[0m\n\u001b[1;32m    385\u001b[0m             \u001b[0;32mraise\u001b[0m \u001b[0mAttributeError\u001b[0m\u001b[0;34m(\u001b[0m\u001b[0mname\u001b[0m\u001b[0;34m)\u001b[0m\u001b[0;34m\u001b[0m\u001b[0;34m\u001b[0m\u001b[0m\n\u001b[0;32m--> 386\u001b[0;31m         \u001b[0mfunc\u001b[0m \u001b[0;34m=\u001b[0m \u001b[0mself\u001b[0m\u001b[0;34m.\u001b[0m\u001b[0m__getitem__\u001b[0m\u001b[0;34m(\u001b[0m\u001b[0mname\u001b[0m\u001b[0;34m)\u001b[0m\u001b[0;34m\u001b[0m\u001b[0;34m\u001b[0m\u001b[0m\n\u001b[0m\u001b[1;32m    387\u001b[0m         \u001b[0msetattr\u001b[0m\u001b[0;34m(\u001b[0m\u001b[0mself\u001b[0m\u001b[0;34m,\u001b[0m \u001b[0mname\u001b[0m\u001b[0;34m,\u001b[0m \u001b[0mfunc\u001b[0m\u001b[0;34m)\u001b[0m\u001b[0;34m\u001b[0m\u001b[0;34m\u001b[0m\u001b[0m\n\u001b[1;32m    388\u001b[0m         \u001b[0;32mreturn\u001b[0m \u001b[0mfunc\u001b[0m\u001b[0;34m\u001b[0m\u001b[0;34m\u001b[0m\u001b[0m\n",
      "\u001b[0;32m/usr/local/Cellar/python@3.8/3.8.6/Frameworks/Python.framework/Versions/3.8/lib/python3.8/ctypes/__init__.py\u001b[0m in \u001b[0;36m__getitem__\u001b[0;34m(self, name_or_ordinal)\u001b[0m\n\u001b[1;32m    389\u001b[0m \u001b[0;34m\u001b[0m\u001b[0m\n\u001b[1;32m    390\u001b[0m     \u001b[0;32mdef\u001b[0m \u001b[0m__getitem__\u001b[0m\u001b[0;34m(\u001b[0m\u001b[0mself\u001b[0m\u001b[0;34m,\u001b[0m \u001b[0mname_or_ordinal\u001b[0m\u001b[0;34m)\u001b[0m\u001b[0;34m:\u001b[0m\u001b[0;34m\u001b[0m\u001b[0;34m\u001b[0m\u001b[0m\n\u001b[0;32m--> 391\u001b[0;31m         \u001b[0mfunc\u001b[0m \u001b[0;34m=\u001b[0m \u001b[0mself\u001b[0m\u001b[0;34m.\u001b[0m\u001b[0m_FuncPtr\u001b[0m\u001b[0;34m(\u001b[0m\u001b[0;34m(\u001b[0m\u001b[0mname_or_ordinal\u001b[0m\u001b[0;34m,\u001b[0m \u001b[0mself\u001b[0m\u001b[0;34m)\u001b[0m\u001b[0;34m)\u001b[0m\u001b[0;34m\u001b[0m\u001b[0;34m\u001b[0m\u001b[0m\n\u001b[0m\u001b[1;32m    392\u001b[0m         \u001b[0;32mif\u001b[0m \u001b[0;32mnot\u001b[0m \u001b[0misinstance\u001b[0m\u001b[0;34m(\u001b[0m\u001b[0mname_or_ordinal\u001b[0m\u001b[0;34m,\u001b[0m \u001b[0mint\u001b[0m\u001b[0;34m)\u001b[0m\u001b[0;34m:\u001b[0m\u001b[0;34m\u001b[0m\u001b[0;34m\u001b[0m\u001b[0m\n\u001b[1;32m    393\u001b[0m             \u001b[0mfunc\u001b[0m\u001b[0;34m.\u001b[0m\u001b[0m__name__\u001b[0m \u001b[0;34m=\u001b[0m \u001b[0mname_or_ordinal\u001b[0m\u001b[0;34m\u001b[0m\u001b[0;34m\u001b[0m\u001b[0m\n",
      "\u001b[0;31mAttributeError\u001b[0m: dlsym(0x7fa2761842c0, I): symbol not found"
     ]
    }
   ],
   "source": [
    "int_fortran(np.pi / 8, np.pi / 4, 0.2, 0.2)"
   ]
  },
  {
   "cell_type": "code",
   "execution_count": null,
   "metadata": {},
   "outputs": [],
   "source": [
    "G_analytic(0.2, 0.2, -np.pi/8, np.pi/4)"
   ]
  },
  {
   "cell_type": "code",
   "execution_count": null,
   "metadata": {},
   "outputs": [],
   "source": [
    "phi1 = np.pi / 8\n",
    "phi2 = np.pi/4\n",
    "r = 0.1\n",
    "b = np.linspace(0.1, 1.1, 1000)\n",
    "%time res = int_fortran(phi1, phi2, r, b)\n",
    "plt.plot(b, res)"
   ]
  },
  {
   "cell_type": "code",
   "execution_count": null,
   "metadata": {},
   "outputs": [],
   "source": [
    "# numerical integration of the primitive integral\n",
    "from scipy.integrate import quad\n",
    "\n",
    "prim = lambda phi, r, b: ((1 - (1 - r**2 - b**2 + 2*r*b*np.cos(phi))**(3/2))*r*(r-b*np.cos(phi))\n",
    "                          /(b**2+r**2-2*b*r*np.cos(phi)))/3\n",
    "G = lambda r, b, phi1, phi2: quad(prim, -phi1, phi2, args=(r, b))[0]\n",
    "\n",
    "%time f = np.array([G(0.1, b, -np.pi/8, np.pi/4) for b in b])\n",
    "plt.plot(b, f)"
   ]
  },
  {
   "cell_type": "code",
   "execution_count": null,
   "metadata": {},
   "outputs": [],
   "source": [
    "def bdj(phi, n, m):\n",
    "    if not hasattr(phi, \"__len__\"):\n",
    "        s = np.sin(np.array([phi]))\n",
    "    else:\n",
    "        s = np.sin(phi)\n",
    "    if not hasattr(n, \"__len__\"):\n",
    "        n = np.ones_like(s)*n\n",
    "    if not hasattr(m, \"__len__\"):\n",
    "        m = np.ones_like(s)*m\n",
    "    s = (ctypes.c_double * len(s)).from_buffer(s)\n",
    "    n = (ctypes.c_double * len(n)).from_buffer(n)\n",
    "    m = (ctypes.c_double * len(m)).from_buffer(m)\n",
    "    b = (ctypes.c_double * len(s)).from_buffer(np.zeros(len(s)))\n",
    "    d = (ctypes.c_double * len(s)).from_buffer(np.zeros(len(s)))\n",
    "    j = (ctypes.c_double * len(s)).from_buffer(np.zeros(len(s)))\n",
    "    k = ctypes.c_int(len(s))\n",
    "    photlib.BDJ_arrays.restype = None\n",
    "    photlib.BDJ_arrays(b, d, j, s, n, m, k)\n",
    "    return np.array(b), np.array(d), np.array(j)"
   ]
  },
  {
   "cell_type": "code",
   "execution_count": null,
   "metadata": {},
   "outputs": [],
   "source": [
    "from scipy.special import ellipkinc, ellipeinc\n",
    "\n",
    "phi = np.linspace(0, np.pi/4, 1000)\n",
    "n = 0.7\n",
    "m = 0.8\n",
    "%time f, e, p = fkp(phi, n, m)\n",
    "\n",
    "plt.plot(phi, f, 'k--')\n",
    "plt.plot(phi, e, 'k--')\n",
    "\n",
    "plt.plot(phi, ellipkinc(phi, m))\n",
    "plt.plot(phi, ellipeinc(phi, m))"
   ]
  },
  {
   "cell_type": "code",
   "execution_count": null,
   "metadata": {},
   "outputs": [],
   "source": [
    "# numerical integration of the primitive integral\n",
    "from scipy.integrate import quad\n",
    "\n",
    "prim = lambda phi, r, b: ((1 - (1 - r**2 - b**2 + 2*r*b*np.cos(phi))**(3/2))*r*(r-b*np.cos(phi))\n",
    "                          /(b**2+r**2-2*b*r*np.cos(phi)))/3\n",
    "G = lambda r, b, phi1, phi2: quad(prim, phi1, phi2, args=(r, b))[0]"
   ]
  },
  {
   "cell_type": "code",
   "execution_count": null,
   "metadata": {},
   "outputs": [],
   "source": [
    "def abc(r, b):\n",
    "    if b==0:\n",
    "        return 0, 0, 0\n",
    "    elif (b+r) == 1:\n",
    "        return 0, 0, 0\n",
    "    elif b==r:\n",
    "        if r == 0.5:\n",
    "            return 0, 0, 0\n",
    "        else:\n",
    "            beta = (1-4*r**2)/9\n",
    "            alpha = 4*(2*r**2-1)/9\n",
    "            gamma = 0\n",
    "            return alpha, beta, gamma\n",
    "    else:\n",
    "        x = np.sqrt(1 - (b-r)**2)\n",
    "        alpha = (7*r**2 + b**2 - 4) * x / 9\n",
    "        beta = (r**4 + b**4 + r**2 - b**2 * (5+2*r**2) + 1) / 9 / x\n",
    "        gamma = (b + r) / (b - r) / 3 / x\n",
    "        return alpha, beta, gamma\n",
    "\n",
    "def R(r, b, phi):\n",
    "    if b==0:\n",
    "        if r==0:\n",
    "            return phi / 3\n",
    "        else:\n",
    "            return phi * (1 - (1-r**2)**(3/2)) / 3\n",
    "    elif b==r:\n",
    "        if r == 0.5:\n",
    "            return phi / 6 - (1/3) * np.sin(phi/2) * (1 - np.sin(phi/2)**2 / 3)\n",
    "        else:\n",
    "            return phi / 6 - 2 * r**2 * np.sin(phi) * np.sqrt(1 + 2 * r**2 * (np.cos(phi)-1)) / 9\n",
    "    elif (b+r)==1:\n",
    "        return (phi/6 - np.arctan((2*r-1)/np.tan(phi/2))/3 \n",
    "                + np.arctan(2*np.sqrt(r*b)*np.sin(phi/2)/(1-2*r)) / 3\n",
    "                + np.pi * np.sqrt(1-4*r*b) / (2*r-1) / 6\n",
    "                + (2/9) * np.sqrt(b*r) * (2*r*(5*r-2) - 2*b*r*np.cos(phi) - 3) * np.sin(phi/2))\n",
    "    else:\n",
    "        return (phi/6 - np.arctan((b+r)/(b-r) * np.tan(phi/2))/3 \n",
    "                - (2*b*r/9) * np.sin(phi) * np.sqrt(1-b**2-r**2+2*b*r*np.cos(phi)))\n",
    "    \n",
    "def snm(r, b, phi):\n",
    "    if b==0:\n",
    "        s, n, m = 0, 0, 0\n",
    "    elif b==r:\n",
    "        s, n, m = phi/2, 0, 4*r**2\n",
    "    else:\n",
    "        s, n, m = phi/2, -4*r*b/(b-r)**2, 4*r*b / (1 - (r-b)**2)\n",
    "    if m > 1:\n",
    "        m = 1.0\n",
    "    return s, n, m\n",
    "    \n",
    "def G_analytic(r, b, phi1, phi2):\n",
    "    alpha, beta, gamma = abc(r, b)\n",
    "    \n",
    "    if phi1 < 0:\n",
    "        f1, k1, p1 = fkp(*snm(r, b, -phi1))\n",
    "        R1 = R(r, b, -phi1)\n",
    "        if phi2 < 0:\n",
    "            f2, k2, p2 = fkp(*snm(r, b, -phi2))\n",
    "            R2 = R(r, b, -phi2)\n",
    "            return (alpha * (k1 - k2) + beta * (f1 - f2) + gamma * (p1 - p2) + (R1 - R2))[0]\n",
    "        else:\n",
    "            f2, k2, p2 = fkp(*snm(r, b, phi2))\n",
    "            R2 = R(r, b, phi2)\n",
    "            return (alpha * (k1 + k2) + beta * (f1 + f2) + gamma * (p1 + p2) + (R1 + R2))[0]\n",
    "    else:\n",
    "        f1, k1, p1 = fkp(*snm(r, b, phi1))\n",
    "        R1 = R(r, b, phi1)\n",
    "        f2, k2, p2 = fkp(*snm(r, b, phi2))\n",
    "        R2 = R(r, b, phi2)\n",
    "        return (alpha * (k2 - k1) + beta * (f2 - f1) + gamma * (p2 - p1) + (R2 - R1))[0]\n",
    "    \n",
    "def G_analytic_bdj(r, b, phi1, phi2):\n",
    "    alpha, beta, gamma = abc_bdj(r, b)\n",
    "    \n",
    "    if phi1 < 0:\n",
    "        b1, d1, j1 = bdj(*snm(r, b, -phi1))\n",
    "        R1 = R(r, b, -phi1)\n",
    "        if phi2 < 0:\n",
    "            b2, d2, j2 = bdj(*snm(r, b, -phi2))\n",
    "            R2 = R(r, b, -phi2)\n",
    "            return (alpha * (b1 - b2) + beta * (d1 - d2) + gamma * (j1 - j2) + (R1 - R2))[0]\n",
    "        else:\n",
    "            b2, d2, j2 = bdj(*snm(r, b, phi2))\n",
    "            R2 = R(r, b, phi2)\n",
    "            return (alpha * (b1 + b2) + beta * (d1 + d2) + gamma * (j1 + j2) + (R1 + R2))[0]\n",
    "    else:\n",
    "        b1, d1, j1 = bdj(*snm(r, b, phi1))\n",
    "        R1 = R(r, b, phi1)\n",
    "        b2, d2, j2 = fkp(*snm(r, b, phi2))\n",
    "        R2 = R(r, b, phi2)\n",
    "        return (alpha * (b2 - b1) + beta * (d2 - d1) + gamma * (j2 - j1) + (R2 - R1))[0]"
   ]
  },
  {
   "cell_type": "code",
   "execution_count": null,
   "metadata": {},
   "outputs": [],
   "source": [
    "int_fortran(np.pi / 8, np.pi/4, 0.2, 0.45)"
   ]
  },
  {
   "cell_type": "code",
   "execution_count": null,
   "metadata": {},
   "outputs": [],
   "source": [
    "fkp(*snm(0.2, 0.2, np.pi / 8))"
   ]
  },
  {
   "cell_type": "code",
   "execution_count": null,
   "metadata": {},
   "outputs": [],
   "source": [
    "G_analytic(0.2, 0.45, np.pi / 8, np.pi / 4)"
   ]
  },
  {
   "cell_type": "code",
   "execution_count": null,
   "metadata": {},
   "outputs": [],
   "source": [
    "print(G_analytic(0.2, 0.8, -np.pi/2, -np.pi/3))\n",
    "print(G(0.2, 0.8, -np.pi/2, -np.pi/3))\n",
    "print(int_fortran(np.pi/2, np.pi/3, 0.2, 0.8))"
   ]
  },
  {
   "cell_type": "code",
   "execution_count": null,
   "metadata": {},
   "outputs": [],
   "source": [
    "b = np.concatenate((np.linspace(0.9, 0, 100), np.linspace(0, 0.9, 100)))\n",
    "bp = np.concatenate((np.linspace(-0.9, 0, 100), np.linspace(0, 0.9, 100)))\n",
    "%time f = np.array([G(0.1, b, -np.pi, np.pi) for b in b])\n",
    "%time f_fortran = int_fortran(np.pi, np.pi, 0.1, b)\n",
    "plt.plot(bp, f)\n",
    "#plt.plot(bp, f_analytic, '-')\n",
    "plt.plot(bp, f_fortran, '--')\n",
    "#plt.plot(bp, f_analytic_bdj, '.')\n",
    "#plt.plot(bp, f - f_fortran, '--')\n",
    "\n",
    "#plt.plot(0.0, G_analytic(0.5, 0.0, -np.pi/4, np.pi/4), 'ko')\n",
    "#plt.plot(0.5, G_analytic(0.5, 0.5, -np.pi/4, np.pi/4), 'ko')\n",
    "#plt.plot(0.5, G_analytic(0.5, 0.5, -np.pi/4, np.pi/4), 'ko')\n",
    "#print(G_analytic(0.2, 0.8, 0, np.pi/2))\n",
    "\n",
    "#plt.ylim(-0.1, 0.1)\n",
    "#plt.axvline(0.1)"
   ]
  },
  {
   "cell_type": "code",
   "execution_count": null,
   "metadata": {},
   "outputs": [],
   "source": [
    "#plt.plot(bp, snm(0.5, b, -np.pi/2)[2])\n",
    "plt.plot(bp, [snm(0.5, b, np.pi/2)[1] for b in b])\n",
    "#plt.ylim(-1000, 1)"
   ]
  },
  {
   "cell_type": "code",
   "execution_count": null,
   "metadata": {},
   "outputs": [],
   "source": [
    "alpha, beta, gamma = np.array([np.array(abc(0.5, b)) for b in b]).T\n",
    "f = np.array([fkp(*snm(0.5, b, np.pi/2)) for b in b]).T[0][2]\n",
    "plt.plot(bp, f)\n",
    "plt.ylim(-1, 1)"
   ]
  },
  {
   "cell_type": "code",
   "execution_count": null,
   "metadata": {},
   "outputs": [],
   "source": [
    "alpha, beta, gamma = np.array([np.array(abc_bdj(0.5, b)) for b in b]).T\n",
    "f = np.array([fkp(*snm(0.5, b, np.pi/2)) for b in b]).T[0][2]\n",
    "plt.plot(bp, f, '.')\n",
    "plt.ylim(0, 2)"
   ]
  },
  {
   "cell_type": "code",
   "execution_count": null,
   "metadata": {},
   "outputs": [],
   "source": [
    "b = np.concatenate((np.linspace(0.9, 0, 901), np.linspace(0, 0.9, 901)))\n",
    "bp = np.concatenate((np.linspace(-0.9, 0, 901), np.linspace(0, 0.9, 901)))\n",
    "f = [G(0.2, b, -np.pi, np.pi) for b in b]\n",
    "f_analytic = [G_analytic(0.2, b, -np.pi, np.pi) for b in b]\n",
    "\n",
    "plt.plot(bp, f, '.')\n",
    "plt.plot(bp, f_analytic, '.')\n",
    "#plt.ylim(-1, 1)\n",
    "plt.axvline(0.2)\n",
    "plt.axvline(-0.2)"
   ]
  },
  {
   "cell_type": "code",
   "execution_count": null,
   "metadata": {},
   "outputs": [],
   "source": [
    "r = np.linspace(0.01, 0.4, 100)\n",
    "#np.array([fkp(*snm(r, r, np.pi/4))[1] for r in r]).T\n",
    "plt.plot(r, [G(r, 1-r, -np.pi/2, np.pi/2) for r in r])\n",
    "plt.plot(r, [G_analytic(r, 1-r, -np.pi/2, np.pi/2) for r in r])\n",
    "#plt.plot(r, [fkp(*snm(r, r, np.pi/2))[0] for r in r])\n",
    "#plt.plot(r, [abc(r, r)[0]*fkp(*snm(r, r, np.pi/2))[0] for r in r])\n",
    "#plt.plot(r, [abc(r, r)[1] for r in r])\n",
    "#plt.plot(r, [fkp(*snm(r, r, np.pi/2))[1] for r in r])\n",
    "#plt.plot(r, [abc(r, r)[0]*fkp(*snm(r, r, np.pi/2))[0] + abc(r, r)[1]*fkp(*snm(r, r, np.pi/2))[1]+ R(r, r, np.pi/2) for r in r])"
   ]
  },
  {
   "cell_type": "code",
   "execution_count": null,
   "metadata": {},
   "outputs": [],
   "source": [
    "print([fkp(*snm(1-b, b, 0))[2] for b in b])\n",
    "print([snm(1-b, b, 0)[1] for b in b])"
   ]
  },
  {
   "cell_type": "code",
   "execution_count": null,
   "metadata": {},
   "outputs": [],
   "source": [
    "[G_analytic(1-b, b, 0, np.pi) for b in b]"
   ]
  },
  {
   "cell_type": "code",
   "execution_count": null,
   "metadata": {},
   "outputs": [],
   "source": [
    "n = np.linspace(0, -100, 100)\n",
    "phi = np.ones_like(n)*np.pi/2\n",
    "plt.plot(n, fkp(phi, n, 0.5)[2])"
   ]
  },
  {
   "cell_type": "code",
   "execution_count": null,
   "metadata": {},
   "outputs": [],
   "source": [
    "r = 0.1\n",
    "b = np.linspace(0.15, 1, 1000)\n",
    "phi = np.ones_like(b)*np.pi/2\n",
    "plt.plot(b, fkp(phi, -(1-(r-b)**2)/(r-b)**2, 0.5)[2])"
   ]
  },
  {
   "cell_type": "code",
   "execution_count": null,
   "metadata": {},
   "outputs": [],
   "source": [
    "-(1-(r-b)**2)/(r-b)**2"
   ]
  },
  {
   "cell_type": "code",
   "execution_count": null,
   "metadata": {},
   "outputs": [],
   "source": [
    "np.sign(-12.2)"
   ]
  },
  {
   "cell_type": "code",
   "execution_count": null,
   "metadata": {},
   "outputs": [],
   "source": [
    "2**2 + 1"
   ]
  },
  {
   "cell_type": "code",
   "execution_count": null,
   "metadata": {},
   "outputs": [],
   "source": [
    "import numpy as np"
   ]
  },
  {
   "cell_type": "code",
   "execution_count": null,
   "metadata": {},
   "outputs": [],
   "source": [
    "%timeit np.arctan(0.5)"
   ]
  },
  {
   "cell_type": "code",
   "execution_count": null,
   "metadata": {},
   "outputs": [],
   "source": [
    "from scipy.special import ellipeinc, ellipkinc"
   ]
  },
  {
   "cell_type": "code",
   "execution_count": null,
   "metadata": {},
   "outputs": [],
   "source": [
    "%timeit ellipeinc(0.5, 0.5)"
   ]
  },
  {
   "cell_type": "code",
   "execution_count": null,
   "metadata": {},
   "outputs": [],
   "source": [
    "%timeit ellipkinc(0.5, 0.5)"
   ]
  },
  {
   "cell_type": "code",
   "execution_count": null,
   "metadata": {},
   "outputs": [],
   "source": [
    "print(\"{:0.30}\".format(1/(2.0 * np.pi / 3.0)))"
   ]
  },
  {
   "cell_type": "code",
   "execution_count": null,
   "metadata": {},
   "outputs": [],
   "source": []
  }
 ],
 "metadata": {
  "kernelspec": {
   "display_name": "Python 3",
   "language": "python",
   "name": "python3"
  },
  "language_info": {
   "codemirror_mode": {
    "name": "ipython",
    "version": 3
   },
   "file_extension": ".py",
   "mimetype": "text/x-python",
   "name": "python",
   "nbconvert_exporter": "python",
   "pygments_lexer": "ipython3",
   "version": "3.8.6"
  }
 },
 "nbformat": 4,
 "nbformat_minor": 4
}
