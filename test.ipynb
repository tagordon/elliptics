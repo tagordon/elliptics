{
 "cells": [
  {
   "cell_type": "code",
   "execution_count": 1,
   "metadata": {},
   "outputs": [],
   "source": [
    "import numpy as np\n",
    "import matplotlib.pyplot as plt\n",
    "import ctypes\n",
    "photlib = ctypes.CDLL(\"./c_src/cwrapper.so\")"
   ]
  },
  {
   "cell_type": "code",
   "execution_count": 2,
   "metadata": {},
   "outputs": [],
   "source": [
    "def fb(phi, m):\n",
    "    if not hasattr(phi, \"__len__\"):\n",
    "        phi = np.array([phi])\n",
    "    if not hasattr(m, \"__len__\"):\n",
    "        m = np.ones_like(phi)*m\n",
    "    phi = (ctypes.c_double * len(phi)).from_buffer(phi)\n",
    "    m = (ctypes.c_double * len(m)).from_buffer(m)\n",
    "    e = (ctypes.c_double * len(phi)).from_buffer(np.zeros(len(phi)))\n",
    "    j = ctypes.c_int(len(phi))\n",
    "    photlib.F.restype = None\n",
    "    photlib.F(phi, m, e, j)\n",
    "    return np.array(e)\n",
    "\n",
    "def eb(phi, m):\n",
    "    if not hasattr(phi, \"__len__\"):\n",
    "        phi = np.array([phi])\n",
    "    if not hasattr(m, \"__len__\"):\n",
    "        m = np.ones_like(phi)*m\n",
    "    phi = (ctypes.c_double * len(phi)).from_buffer(phi)\n",
    "    m = (ctypes.c_double * len(m)).from_buffer(m)\n",
    "    e = (ctypes.c_double * len(phi)).from_buffer(np.zeros(len(phi)))\n",
    "    j = ctypes.c_int(len(phi))\n",
    "    photlib.E.restype = None\n",
    "    photlib.E(phi, m, e, j)\n",
    "    return np.array(e)\n",
    "\n",
    "def pb(phi, n, m):\n",
    "    if not hasattr(phi, \"__len__\"):\n",
    "        phi = np.array([phi])\n",
    "    if not hasattr(m, \"__len__\"):\n",
    "        m = np.ones_like(phi)*m\n",
    "    if not hasattr(n, \"__len__\"):\n",
    "        n = np.ones_like(phi)*n\n",
    "    phi = (ctypes.c_double * len(phi)).from_buffer(phi)\n",
    "    m = (ctypes.c_double * len(m)).from_buffer(m)\n",
    "    n = (ctypes.c_double * len(n)).from_buffer(n)\n",
    "    e = (ctypes.c_double * len(phi)).from_buffer(np.zeros(len(phi)))\n",
    "    j = ctypes.c_int(len(phi))\n",
    "    photlib.P.restype = None\n",
    "    photlib.P(phi, n, m, e, j)\n",
    "    return np.array(e)\n",
    "\n",
    "def fkp(phi, n, m):\n",
    "    return fb(phi, m), eb(phi, m), pb(phi, n, m)"
   ]
  },
  {
   "cell_type": "code",
   "execution_count": null,
   "metadata": {},
   "outputs": [],
   "source": [
    "def bdj(phi, n, m):\n",
    "    if not hasattr(phi, \"__len__\"):\n",
    "        s = np.sin(np.array([phi]))\n",
    "    else:\n",
    "        s = np.sin(phi)\n",
    "    if not hasattr(n, \"__len__\"):\n",
    "        n = np.ones_like(s)*n\n",
    "    if not hasattr(m, \"__len__\"):\n",
    "        m = np.ones_like(s)*m\n",
    "    s = (ctypes.c_double * len(s)).from_buffer(s)\n",
    "    n = (ctypes.c_double * len(n)).from_buffer(n)\n",
    "    m = (ctypes.c_double * len(m)).from_buffer(m)\n",
    "    b = (ctypes.c_double * len(s)).from_buffer(np.zeros(len(s)))\n",
    "    d = (ctypes.c_double * len(s)).from_buffer(np.zeros(len(s)))\n",
    "    j = (ctypes.c_double * len(s)).from_buffer(np.zeros(len(s)))\n",
    "    k = ctypes.c_int(len(s))\n",
    "    photlib.BDJ_arrays.restype = None\n",
    "    photlib.BDJ_arrays(b, d, j, s, n, m, k)\n",
    "    return np.array(b), np.array(d), np.array(j)"
   ]
  },
  {
   "cell_type": "code",
   "execution_count": 3,
   "metadata": {},
   "outputs": [
    {
     "name": "stdout",
     "output_type": "stream",
     "text": [
      "CPU times: user 1.21 ms, sys: 93 µs, total: 1.31 ms\n",
      "Wall time: 658 µs\n"
     ]
    },
    {
     "data": {
      "text/plain": [
       "[<matplotlib.lines.Line2D at 0x22e8f51c0>]"
      ]
     },
     "execution_count": 3,
     "metadata": {},
     "output_type": "execute_result"
    },
    {
     "data": {
      "image/png": "[encoded data removed]",
      "text/plain": [
       "<Figure size 432x288 with 1 Axes>"
      ]
     },
     "metadata": {
      "needs_background": "light"
     },
     "output_type": "display_data"
    }
   ],
   "source": [
    "from scipy.special import ellipkinc, ellipeinc\n",
    "\n",
    "phi = np.linspace(0, np.pi/4, 1000)\n",
    "n = 0.7\n",
    "m = 0.8\n",
    "%time f, e, p = fkp(phi, n, m)\n",
    "\n",
    "plt.plot(phi, f, 'k--')\n",
    "plt.plot(phi, e, 'k--')\n",
    "\n",
    "plt.plot(phi, ellipkinc(phi, m))\n",
    "plt.plot(phi, ellipeinc(phi, m))"
   ]
  },
  {
   "cell_type": "code",
   "execution_count": 4,
   "metadata": {},
   "outputs": [],
   "source": [
    "# numerical integration of the primitive integral\n",
    "from scipy.integrate import quad\n",
    "\n",
    "prim = lambda phi, r, b: ((1 - (1 - r**2 - b**2 + 2*r*b*np.cos(phi))**(3/2))*r*(r-b*np.cos(phi))\n",
    "                          /(b**2+r**2-2*b*r*np.cos(phi)))/3\n",
    "G = lambda r, b, phi1, phi2: quad(prim, phi1, phi2, args=(r, b))[0]"
   ]
  },
  {
   "cell_type": "code",
   "execution_count": 5,
   "metadata": {},
   "outputs": [],
   "source": [
    "def abc(r, b):\n",
    "    if b==0:\n",
    "        return 0, 0, 0\n",
    "    elif (b+r) == 1:\n",
    "        return 0, 0, 0\n",
    "    elif b==r:\n",
    "        if r == 0.5:\n",
    "            return 0, 0, 0\n",
    "        else:\n",
    "            beta = (1-4*r**2)/9\n",
    "            alpha = 4*(2*r**2-1)/9\n",
    "            gamma = 0\n",
    "            return alpha, beta, gamma\n",
    "    else:\n",
    "        x = np.sqrt(1 - (b-r)**2)\n",
    "        alpha = (7*r**2 + b**2 - 4) * x / 9\n",
    "        beta = (r**4 + b**4 + r**2 - b**2 * (5+2*r**2) + 1) / 9 / x\n",
    "        gamma = (b + r) / (b - r) / 3 / x\n",
    "        return alpha, beta, gamma\n",
    "\n",
    "def R(r, b, phi):\n",
    "    if b==0:\n",
    "        if r==0:\n",
    "            return phi / 3\n",
    "        else:\n",
    "            return phi * (1 - (1-r**2)**(3/2)) / 3\n",
    "    elif b==r:\n",
    "        if r == 0.5:\n",
    "            return phi / 6 - (1/3) * np.sin(phi/2) * (1 - np.sin(phi/2)**2 / 3)\n",
    "        else:\n",
    "            return phi / 6 - 2 * r**2 * np.sin(phi) * np.sqrt(1 + 2 * r**2 * (np.cos(phi)-1)) / 9\n",
    "    elif (b+r)==1:\n",
    "        return (phi/6 - np.arctan((2*r-1)/np.tan(phi/2))/3 \n",
    "                + np.arctan(2*np.sqrt(r*b)*np.sin(phi/2)/(1-2*r)) / 3\n",
    "                + np.pi * np.sqrt(1-4*r*b) / (2*r-1) / 6\n",
    "                + (2/9) * np.sqrt(b*r) * (2*r*(5*r-2) - 2*b*r*np.cos(phi) - 3) * np.sin(phi/2))\n",
    "    else:\n",
    "        return (phi/6 - np.arctan((b+r)/(b-r) * np.tan(phi/2))/3 \n",
    "                - (2*b*r/9) * np.sin(phi) * np.sqrt(1-b**2-r**2+2*b*r*np.cos(phi)))\n",
    "    \n",
    "def snm(r, b, phi):\n",
    "    if b==0:\n",
    "        s, n, m = 0, 0, 0\n",
    "    elif b==r:\n",
    "        s, n, m = phi/2, 0, 4*r**2\n",
    "    else:\n",
    "        s, n, m = phi/2, -4*r*b/(b-r)**2, 4*r*b / (1 - (r-b)**2)\n",
    "    if m > 1:\n",
    "        m = 1.0\n",
    "    return s, n, m\n",
    "    \n",
    "def G_analytic(r, b, phi1, phi2):\n",
    "    alpha, beta, gamma = abc(r, b)\n",
    "    \n",
    "    if phi1 < 0:\n",
    "        f1, k1, p1 = fkp(*snm(r, b, -phi1))\n",
    "        R1 = R(r, b, -phi1)\n",
    "        if phi2 < 0:\n",
    "            f2, k2, p2 = fkp(*snm(r, b, -phi2))\n",
    "            R2 = R(r, b, -phi2)\n",
    "            return (alpha * (k1 - k2) + beta * (f1 - f2) + gamma * (p1 - p2) + (R1 - R2))[0]\n",
    "        else:\n",
    "            f2, k2, p2 = fkp(*snm(r, b, phi2))\n",
    "            R2 = R(r, b, phi2)\n",
    "            return (alpha * (k1 + k2) + beta * (f1 + f2) + gamma * (p1 + p2) + (R1 + R2))[0]\n",
    "    else:\n",
    "        f1, k1, p1 = fkp(*snm(r, b, phi1))\n",
    "        R1 = R(r, b, phi1)\n",
    "        f2, k2, p2 = fkp(*snm(r, b, phi2))\n",
    "        R2 = R(r, b, phi2)\n",
    "        return (alpha * (k2 - k1) + beta * (f2 - f1) + gamma * (p2 - p1) + (R2 - R1))[0]\n",
    "    \n",
    "def G_analytic_bdj(r, b, phi1, phi2):\n",
    "    alpha, beta, gamma = abc_bdj(r, b)\n",
    "    \n",
    "    if phi1 < 0:\n",
    "        b1, d1, j1 = bdj(*snm(r, b, -phi1))\n",
    "        R1 = R(r, b, -phi1)\n",
    "        if phi2 < 0:\n",
    "            b2, d2, j2 = bdj(*snm(r, b, -phi2))\n",
    "            R2 = R(r, b, -phi2)\n",
    "            return (alpha * (b1 - b2) + beta * (d1 - d2) + gamma * (j1 - j2) + (R1 - R2))[0]\n",
    "        else:\n",
    "            b2, d2, j2 = bdj(*snm(r, b, phi2))\n",
    "            R2 = R(r, b, phi2)\n",
    "            return (alpha * (b1 + b2) + beta * (d1 + d2) + gamma * (j1 + j2) + (R1 + R2))[0]\n",
    "    else:\n",
    "        b1, d1, j1 = bdj(*snm(r, b, phi1))\n",
    "        R1 = R(r, b, phi1)\n",
    "        b2, d2, j2 = fkp(*snm(r, b, phi2))\n",
    "        R2 = R(r, b, phi2)\n",
    "        return (alpha * (b2 - b1) + beta * (d2 - d1) + gamma * (j2 - j1) + (R2 - R1))[0]"
   ]
  },
  {
   "cell_type": "code",
   "execution_count": 6,
   "metadata": {},
   "outputs": [
    {
     "name": "stdout",
     "output_type": "stream",
     "text": [
      "-0.00029715458805840145\n"
     ]
    },
    {
     "ename": "NameError",
     "evalue": "name 'bdj' is not defined",
     "output_type": "error",
     "traceback": [
      "\u001b[0;31m---------------------------------------------------------------------------\u001b[0m",
      "\u001b[0;31mNameError\u001b[0m                                 Traceback (most recent call last)",
      "\u001b[0;32m<ipython-input-6-b6bb84a1a952>\u001b[0m in \u001b[0;36m<module>\u001b[0;34m\u001b[0m\n\u001b[1;32m      1\u001b[0m \u001b[0mprint\u001b[0m\u001b[0;34m(\u001b[0m\u001b[0mG_analytic\u001b[0m\u001b[0;34m(\u001b[0m\u001b[0;36m0.2\u001b[0m\u001b[0;34m,\u001b[0m \u001b[0;36m0.8\u001b[0m\u001b[0;34m,\u001b[0m \u001b[0;34m-\u001b[0m\u001b[0mnp\u001b[0m\u001b[0;34m.\u001b[0m\u001b[0mpi\u001b[0m\u001b[0;34m/\u001b[0m\u001b[0;36m2\u001b[0m\u001b[0;34m,\u001b[0m \u001b[0;34m-\u001b[0m\u001b[0mnp\u001b[0m\u001b[0;34m.\u001b[0m\u001b[0mpi\u001b[0m\u001b[0;34m/\u001b[0m\u001b[0;36m3\u001b[0m\u001b[0;34m)\u001b[0m\u001b[0;34m)\u001b[0m\u001b[0;34m\u001b[0m\u001b[0;34m\u001b[0m\u001b[0m\n\u001b[0;32m----> 2\u001b[0;31m \u001b[0mprint\u001b[0m\u001b[0;34m(\u001b[0m\u001b[0mG_analytic_bdj\u001b[0m\u001b[0;34m(\u001b[0m\u001b[0;36m0.2\u001b[0m\u001b[0;34m,\u001b[0m \u001b[0;36m0.8\u001b[0m\u001b[0;34m,\u001b[0m \u001b[0;34m-\u001b[0m\u001b[0mnp\u001b[0m\u001b[0;34m.\u001b[0m\u001b[0mpi\u001b[0m\u001b[0;34m/\u001b[0m\u001b[0;36m2\u001b[0m\u001b[0;34m,\u001b[0m \u001b[0;34m-\u001b[0m\u001b[0mnp\u001b[0m\u001b[0;34m.\u001b[0m\u001b[0mpi\u001b[0m\u001b[0;34m/\u001b[0m\u001b[0;36m3\u001b[0m\u001b[0;34m)\u001b[0m\u001b[0;34m)\u001b[0m\u001b[0;34m\u001b[0m\u001b[0;34m\u001b[0m\u001b[0m\n\u001b[0m\u001b[1;32m      3\u001b[0m \u001b[0mprint\u001b[0m\u001b[0;34m(\u001b[0m\u001b[0mG\u001b[0m\u001b[0;34m(\u001b[0m\u001b[0;36m0.2\u001b[0m\u001b[0;34m,\u001b[0m \u001b[0;36m0.8\u001b[0m\u001b[0;34m,\u001b[0m \u001b[0;34m-\u001b[0m\u001b[0mnp\u001b[0m\u001b[0;34m.\u001b[0m\u001b[0mpi\u001b[0m\u001b[0;34m/\u001b[0m\u001b[0;36m2\u001b[0m\u001b[0;34m,\u001b[0m \u001b[0;34m-\u001b[0m\u001b[0mnp\u001b[0m\u001b[0;34m.\u001b[0m\u001b[0mpi\u001b[0m\u001b[0;34m/\u001b[0m\u001b[0;36m3\u001b[0m\u001b[0;34m)\u001b[0m\u001b[0;34m)\u001b[0m\u001b[0;34m\u001b[0m\u001b[0;34m\u001b[0m\u001b[0m\n",
      "\u001b[0;32m<ipython-input-5-99eb406863ae>\u001b[0m in \u001b[0;36mG_analytic_bdj\u001b[0;34m(r, b, phi1, phi2)\u001b[0m\n\u001b[1;32m     95\u001b[0m \u001b[0;34m\u001b[0m\u001b[0m\n\u001b[1;32m     96\u001b[0m     \u001b[0;32mif\u001b[0m \u001b[0mphi1\u001b[0m \u001b[0;34m<\u001b[0m \u001b[0;36m0\u001b[0m\u001b[0;34m:\u001b[0m\u001b[0;34m\u001b[0m\u001b[0;34m\u001b[0m\u001b[0m\n\u001b[0;32m---> 97\u001b[0;31m         \u001b[0mb1\u001b[0m\u001b[0;34m,\u001b[0m \u001b[0md1\u001b[0m\u001b[0;34m,\u001b[0m \u001b[0mj1\u001b[0m \u001b[0;34m=\u001b[0m \u001b[0mbdj\u001b[0m\u001b[0;34m(\u001b[0m\u001b[0;34m*\u001b[0m\u001b[0msnm\u001b[0m\u001b[0;34m(\u001b[0m\u001b[0mr\u001b[0m\u001b[0;34m,\u001b[0m \u001b[0mb\u001b[0m\u001b[0;34m,\u001b[0m \u001b[0;34m-\u001b[0m\u001b[0mphi1\u001b[0m\u001b[0;34m)\u001b[0m\u001b[0;34m)\u001b[0m\u001b[0;34m\u001b[0m\u001b[0;34m\u001b[0m\u001b[0m\n\u001b[0m\u001b[1;32m     98\u001b[0m         \u001b[0mR1\u001b[0m \u001b[0;34m=\u001b[0m \u001b[0mR\u001b[0m\u001b[0;34m(\u001b[0m\u001b[0mr\u001b[0m\u001b[0;34m,\u001b[0m \u001b[0mb\u001b[0m\u001b[0;34m,\u001b[0m \u001b[0;34m-\u001b[0m\u001b[0mphi1\u001b[0m\u001b[0;34m)\u001b[0m\u001b[0;34m\u001b[0m\u001b[0;34m\u001b[0m\u001b[0m\n\u001b[1;32m     99\u001b[0m         \u001b[0;32mif\u001b[0m \u001b[0mphi2\u001b[0m \u001b[0;34m<\u001b[0m \u001b[0;36m0\u001b[0m\u001b[0;34m:\u001b[0m\u001b[0;34m\u001b[0m\u001b[0;34m\u001b[0m\u001b[0m\n",
      "\u001b[0;31mNameError\u001b[0m: name 'bdj' is not defined"
     ]
    }
   ],
   "source": [
    "print(G_analytic(0.2, 0.8, -np.pi/2, -np.pi/3))\n",
    "print(G_analytic_bdj(0.2, 0.8, -np.pi/2, -np.pi/3))\n",
    "print(G(0.2, 0.8, -np.pi/2, -np.pi/3))"
   ]
  },
  {
   "cell_type": "code",
   "execution_count": 14,
   "metadata": {},
   "outputs": [
    {
     "name": "stdout",
     "output_type": "stream",
     "text": [
      "CPU times: user 42.2 ms, sys: 2.13 ms, total: 44.4 ms\n",
      "Wall time: 46 ms\n",
      "CPU times: user 58.7 ms, sys: 4.15 ms, total: 62.9 ms\n",
      "Wall time: 74.9 ms\n"
     ]
    },
    {
     "data": {
      "text/plain": [
       "[<matplotlib.lines.Line2D at 0x22f59e190>]"
      ]
     },
     "execution_count": 14,
     "metadata": {},
     "output_type": "execute_result"
    },
    {
     "data": {
      "image/png": "[encoded data removed]",
      "text/plain": [
       "<Figure size 432x288 with 1 Axes>"
      ]
     },
     "metadata": {
      "needs_background": "light"
     },
     "output_type": "display_data"
    }
   ],
   "source": [
    "b = np.concatenate((np.linspace(0.9, 0, 100), np.linspace(0, 0.9, 100)))\n",
    "bp = np.concatenate((np.linspace(-0.9, 0, 100), np.linspace(0, 0.9, 100)))\n",
    "%time f = np.array([G(0.1, b, -np.pi/8, np.pi) for b in b])\n",
    "%time f_analytic = np.array([G_analytic(0.1, b, -np.pi/8, np.pi) for b in b])\n",
    "plt.plot(bp, f)\n",
    "plt.plot(bp, f_analytic, '--')\n",
    "#plt.plot(bp, f_analytic_bdj, '.')\n",
    "\n",
    "#plt.plot(0.0, G_analytic(0.5, 0.0, -np.pi/4, np.pi/4), 'ko')\n",
    "#plt.plot(0.5, G_analytic(0.5, 0.5, -np.pi/4, np.pi/4), 'ko')\n",
    "#plt.plot(0.5, G_analytic(0.5, 0.5, -np.pi/4, np.pi/4), 'ko')\n",
    "#print(G_analytic(0.2, 0.8, 0, np.pi/2))\n",
    "\n",
    "#plt.ylim(-0.3, 0.3)"
   ]
  },
  {
   "cell_type": "code",
   "execution_count": null,
   "metadata": {},
   "outputs": [],
   "source": [
    "#plt.plot(bp, snm(0.5, b, -np.pi/2)[2])\n",
    "plt.plot(bp, [snm(0.5, b, np.pi/2)[1] for b in b])\n",
    "#plt.ylim(-1000, 1)"
   ]
  },
  {
   "cell_type": "code",
   "execution_count": null,
   "metadata": {},
   "outputs": [],
   "source": [
    "alpha, beta, gamma = np.array([np.array(abc(0.5, b)) for b in b]).T\n",
    "f = np.array([fkp(*snm(0.5, b, np.pi/2)) for b in b]).T[0][2]\n",
    "plt.plot(bp, f)\n",
    "plt.ylim(-1, 1)"
   ]
  },
  {
   "cell_type": "code",
   "execution_count": null,
   "metadata": {},
   "outputs": [],
   "source": [
    "alpha, beta, gamma = np.array([np.array(abc_bdj(0.5, b)) for b in b]).T\n",
    "f = np.array([fkp(*snm(0.5, b, np.pi/2)) for b in b]).T[0][2]\n",
    "plt.plot(bp, f, '.')\n",
    "plt.ylim(0, 2)"
   ]
  },
  {
   "cell_type": "code",
   "execution_count": null,
   "metadata": {},
   "outputs": [],
   "source": [
    "b = np.concatenate((np.linspace(0.9, 0, 901), np.linspace(0, 0.9, 901)))\n",
    "bp = np.concatenate((np.linspace(-0.9, 0, 901), np.linspace(0, 0.9, 901)))\n",
    "f = [G(0.2, b, -np.pi, np.pi) for b in b]\n",
    "f_analytic = [G_analytic(0.2, b, -np.pi, np.pi) for b in b]\n",
    "\n",
    "plt.plot(bp, f, '.')\n",
    "plt.plot(bp, f_analytic, '.')\n",
    "#plt.ylim(-1, 1)\n",
    "plt.axvline(0.2)\n",
    "plt.axvline(-0.2)"
   ]
  },
  {
   "cell_type": "code",
   "execution_count": null,
   "metadata": {},
   "outputs": [],
   "source": [
    "r = np.linspace(0.01, 0.4, 100)\n",
    "#np.array([fkp(*snm(r, r, np.pi/4))[1] for r in r]).T\n",
    "plt.plot(r, [G(r, 1-r, -np.pi/2, np.pi/2) for r in r])\n",
    "plt.plot(r, [G_analytic(r, 1-r, -np.pi/2, np.pi/2) for r in r])\n",
    "#plt.plot(r, [fkp(*snm(r, r, np.pi/2))[0] for r in r])\n",
    "#plt.plot(r, [abc(r, r)[0]*fkp(*snm(r, r, np.pi/2))[0] for r in r])\n",
    "#plt.plot(r, [abc(r, r)[1] for r in r])\n",
    "#plt.plot(r, [fkp(*snm(r, r, np.pi/2))[1] for r in r])\n",
    "#plt.plot(r, [abc(r, r)[0]*fkp(*snm(r, r, np.pi/2))[0] + abc(r, r)[1]*fkp(*snm(r, r, np.pi/2))[1]+ R(r, r, np.pi/2) for r in r])"
   ]
  },
  {
   "cell_type": "code",
   "execution_count": null,
   "metadata": {},
   "outputs": [],
   "source": [
    "print([fkp(*snm(1-b, b, 0))[2] for b in b])\n",
    "print([snm(1-b, b, 0)[1] for b in b])"
   ]
  },
  {
   "cell_type": "code",
   "execution_count": null,
   "metadata": {},
   "outputs": [],
   "source": [
    "[G_analytic(1-b, b, 0, np.pi) for b in b]"
   ]
  },
  {
   "cell_type": "code",
   "execution_count": null,
   "metadata": {},
   "outputs": [],
   "source": [
    "n = np.linspace(0, -100, 100)\n",
    "phi = np.ones_like(n)*np.pi/2\n",
    "plt.plot(n, fkp(phi, n, 0.5)[2])"
   ]
  },
  {
   "cell_type": "code",
   "execution_count": null,
   "metadata": {},
   "outputs": [],
   "source": [
    "r = 0.1\n",
    "b = np.linspace(0.15, 1, 1000)\n",
    "phi = np.ones_like(b)*np.pi/2\n",
    "plt.plot(b, fkp(phi, -(1-(r-b)**2)/(r-b)**2, 0.5)[2])"
   ]
  },
  {
   "cell_type": "code",
   "execution_count": null,
   "metadata": {},
   "outputs": [],
   "source": [
    "-(1-(r-b)**2)/(r-b)**2"
   ]
  },
  {
   "cell_type": "code",
   "execution_count": null,
   "metadata": {},
   "outputs": [],
   "source": [
    "np.sign(-12.2)"
   ]
  },
  {
   "cell_type": "code",
   "execution_count": null,
   "metadata": {},
   "outputs": [],
   "source": [
    "2**2 + 1"
   ]
  },
  {
   "cell_type": "code",
   "execution_count": null,
   "metadata": {},
   "outputs": [],
   "source": [
    "import numpy as np"
   ]
  },
  {
   "cell_type": "code",
   "execution_count": null,
   "metadata": {},
   "outputs": [],
   "source": [
    "%timeit np.arctan(0.5)"
   ]
  },
  {
   "cell_type": "code",
   "execution_count": null,
   "metadata": {},
   "outputs": [],
   "source": [
    "from scipy.special import ellipeinc, ellipkinc"
   ]
  },
  {
   "cell_type": "code",
   "execution_count": null,
   "metadata": {},
   "outputs": [],
   "source": [
    "%timeit ellipeinc(0.5, 0.5)"
   ]
  },
  {
   "cell_type": "code",
   "execution_count": null,
   "metadata": {},
   "outputs": [],
   "source": [
    "%timeit ellipkinc(0.5, 0.5)"
   ]
  },
  {
   "cell_type": "code",
   "execution_count": null,
   "metadata": {},
   "outputs": [],
   "source": []
  }
 ],
 "metadata": {
  "kernelspec": {
   "display_name": "Python 3",
   "language": "python",
   "name": "python3"
  },
  "language_info": {
   "codemirror_mode": {
    "name": "ipython",
    "version": 3
   },
   "file_extension": ".py",
   "mimetype": "text/x-python",
   "name": "python",
   "nbconvert_exporter": "python",
   "pygments_lexer": "ipython3",
   "version": "3.8.6"
  }
 },
 "nbformat": 4,
 "nbformat_minor": 4
}
